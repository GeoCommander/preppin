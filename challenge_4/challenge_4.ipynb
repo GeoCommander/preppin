{
 "cells": [
  {
   "cell_type": "markdown",
   "metadata": {},
   "source": [
    "Combine dataframes:\n",
    "- pl.concat([df1,df2])\n",
    "\n",
    "Add column with constant:\n",
    "- pl.lit(1).alias('Column with constant')\n",
    "\n",
    "Deduplicate column:\n",
    "- result.filter(~pl.col(\"ID\").is_duplicated())\n",
    "\n"
   ]
  },
  {
   "cell_type": "code",
   "execution_count": 1,
   "metadata": {},
   "outputs": [],
   "source": [
    "import polars as pl\n",
    "\n",
    "\n",
    "file='/home/gio/Downloads/New Customers.xlsx'\n",
    "\n",
    "df1=pl.read_excel(file,sheet_id=1)\n",
    "df2=pl.read_excel(file,sheet_id=2)\n",
    "df3=pl.read_excel(file,sheet_id=3)\n",
    "df4=pl.read_excel(file,sheet_id=4)\n",
    "df5=pl.read_excel(file,sheet_id=5)\n",
    "df6=pl.read_excel(file,sheet_id=6)\n",
    "df7=pl.read_excel(file,sheet_id=7)\n",
    "df8=pl.read_excel(file,sheet_id=8)\n",
    "df9=pl.read_excel(file,sheet_id=9)\n",
    "df10=pl.read_excel(file,sheet_id=10)\n",
    "df11=pl.read_excel(file,sheet_id=11)\n",
    "df12=pl.read_excel(file,sheet_id=12)\n",
    "\n",
    "\n",
    "df1=df1.with_columns(pl.lit(1).alias('Joining Month'))\n",
    "df2=df2.with_columns(pl.lit(2).alias('Joining Month'))\n",
    "df3=df3.with_columns(pl.lit(3).alias('Joining Month'))\n",
    "df4=df4.with_columns(pl.lit(4).alias('Joining Month'))\n",
    "df5=df5.with_columns(pl.lit(5).alias('Joining Month'))\n",
    "df6=df6.with_columns(pl.lit(6).alias('Joining Month'))\n",
    "df7=df7.with_columns(pl.lit(7).alias('Joining Month'))\n",
    "df8=df8.with_columns(pl.lit(8).alias('Joining Month'))\n",
    "df9=df9.with_columns(pl.lit(9).alias('Joining Month'))\n",
    "df10=df10.with_columns(pl.lit(10).alias('Joining Month'))\n",
    "df11=df11.with_columns(pl.lit(11).alias('Joining Month'))\n",
    "df12=df12.with_columns(pl.lit(12).alias('Joining Month'))"
   ]
  },
  {
   "cell_type": "code",
   "execution_count": 2,
   "metadata": {},
   "outputs": [],
   "source": [
    "result=pl.concat([df1,df2,df3,df4,df5,df6,df7,df8,df9,df10,df11,df12])"
   ]
  },
  {
   "cell_type": "code",
   "execution_count": 3,
   "metadata": {},
   "outputs": [
    {
     "name": "stderr",
     "output_type": "stream",
     "text": [
      "/tmp/ipykernel_744050/2038800930.py:1: DeprecationWarning: In a future version of polars, the default `aggregate_function` will change from `'first'` to `None`. Please pass `'first'` to keep the current behaviour, or `None` to accept the new one.\n",
      "  result=result.pivot(\n"
     ]
    }
   ],
   "source": [
    "result=result.pivot(\n",
    "    index=['ID','Joining Month','Joining Day'],\n",
    "    columns='Demographic',\n",
    "    values='Value'\n",
    ")\n",
    "\n",
    "# (\n",
    "#     sales_data\n",
    "#     .pivot(\n",
    "#         index='date', \n",
    "#         columns='bike_type', \n",
    "#         values='sales'\n",
    "#     )\n",
    "# )"
   ]
  },
  {
   "cell_type": "code",
   "execution_count": 4,
   "metadata": {},
   "outputs": [
    {
     "data": {
      "text/html": [
       "<div><style>\n",
       ".dataframe > thead > tr > th,\n",
       ".dataframe > tbody > tr > td {\n",
       "  text-align: right;\n",
       "}\n",
       "</style>\n",
       "<small>shape: (5, 6)</small><table border=\"1\" class=\"dataframe\"><thead><tr><th>ID</th><th>Joining Month</th><th>Joining Day</th><th>Ethnicity</th><th>Date of Birth</th><th>Account Type</th></tr><tr><td>i64</td><td>i32</td><td>i64</td><td>str</td><td>str</td><td>str</td></tr></thead><tbody><tr><td>490910</td><td>1</td><td>3</td><td>&quot;White&quot;</td><td>&quot;5/23/1981&quot;</td><td>&quot;Basic&quot;</td></tr><tr><td>369221</td><td>1</td><td>18</td><td>&quot;Black&quot;</td><td>&quot;3/4/2019&quot;</td><td>&quot;Platinum&quot;</td></tr><tr><td>568991</td><td>1</td><td>16</td><td>&quot;White&quot;</td><td>&quot;4/27/1979&quot;</td><td>&quot;Gold&quot;</td></tr><tr><td>191607</td><td>1</td><td>9</td><td>&quot;White&quot;</td><td>&quot;3/15/1963&quot;</td><td>&quot;Gold&quot;</td></tr><tr><td>612794</td><td>1</td><td>29</td><td>&quot;Asian&quot;</td><td>&quot;11/12/1981&quot;</td><td>&quot;Basic&quot;</td></tr></tbody></table></div>"
      ],
      "text/plain": [
       "shape: (5, 6)\n",
       "┌────────┬───────────────┬─────────────┬───────────┬───────────────┬──────────────┐\n",
       "│ ID     ┆ Joining Month ┆ Joining Day ┆ Ethnicity ┆ Date of Birth ┆ Account Type │\n",
       "│ ---    ┆ ---           ┆ ---         ┆ ---       ┆ ---           ┆ ---          │\n",
       "│ i64    ┆ i32           ┆ i64         ┆ str       ┆ str           ┆ str          │\n",
       "╞════════╪═══════════════╪═════════════╪═══════════╪═══════════════╪══════════════╡\n",
       "│ 490910 ┆ 1             ┆ 3           ┆ White     ┆ 5/23/1981     ┆ Basic        │\n",
       "│ 369221 ┆ 1             ┆ 18          ┆ Black     ┆ 3/4/2019      ┆ Platinum     │\n",
       "│ 568991 ┆ 1             ┆ 16          ┆ White     ┆ 4/27/1979     ┆ Gold         │\n",
       "│ 191607 ┆ 1             ┆ 9           ┆ White     ┆ 3/15/1963     ┆ Gold         │\n",
       "│ 612794 ┆ 1             ┆ 29          ┆ Asian     ┆ 11/12/1981    ┆ Basic        │\n",
       "└────────┴───────────────┴─────────────┴───────────┴───────────────┴──────────────┘"
      ]
     },
     "execution_count": 4,
     "metadata": {},
     "output_type": "execute_result"
    }
   ],
   "source": [
    "result.head()"
   ]
  },
  {
   "cell_type": "code",
   "execution_count": 5,
   "metadata": {},
   "outputs": [
    {
     "data": {
      "text/html": [
       "<div><style>\n",
       ".dataframe > thead > tr > th,\n",
       ".dataframe > tbody > tr > td {\n",
       "  text-align: right;\n",
       "}\n",
       "</style>\n",
       "<small>shape: (9, 7)</small><table border=\"1\" class=\"dataframe\"><thead><tr><th>describe</th><th>ID</th><th>Joining Month</th><th>Joining Day</th><th>Ethnicity</th><th>Date of Birth</th><th>Account Type</th></tr><tr><td>str</td><td>f64</td><td>f64</td><td>f64</td><td>str</td><td>str</td><td>str</td></tr></thead><tbody><tr><td>&quot;count&quot;</td><td>988.0</td><td>988.0</td><td>988.0</td><td>&quot;988&quot;</td><td>&quot;988&quot;</td><td>&quot;988&quot;</td></tr><tr><td>&quot;null_count&quot;</td><td>0.0</td><td>0.0</td><td>0.0</td><td>&quot;0&quot;</td><td>&quot;0&quot;</td><td>&quot;0&quot;</td></tr><tr><td>&quot;mean&quot;</td><td>552051.067814</td><td>6.484818</td><td>16.076923</td><td>null</td><td>null</td><td>null</td></tr><tr><td>&quot;std&quot;</td><td>262654.30852</td><td>3.458946</td><td>8.850335</td><td>null</td><td>null</td><td>null</td></tr><tr><td>&quot;min&quot;</td><td>100185.0</td><td>1.0</td><td>1.0</td><td>&quot;Asian&quot;</td><td>&quot;1/1/1940&quot;</td><td>&quot;Basic&quot;</td></tr><tr><td>&quot;max&quot;</td><td>997703.0</td><td>12.0</td><td>31.0</td><td>&quot;White&quot;</td><td>&quot;9/9/1999&quot;</td><td>&quot;Platinum&quot;</td></tr><tr><td>&quot;median&quot;</td><td>559720.0</td><td>6.0</td><td>16.0</td><td>null</td><td>null</td><td>null</td></tr><tr><td>&quot;25%&quot;</td><td>314997.0</td><td>4.0</td><td>9.0</td><td>null</td><td>null</td><td>null</td></tr><tr><td>&quot;75%&quot;</td><td>777515.0</td><td>9.0</td><td>24.0</td><td>null</td><td>null</td><td>null</td></tr></tbody></table></div>"
      ],
      "text/plain": [
       "shape: (9, 7)\n",
       "┌────────────┬────────────────┬──────────┬─────────────┬───────────┬────────────────┬──────────────┐\n",
       "│ describe   ┆ ID             ┆ Joining  ┆ Joining Day ┆ Ethnicity ┆ Date of Birth  ┆ Account Type │\n",
       "│ ---        ┆ ---            ┆ Month    ┆ ---         ┆ ---       ┆ ---            ┆ ---          │\n",
       "│ str        ┆ f64            ┆ ---      ┆ f64         ┆ str       ┆ str            ┆ str          │\n",
       "│            ┆                ┆ f64      ┆             ┆           ┆                ┆              │\n",
       "╞════════════╪════════════════╪══════════╪═════════════╪═══════════╪════════════════╪══════════════╡\n",
       "│ count      ┆ 988.0          ┆ 988.0    ┆ 988.0       ┆ 988       ┆ 988            ┆ 988          │\n",
       "│ null_count ┆ 0.0            ┆ 0.0      ┆ 0.0         ┆ 0         ┆ 0              ┆ 0            │\n",
       "│ mean       ┆ 552051.067814  ┆ 6.484818 ┆ 16.076923   ┆ null      ┆ null           ┆ null         │\n",
       "│ std        ┆ 262654.30852   ┆ 3.458946 ┆ 8.850335    ┆ null      ┆ null           ┆ null         │\n",
       "│ min        ┆ 100185.0       ┆ 1.0      ┆ 1.0         ┆ Asian     ┆ 1/1/1940       ┆ Basic        │\n",
       "│ max        ┆ 997703.0       ┆ 12.0     ┆ 31.0        ┆ White     ┆ 9/9/1999       ┆ Platinum     │\n",
       "│ median     ┆ 559720.0       ┆ 6.0      ┆ 16.0        ┆ null      ┆ null           ┆ null         │\n",
       "│ 25%        ┆ 314997.0       ┆ 4.0      ┆ 9.0         ┆ null      ┆ null           ┆ null         │\n",
       "│ 75%        ┆ 777515.0       ┆ 9.0      ┆ 24.0        ┆ null      ┆ null           ┆ null         │\n",
       "└────────────┴────────────────┴──────────┴─────────────┴───────────┴────────────────┴──────────────┘"
      ]
     },
     "execution_count": 5,
     "metadata": {},
     "output_type": "execute_result"
    }
   ],
   "source": [
    "# result2 = result.filter(~result[\"ID\"].is_duplicated())\n",
    "result2 = result.filter(~pl.col(\"ID\").is_duplicated())\n",
    "\n",
    "result2.describe()"
   ]
  },
  {
   "cell_type": "code",
   "execution_count": 6,
   "metadata": {},
   "outputs": [
    {
     "data": {
      "text/html": [
       "<div><style>\n",
       ".dataframe > thead > tr > th,\n",
       ".dataframe > tbody > tr > td {\n",
       "  text-align: right;\n",
       "}\n",
       "</style>\n",
       "<small>shape: (5, 6)</small><table border=\"1\" class=\"dataframe\"><thead><tr><th>ID</th><th>Joining Month</th><th>Joining Day</th><th>Ethnicity</th><th>Date of Birth</th><th>Account Type</th></tr><tr><td>i64</td><td>i32</td><td>i64</td><td>str</td><td>str</td><td>str</td></tr></thead><tbody><tr><td>490910</td><td>1</td><td>3</td><td>&quot;White&quot;</td><td>&quot;5/23/1981&quot;</td><td>&quot;Basic&quot;</td></tr><tr><td>369221</td><td>1</td><td>18</td><td>&quot;Black&quot;</td><td>&quot;3/4/2019&quot;</td><td>&quot;Platinum&quot;</td></tr><tr><td>568991</td><td>1</td><td>16</td><td>&quot;White&quot;</td><td>&quot;4/27/1979&quot;</td><td>&quot;Gold&quot;</td></tr><tr><td>191607</td><td>1</td><td>9</td><td>&quot;White&quot;</td><td>&quot;3/15/1963&quot;</td><td>&quot;Gold&quot;</td></tr><tr><td>612794</td><td>1</td><td>29</td><td>&quot;Asian&quot;</td><td>&quot;11/12/1981&quot;</td><td>&quot;Basic&quot;</td></tr></tbody></table></div>"
      ],
      "text/plain": [
       "shape: (5, 6)\n",
       "┌────────┬───────────────┬─────────────┬───────────┬───────────────┬──────────────┐\n",
       "│ ID     ┆ Joining Month ┆ Joining Day ┆ Ethnicity ┆ Date of Birth ┆ Account Type │\n",
       "│ ---    ┆ ---           ┆ ---         ┆ ---       ┆ ---           ┆ ---          │\n",
       "│ i64    ┆ i32           ┆ i64         ┆ str       ┆ str           ┆ str          │\n",
       "╞════════╪═══════════════╪═════════════╪═══════════╪═══════════════╪══════════════╡\n",
       "│ 490910 ┆ 1             ┆ 3           ┆ White     ┆ 5/23/1981     ┆ Basic        │\n",
       "│ 369221 ┆ 1             ┆ 18          ┆ Black     ┆ 3/4/2019      ┆ Platinum     │\n",
       "│ 568991 ┆ 1             ┆ 16          ┆ White     ┆ 4/27/1979     ┆ Gold         │\n",
       "│ 191607 ┆ 1             ┆ 9           ┆ White     ┆ 3/15/1963     ┆ Gold         │\n",
       "│ 612794 ┆ 1             ┆ 29          ┆ Asian     ┆ 11/12/1981    ┆ Basic        │\n",
       "└────────┴───────────────┴─────────────┴───────────┴───────────────┴──────────────┘"
      ]
     },
     "execution_count": 6,
     "metadata": {},
     "output_type": "execute_result"
    }
   ],
   "source": [
    "result2.head()"
   ]
  }
 ],
 "metadata": {
  "kernelspec": {
   "display_name": "env",
   "language": "python",
   "name": "python3"
  },
  "language_info": {
   "codemirror_mode": {
    "name": "ipython",
    "version": 3
   },
   "file_extension": ".py",
   "mimetype": "text/x-python",
   "name": "python",
   "nbconvert_exporter": "python",
   "pygments_lexer": "ipython3",
   "version": "3.10.11"
  },
  "orig_nbformat": 4
 },
 "nbformat": 4,
 "nbformat_minor": 2
}
