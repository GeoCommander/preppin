{
 "cells": [
  {
   "cell_type": "code",
   "execution_count": 1,
   "id": "062db3f6-91d6-44c3-9825-0216788984e8",
   "metadata": {},
   "outputs": [],
   "source": [
    "import pandas as pd\n",
    "\n",
    "url='https://drive.google.com/u/0/uc?id=1oln2ri6nu1wDQfT3gQMLLNlmQ2h6B9d9&export=download'"
   ]
  },
  {
   "cell_type": "code",
   "execution_count": 2,
   "id": "868836e9-7ac3-4b65-9858-6e26433f57af",
   "metadata": {},
   "outputs": [],
   "source": [
    "df=pd.read_csv(url)"
   ]
  },
  {
   "cell_type": "code",
   "execution_count": 3,
   "id": "901c83b9-f049-4d27-bf28-f976afd04f34",
   "metadata": {},
   "outputs": [
    {
     "data": {
      "text/html": [
       "<div>\n",
       "<style scoped>\n",
       "    .dataframe tbody tr th:only-of-type {\n",
       "        vertical-align: middle;\n",
       "    }\n",
       "\n",
       "    .dataframe tbody tr th {\n",
       "        vertical-align: top;\n",
       "    }\n",
       "\n",
       "    .dataframe thead th {\n",
       "        text-align: right;\n",
       "    }\n",
       "</style>\n",
       "<table border=\"1\" class=\"dataframe\">\n",
       "  <thead>\n",
       "    <tr style=\"text-align: right;\">\n",
       "      <th></th>\n",
       "      <th>Transaction Code</th>\n",
       "      <th>Value</th>\n",
       "      <th>Customer Code</th>\n",
       "      <th>Online or In-Person</th>\n",
       "      <th>Transaction Date</th>\n",
       "    </tr>\n",
       "  </thead>\n",
       "  <tbody>\n",
       "    <tr>\n",
       "      <th>0</th>\n",
       "      <td>DTB-716-679-576</td>\n",
       "      <td>1448</td>\n",
       "      <td>100001</td>\n",
       "      <td>2</td>\n",
       "      <td>20/03/2023 00:00:00</td>\n",
       "    </tr>\n",
       "    <tr>\n",
       "      <th>1</th>\n",
       "      <td>DS-795-814-303</td>\n",
       "      <td>7839</td>\n",
       "      <td>100001</td>\n",
       "      <td>2</td>\n",
       "      <td>15/11/2023 00:00:00</td>\n",
       "    </tr>\n",
       "    <tr>\n",
       "      <th>2</th>\n",
       "      <td>DSB-807-592-406</td>\n",
       "      <td>5520</td>\n",
       "      <td>100005</td>\n",
       "      <td>1</td>\n",
       "      <td>14/07/2023 00:00:00</td>\n",
       "    </tr>\n",
       "    <tr>\n",
       "      <th>3</th>\n",
       "      <td>DS-367-545-264</td>\n",
       "      <td>7957</td>\n",
       "      <td>100007</td>\n",
       "      <td>2</td>\n",
       "      <td>18/08/2023 00:00:00</td>\n",
       "    </tr>\n",
       "    <tr>\n",
       "      <th>4</th>\n",
       "      <td>DSB-474-374-857</td>\n",
       "      <td>5375</td>\n",
       "      <td>100000</td>\n",
       "      <td>2</td>\n",
       "      <td>26/08/2023 00:00:00</td>\n",
       "    </tr>\n",
       "  </tbody>\n",
       "</table>\n",
       "</div>"
      ],
      "text/plain": [
       "  Transaction Code  Value  Customer Code  Online or In-Person  \\\n",
       "0  DTB-716-679-576   1448         100001                    2   \n",
       "1   DS-795-814-303   7839         100001                    2   \n",
       "2  DSB-807-592-406   5520         100005                    1   \n",
       "3   DS-367-545-264   7957         100007                    2   \n",
       "4  DSB-474-374-857   5375         100000                    2   \n",
       "\n",
       "      Transaction Date  \n",
       "0  20/03/2023 00:00:00  \n",
       "1  15/11/2023 00:00:00  \n",
       "2  14/07/2023 00:00:00  \n",
       "3  18/08/2023 00:00:00  \n",
       "4  26/08/2023 00:00:00  "
      ]
     },
     "execution_count": 3,
     "metadata": {},
     "output_type": "execute_result"
    }
   ],
   "source": [
    "df.head()"
   ]
  },
  {
   "cell_type": "code",
   "execution_count": 4,
   "id": "21c91c79-0d05-425f-8206-c1edaec5d9e9",
   "metadata": {},
   "outputs": [
    {
     "data": {
      "text/plain": [
       "Transaction Code       object\n",
       "Value                   int64\n",
       "Customer Code           int64\n",
       "Online or In-Person     int64\n",
       "Transaction Date       object\n",
       "dtype: object"
      ]
     },
     "execution_count": 4,
     "metadata": {},
     "output_type": "execute_result"
    }
   ],
   "source": [
    "df.dtypes"
   ]
  },
  {
   "cell_type": "code",
   "execution_count": 5,
   "id": "2696e922-0531-44a7-8937-7ec3fc2d3b86",
   "metadata": {},
   "outputs": [],
   "source": [
    "df[['Bank','Transaction Code']]=df['Transaction Code'].str.split('-',n=1,expand=True)"
   ]
  },
  {
   "cell_type": "code",
   "execution_count": 6,
   "id": "9d9672f6-62ed-412b-8338-70066d2ce5bb",
   "metadata": {},
   "outputs": [
    {
     "data": {
      "text/html": [
       "<div>\n",
       "<style scoped>\n",
       "    .dataframe tbody tr th:only-of-type {\n",
       "        vertical-align: middle;\n",
       "    }\n",
       "\n",
       "    .dataframe tbody tr th {\n",
       "        vertical-align: top;\n",
       "    }\n",
       "\n",
       "    .dataframe thead th {\n",
       "        text-align: right;\n",
       "    }\n",
       "</style>\n",
       "<table border=\"1\" class=\"dataframe\">\n",
       "  <thead>\n",
       "    <tr style=\"text-align: right;\">\n",
       "      <th></th>\n",
       "      <th>Transaction Code</th>\n",
       "      <th>Value</th>\n",
       "      <th>Customer Code</th>\n",
       "      <th>Online or In-Person</th>\n",
       "      <th>Transaction Date</th>\n",
       "      <th>Bank</th>\n",
       "    </tr>\n",
       "  </thead>\n",
       "  <tbody>\n",
       "    <tr>\n",
       "      <th>0</th>\n",
       "      <td>716-679-576</td>\n",
       "      <td>1448</td>\n",
       "      <td>100001</td>\n",
       "      <td>2</td>\n",
       "      <td>20/03/2023 00:00:00</td>\n",
       "      <td>DTB</td>\n",
       "    </tr>\n",
       "    <tr>\n",
       "      <th>1</th>\n",
       "      <td>795-814-303</td>\n",
       "      <td>7839</td>\n",
       "      <td>100001</td>\n",
       "      <td>2</td>\n",
       "      <td>15/11/2023 00:00:00</td>\n",
       "      <td>DS</td>\n",
       "    </tr>\n",
       "    <tr>\n",
       "      <th>2</th>\n",
       "      <td>807-592-406</td>\n",
       "      <td>5520</td>\n",
       "      <td>100005</td>\n",
       "      <td>1</td>\n",
       "      <td>14/07/2023 00:00:00</td>\n",
       "      <td>DSB</td>\n",
       "    </tr>\n",
       "    <tr>\n",
       "      <th>3</th>\n",
       "      <td>367-545-264</td>\n",
       "      <td>7957</td>\n",
       "      <td>100007</td>\n",
       "      <td>2</td>\n",
       "      <td>18/08/2023 00:00:00</td>\n",
       "      <td>DS</td>\n",
       "    </tr>\n",
       "    <tr>\n",
       "      <th>4</th>\n",
       "      <td>474-374-857</td>\n",
       "      <td>5375</td>\n",
       "      <td>100000</td>\n",
       "      <td>2</td>\n",
       "      <td>26/08/2023 00:00:00</td>\n",
       "      <td>DSB</td>\n",
       "    </tr>\n",
       "  </tbody>\n",
       "</table>\n",
       "</div>"
      ],
      "text/plain": [
       "  Transaction Code  Value  Customer Code  Online or In-Person  \\\n",
       "0      716-679-576   1448         100001                    2   \n",
       "1      795-814-303   7839         100001                    2   \n",
       "2      807-592-406   5520         100005                    1   \n",
       "3      367-545-264   7957         100007                    2   \n",
       "4      474-374-857   5375         100000                    2   \n",
       "\n",
       "      Transaction Date Bank  \n",
       "0  20/03/2023 00:00:00  DTB  \n",
       "1  15/11/2023 00:00:00   DS  \n",
       "2  14/07/2023 00:00:00  DSB  \n",
       "3  18/08/2023 00:00:00   DS  \n",
       "4  26/08/2023 00:00:00  DSB  "
      ]
     },
     "execution_count": 6,
     "metadata": {},
     "output_type": "execute_result"
    }
   ],
   "source": [
    "df.head()"
   ]
  },
  {
   "cell_type": "code",
   "execution_count": 7,
   "id": "978000fd-7509-402a-8884-1c7f7b6ef78b",
   "metadata": {},
   "outputs": [],
   "source": [
    "df=df[['Transaction Code','Bank','Value','Customer Code','Online or In-Person','Transaction Date']]"
   ]
  },
  {
   "cell_type": "code",
   "execution_count": 8,
   "id": "d6351e13-7bde-4ed2-bb7c-d1772a4560e9",
   "metadata": {},
   "outputs": [
    {
     "data": {
      "text/html": [
       "<div>\n",
       "<style scoped>\n",
       "    .dataframe tbody tr th:only-of-type {\n",
       "        vertical-align: middle;\n",
       "    }\n",
       "\n",
       "    .dataframe tbody tr th {\n",
       "        vertical-align: top;\n",
       "    }\n",
       "\n",
       "    .dataframe thead th {\n",
       "        text-align: right;\n",
       "    }\n",
       "</style>\n",
       "<table border=\"1\" class=\"dataframe\">\n",
       "  <thead>\n",
       "    <tr style=\"text-align: right;\">\n",
       "      <th></th>\n",
       "      <th>Transaction Code</th>\n",
       "      <th>Bank</th>\n",
       "      <th>Value</th>\n",
       "      <th>Customer Code</th>\n",
       "      <th>Online or In-Person</th>\n",
       "      <th>Transaction Date</th>\n",
       "    </tr>\n",
       "  </thead>\n",
       "  <tbody>\n",
       "    <tr>\n",
       "      <th>0</th>\n",
       "      <td>716-679-576</td>\n",
       "      <td>DTB</td>\n",
       "      <td>1448</td>\n",
       "      <td>100001</td>\n",
       "      <td>2</td>\n",
       "      <td>20/03/2023 00:00:00</td>\n",
       "    </tr>\n",
       "    <tr>\n",
       "      <th>1</th>\n",
       "      <td>795-814-303</td>\n",
       "      <td>DS</td>\n",
       "      <td>7839</td>\n",
       "      <td>100001</td>\n",
       "      <td>2</td>\n",
       "      <td>15/11/2023 00:00:00</td>\n",
       "    </tr>\n",
       "    <tr>\n",
       "      <th>2</th>\n",
       "      <td>807-592-406</td>\n",
       "      <td>DSB</td>\n",
       "      <td>5520</td>\n",
       "      <td>100005</td>\n",
       "      <td>1</td>\n",
       "      <td>14/07/2023 00:00:00</td>\n",
       "    </tr>\n",
       "    <tr>\n",
       "      <th>3</th>\n",
       "      <td>367-545-264</td>\n",
       "      <td>DS</td>\n",
       "      <td>7957</td>\n",
       "      <td>100007</td>\n",
       "      <td>2</td>\n",
       "      <td>18/08/2023 00:00:00</td>\n",
       "    </tr>\n",
       "    <tr>\n",
       "      <th>4</th>\n",
       "      <td>474-374-857</td>\n",
       "      <td>DSB</td>\n",
       "      <td>5375</td>\n",
       "      <td>100000</td>\n",
       "      <td>2</td>\n",
       "      <td>26/08/2023 00:00:00</td>\n",
       "    </tr>\n",
       "  </tbody>\n",
       "</table>\n",
       "</div>"
      ],
      "text/plain": [
       "  Transaction Code Bank  Value  Customer Code  Online or In-Person  \\\n",
       "0      716-679-576  DTB   1448         100001                    2   \n",
       "1      795-814-303   DS   7839         100001                    2   \n",
       "2      807-592-406  DSB   5520         100005                    1   \n",
       "3      367-545-264   DS   7957         100007                    2   \n",
       "4      474-374-857  DSB   5375         100000                    2   \n",
       "\n",
       "      Transaction Date  \n",
       "0  20/03/2023 00:00:00  \n",
       "1  15/11/2023 00:00:00  \n",
       "2  14/07/2023 00:00:00  \n",
       "3  18/08/2023 00:00:00  \n",
       "4  26/08/2023 00:00:00  "
      ]
     },
     "execution_count": 8,
     "metadata": {},
     "output_type": "execute_result"
    }
   ],
   "source": [
    "df.head()"
   ]
  },
  {
   "cell_type": "code",
   "execution_count": 9,
   "id": "6fca234b-c743-4a43-9407-46ce55b2b15c",
   "metadata": {},
   "outputs": [],
   "source": [
    "df['Online or In-Person']=df['Online or In-Person'].replace({1:'Online',2:'In-Person'})"
   ]
  },
  {
   "cell_type": "code",
   "execution_count": 10,
   "id": "fdcfa465-d72a-41ae-a4fa-70562f991970",
   "metadata": {},
   "outputs": [
    {
     "data": {
      "text/html": [
       "<div>\n",
       "<style scoped>\n",
       "    .dataframe tbody tr th:only-of-type {\n",
       "        vertical-align: middle;\n",
       "    }\n",
       "\n",
       "    .dataframe tbody tr th {\n",
       "        vertical-align: top;\n",
       "    }\n",
       "\n",
       "    .dataframe thead th {\n",
       "        text-align: right;\n",
       "    }\n",
       "</style>\n",
       "<table border=\"1\" class=\"dataframe\">\n",
       "  <thead>\n",
       "    <tr style=\"text-align: right;\">\n",
       "      <th></th>\n",
       "      <th>Transaction Code</th>\n",
       "      <th>Bank</th>\n",
       "      <th>Value</th>\n",
       "      <th>Customer Code</th>\n",
       "      <th>Online or In-Person</th>\n",
       "      <th>Transaction Date</th>\n",
       "    </tr>\n",
       "  </thead>\n",
       "  <tbody>\n",
       "    <tr>\n",
       "      <th>0</th>\n",
       "      <td>716-679-576</td>\n",
       "      <td>DTB</td>\n",
       "      <td>1448</td>\n",
       "      <td>100001</td>\n",
       "      <td>In-Person</td>\n",
       "      <td>20/03/2023 00:00:00</td>\n",
       "    </tr>\n",
       "    <tr>\n",
       "      <th>1</th>\n",
       "      <td>795-814-303</td>\n",
       "      <td>DS</td>\n",
       "      <td>7839</td>\n",
       "      <td>100001</td>\n",
       "      <td>In-Person</td>\n",
       "      <td>15/11/2023 00:00:00</td>\n",
       "    </tr>\n",
       "    <tr>\n",
       "      <th>2</th>\n",
       "      <td>807-592-406</td>\n",
       "      <td>DSB</td>\n",
       "      <td>5520</td>\n",
       "      <td>100005</td>\n",
       "      <td>Online</td>\n",
       "      <td>14/07/2023 00:00:00</td>\n",
       "    </tr>\n",
       "    <tr>\n",
       "      <th>3</th>\n",
       "      <td>367-545-264</td>\n",
       "      <td>DS</td>\n",
       "      <td>7957</td>\n",
       "      <td>100007</td>\n",
       "      <td>In-Person</td>\n",
       "      <td>18/08/2023 00:00:00</td>\n",
       "    </tr>\n",
       "    <tr>\n",
       "      <th>4</th>\n",
       "      <td>474-374-857</td>\n",
       "      <td>DSB</td>\n",
       "      <td>5375</td>\n",
       "      <td>100000</td>\n",
       "      <td>In-Person</td>\n",
       "      <td>26/08/2023 00:00:00</td>\n",
       "    </tr>\n",
       "  </tbody>\n",
       "</table>\n",
       "</div>"
      ],
      "text/plain": [
       "  Transaction Code Bank  Value  Customer Code Online or In-Person  \\\n",
       "0      716-679-576  DTB   1448         100001           In-Person   \n",
       "1      795-814-303   DS   7839         100001           In-Person   \n",
       "2      807-592-406  DSB   5520         100005              Online   \n",
       "3      367-545-264   DS   7957         100007           In-Person   \n",
       "4      474-374-857  DSB   5375         100000           In-Person   \n",
       "\n",
       "      Transaction Date  \n",
       "0  20/03/2023 00:00:00  \n",
       "1  15/11/2023 00:00:00  \n",
       "2  14/07/2023 00:00:00  \n",
       "3  18/08/2023 00:00:00  \n",
       "4  26/08/2023 00:00:00  "
      ]
     },
     "execution_count": 10,
     "metadata": {},
     "output_type": "execute_result"
    }
   ],
   "source": [
    "df.head()"
   ]
  },
  {
   "cell_type": "code",
   "execution_count": 11,
   "id": "26e7766f-4e2f-463c-9568-9ac49d6c203e",
   "metadata": {},
   "outputs": [
    {
     "data": {
      "text/plain": [
       "Transaction Code       object\n",
       "Bank                   object\n",
       "Value                   int64\n",
       "Customer Code           int64\n",
       "Online or In-Person    object\n",
       "Transaction Date       object\n",
       "dtype: object"
      ]
     },
     "execution_count": 11,
     "metadata": {},
     "output_type": "execute_result"
    }
   ],
   "source": [
    "df.dtypes"
   ]
  },
  {
   "cell_type": "code",
   "execution_count": 12,
   "id": "5cbf04dc-3a7e-4e20-80c4-f6525bbedd18",
   "metadata": {},
   "outputs": [
    {
     "name": "stderr",
     "output_type": "stream",
     "text": [
      "C:\\Users\\gioe1\\AppData\\Local\\Temp\\ipykernel_13784\\204886444.py:1: UserWarning: Parsing dates in %d/%m/%Y %H:%M:%S format when dayfirst=False (the default) was specified. Pass `dayfirst=True` or specify a format to silence this warning.\n",
      "  df['Transaction Date']=pd.to_datetime(df['Transaction Date'])\n"
     ]
    }
   ],
   "source": [
    "df['Transaction Date']=pd.to_datetime(df['Transaction Date'])"
   ]
  },
  {
   "cell_type": "code",
   "execution_count": 13,
   "id": "335cf6b5-b490-4194-9704-b48296d94587",
   "metadata": {},
   "outputs": [],
   "source": [
    "df['Transaction Date']=df['Transaction Date'].dt.strftime('%A')"
   ]
  },
  {
   "cell_type": "code",
   "execution_count": 19,
   "id": "2f369482-9836-4317-b390-b1572a0b24c2",
   "metadata": {},
   "outputs": [],
   "source": [
    "by_bank=df.groupby(['Bank'])['Value'].sum()\n",
    "by_3=df.groupby(['Bank','Transaction Date','Online or In-Person'])['Value'].sum()\n",
    "by_2=df.groupby(['Bank','Customer Code'])['Value'].sum\n",
    "\n",
    "df.to_csv('1.csv',index=False)"
   ]
  },
  {
   "cell_type": "code",
   "execution_count": 15,
   "id": "1bda1a95-7aa7-41d5-a02e-b7f5ab3f58bf",
   "metadata": {},
   "outputs": [
    {
     "name": "stdout",
     "output_type": "stream",
     "text": [
      "Bank\n",
      "DS     653940\n",
      "DSB    530489\n",
      "DTB    618238\n",
      "Name: Value, dtype: int64\n"
     ]
    }
   ],
   "source": [
    "print(by_bank)"
   ]
  },
  {
   "cell_type": "code",
   "execution_count": 16,
   "id": "3d8aed27-96ef-4675-ae18-7e9373b971fc",
   "metadata": {},
   "outputs": [
    {
     "name": "stdout",
     "output_type": "stream",
     "text": [
      "Bank  Transaction Date  Online or In-Person\n",
      "DS    Friday            In-Person              58599\n",
      "                        Online                 58731\n",
      "      Monday            In-Person              42806\n",
      "                        Online                 33563\n",
      "      Saturday          In-Person              34867\n",
      "                        Online                 71357\n",
      "      Sunday            In-Person              51301\n",
      "                        Online                 21761\n",
      "      Thursday          In-Person              75582\n",
      "                        Online                 13337\n",
      "      Tuesday           In-Person              32607\n",
      "                        Online                 36639\n",
      "      Wednesday         In-Person              63686\n",
      "                        Online                 59104\n",
      "DSB   Friday            In-Person               9402\n",
      "                        Online                 45647\n",
      "      Monday            In-Person              43546\n",
      "                        Online                 31692\n",
      "      Saturday          In-Person              72679\n",
      "                        Online                 61350\n",
      "      Sunday            In-Person              37755\n",
      "                        Online                 13086\n",
      "      Thursday          In-Person              37567\n",
      "                        Online                 33463\n",
      "      Tuesday           In-Person              28604\n",
      "                        Online                 32257\n",
      "      Wednesday         In-Person              36069\n",
      "                        Online                 47372\n",
      "DTB   Friday            In-Person              41861\n",
      "                        Online                 27366\n",
      "      Monday            In-Person              21561\n",
      "                        Online                 38688\n",
      "      Saturday          In-Person              66334\n",
      "                        Online                 21392\n",
      "      Sunday            In-Person              29468\n",
      "                        Online                 49087\n",
      "      Thursday          In-Person              57605\n",
      "                        Online                 53756\n",
      "      Tuesday           In-Person              54029\n",
      "                        Online                 68959\n",
      "      Wednesday         In-Person              52819\n",
      "                        Online                 35313\n",
      "Name: Value, dtype: int64\n"
     ]
    }
   ],
   "source": [
    "print(by_3)"
   ]
  },
  {
   "cell_type": "code",
   "execution_count": 17,
   "id": "5d8c5f6b-be33-4928-a085-fd8e9fc1141e",
   "metadata": {},
   "outputs": [
    {
     "name": "stdout",
     "output_type": "stream",
     "text": [
      "Bank  Customer Code\n",
      "DS    100000           57909\n",
      "      100001           53063\n",
      "      100002           69803\n",
      "      100003           25482\n",
      "      100004           63315\n",
      "      100005           39668\n",
      "      100006           77636\n",
      "      100007           76190\n",
      "      100008           56400\n",
      "      100009           56581\n",
      "      100010           77893\n",
      "DSB   100000           27585\n",
      "      100001           67856\n",
      "      100002           27936\n",
      "      100003           58154\n",
      "      100004           39003\n",
      "      100005           56396\n",
      "      100006           32333\n",
      "      100007           29702\n",
      "      100008           47121\n",
      "      100009           51749\n",
      "      100010           92654\n",
      "DTB   100000           77252\n",
      "      100001           60675\n",
      "      100002           48616\n",
      "      100003           84574\n",
      "      100004           44435\n",
      "      100005           37795\n",
      "      100006           41909\n",
      "      100007           29308\n",
      "      100008           69352\n",
      "      100009           52926\n",
      "      100010           71396\n",
      "Name: Value, dtype: int64\n"
     ]
    }
   ],
   "source": [
    "print(by_2)"
   ]
  }
 ],
 "metadata": {
  "kernelspec": {
   "display_name": "Python 3 (ipykernel)",
   "language": "python",
   "name": "python3"
  },
  "language_info": {
   "codemirror_mode": {
    "name": "ipython",
    "version": 3
   },
   "file_extension": ".py",
   "mimetype": "text/x-python",
   "name": "python",
   "nbconvert_exporter": "python",
   "pygments_lexer": "ipython3",
   "version": "3.11.4"
  }
 },
 "nbformat": 4,
 "nbformat_minor": 5
}
