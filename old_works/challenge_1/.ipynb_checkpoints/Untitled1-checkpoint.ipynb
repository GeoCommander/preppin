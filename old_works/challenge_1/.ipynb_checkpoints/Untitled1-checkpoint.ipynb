{
 "cells": [
  {
   "cell_type": "code",
   "execution_count": 46,
   "id": "228ff38d-e971-491b-a632-1b11ddf2b978",
   "metadata": {},
   "outputs": [],
   "source": [
    "import pandas as pd\n",
    "\n",
    "data = [\n",
    "    ['John Doe',30,50000],\n",
    "    ['Jane Smith',35,60000],\n",
    "    ['Mark Johnson',28,45000],\n",
    "    ['Emily Davis',32,70000],\n",
    "    ['Gio E',27,56250]\n",
    "    ]\n",
    "\n",
    "columns=['Name','Age','Salary']\n",
    "\n",
    "df=pd.DataFrame(data,columns=columns)"
   ]
  },
  {
   "cell_type": "code",
   "execution_count": 47,
   "id": "c0efdcc6-6038-4a12-8002-f12e822496e1",
   "metadata": {},
   "outputs": [
    {
     "data": {
      "text/html": [
       "<div>\n",
       "<style scoped>\n",
       "    .dataframe tbody tr th:only-of-type {\n",
       "        vertical-align: middle;\n",
       "    }\n",
       "\n",
       "    .dataframe tbody tr th {\n",
       "        vertical-align: top;\n",
       "    }\n",
       "\n",
       "    .dataframe thead th {\n",
       "        text-align: right;\n",
       "    }\n",
       "</style>\n",
       "<table border=\"1\" class=\"dataframe\">\n",
       "  <thead>\n",
       "    <tr style=\"text-align: right;\">\n",
       "      <th></th>\n",
       "      <th>Name</th>\n",
       "      <th>Age</th>\n",
       "      <th>Salary</th>\n",
       "    </tr>\n",
       "  </thead>\n",
       "  <tbody>\n",
       "    <tr>\n",
       "      <th>0</th>\n",
       "      <td>John Doe</td>\n",
       "      <td>30</td>\n",
       "      <td>50000</td>\n",
       "    </tr>\n",
       "    <tr>\n",
       "      <th>1</th>\n",
       "      <td>Jane Smith</td>\n",
       "      <td>35</td>\n",
       "      <td>60000</td>\n",
       "    </tr>\n",
       "    <tr>\n",
       "      <th>2</th>\n",
       "      <td>Mark Johnson</td>\n",
       "      <td>28</td>\n",
       "      <td>45000</td>\n",
       "    </tr>\n",
       "    <tr>\n",
       "      <th>3</th>\n",
       "      <td>Emily Davis</td>\n",
       "      <td>32</td>\n",
       "      <td>70000</td>\n",
       "    </tr>\n",
       "    <tr>\n",
       "      <th>4</th>\n",
       "      <td>Gio E</td>\n",
       "      <td>27</td>\n",
       "      <td>56250</td>\n",
       "    </tr>\n",
       "  </tbody>\n",
       "</table>\n",
       "</div>"
      ],
      "text/plain": [
       "           Name  Age  Salary\n",
       "0      John Doe   30   50000\n",
       "1    Jane Smith   35   60000\n",
       "2  Mark Johnson   28   45000\n",
       "3   Emily Davis   32   70000\n",
       "4         Gio E   27   56250"
      ]
     },
     "execution_count": 47,
     "metadata": {},
     "output_type": "execute_result"
    }
   ],
   "source": [
    "df.head()"
   ]
  },
  {
   "cell_type": "code",
   "execution_count": 48,
   "id": "415ae0ab-1874-4052-a76c-2ff89f282e8b",
   "metadata": {},
   "outputs": [
    {
     "name": "stdout",
     "output_type": "stream",
     "text": [
      "56250.0\n"
     ]
    }
   ],
   "source": [
    "average=df['Salary'].mean()\n",
    "\n",
    "print(average)"
   ]
  },
  {
   "cell_type": "code",
   "execution_count": 45,
   "id": "2fadc4f5-c22a-421b-8332-54601f2b8803",
   "metadata": {},
   "outputs": [
    {
     "name": "stdout",
     "output_type": "stream",
     "text": [
      "          Name  Age  Salary\n",
      "1   Jane Smith   35   60000\n",
      "3  Emily Davis   32   70000\n"
     ]
    }
   ],
   "source": [
    "# Determine the Name who has average salary\n",
    "\n",
    "above_average_salary = df[df['Salary'] > average]\n",
    "\n",
    "print(above_average_salary)"
   ]
  },
  {
   "cell_type": "code",
   "execution_count": 56,
   "id": "90307b26-e68e-4a5b-a3fd-34d607cfcf2f",
   "metadata": {},
   "outputs": [
    {
     "name": "stdout",
     "output_type": "stream",
     "text": [
      "    Name  Age  Salary\n",
      "4  Gio E   27   56250\n"
     ]
    }
   ],
   "source": [
    "exactly_average = df[df['Salary'] == average]\n",
    "print(exactly_average)"
   ]
  }
 ],
 "metadata": {
  "kernelspec": {
   "display_name": "Python 3 (ipykernel)",
   "language": "python",
   "name": "python3"
  },
  "language_info": {
   "codemirror_mode": {
    "name": "ipython",
    "version": 3
   },
   "file_extension": ".py",
   "mimetype": "text/x-python",
   "name": "python",
   "nbconvert_exporter": "python",
   "pygments_lexer": "ipython3",
   "version": "3.11.4"
  }
 },
 "nbformat": 4,
 "nbformat_minor": 5
}
