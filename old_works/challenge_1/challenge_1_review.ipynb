{
 "cells": [
  {
   "cell_type": "code",
   "execution_count": 1,
   "id": "dbba1b49-38ff-4bf7-98c8-ba76902fa4ed",
   "metadata": {},
   "outputs": [],
   "source": [
    "import pandas as pd\n",
    "\n",
    "url='https://drive.google.com/u/0/uc?id=1oln2ri6nu1wDQfT3gQMLLNlmQ2h6B9d9&export=download'\n",
    "df=pd.read_csv(url)\n"
   ]
  },
  {
   "cell_type": "code",
   "execution_count": 8,
   "id": "296d09aa-8066-4a98-95e5-178b45aab522",
   "metadata": {},
   "outputs": [
    {
     "data": {
      "text/html": [
       "<div>\n",
       "<style scoped>\n",
       "    .dataframe tbody tr th:only-of-type {\n",
       "        vertical-align: middle;\n",
       "    }\n",
       "\n",
       "    .dataframe tbody tr th {\n",
       "        vertical-align: top;\n",
       "    }\n",
       "\n",
       "    .dataframe thead th {\n",
       "        text-align: right;\n",
       "    }\n",
       "</style>\n",
       "<table border=\"1\" class=\"dataframe\">\n",
       "  <thead>\n",
       "    <tr style=\"text-align: right;\">\n",
       "      <th></th>\n",
       "      <th>Transaction Code</th>\n",
       "      <th>Value</th>\n",
       "      <th>Customer Code</th>\n",
       "      <th>Online or In-Person</th>\n",
       "      <th>Transaction Date</th>\n",
       "    </tr>\n",
       "  </thead>\n",
       "  <tbody>\n",
       "    <tr>\n",
       "      <th>0</th>\n",
       "      <td>DTB-716-679-576</td>\n",
       "      <td>1448</td>\n",
       "      <td>100001</td>\n",
       "      <td>2</td>\n",
       "      <td>20/03/2023 00:00:00</td>\n",
       "    </tr>\n",
       "    <tr>\n",
       "      <th>1</th>\n",
       "      <td>DS-795-814-303</td>\n",
       "      <td>7839</td>\n",
       "      <td>100001</td>\n",
       "      <td>2</td>\n",
       "      <td>15/11/2023 00:00:00</td>\n",
       "    </tr>\n",
       "  </tbody>\n",
       "</table>\n",
       "</div>"
      ],
      "text/plain": [
       "  Transaction Code  Value  Customer Code  Online or In-Person  \\\n",
       "0  DTB-716-679-576   1448         100001                    2   \n",
       "1   DS-795-814-303   7839         100001                    2   \n",
       "\n",
       "      Transaction Date  \n",
       "0  20/03/2023 00:00:00  \n",
       "1  15/11/2023 00:00:00  "
      ]
     },
     "execution_count": 8,
     "metadata": {},
     "output_type": "execute_result"
    }
   ],
   "source": [
    "df.head(2)"
   ]
  },
  {
   "cell_type": "code",
   "execution_count": 7,
   "id": "92c709c2-fbef-42f8-8d5a-753bec4b3055",
   "metadata": {},
   "outputs": [
    {
     "data": {
      "text/plain": [
       "Transaction Code       object\n",
       "Value                   int64\n",
       "Customer Code           int64\n",
       "Online or In-Person     int64\n",
       "Transaction Date       object\n",
       "dtype: object"
      ]
     },
     "execution_count": 7,
     "metadata": {},
     "output_type": "execute_result"
    }
   ],
   "source": [
    "df.dtypes"
   ]
  },
  {
   "cell_type": "code",
   "execution_count": 10,
   "id": "d166fa23-aa57-4f24-901b-2d99333965bc",
   "metadata": {},
   "outputs": [],
   "source": [
    "df[['Bank','Transaction Code']]=df['Transaction Code'].str.split('-',n=1,expand=True)"
   ]
  },
  {
   "cell_type": "code",
   "execution_count": 12,
   "id": "b16cc610-cb82-4377-be2d-dcfc3e75735e",
   "metadata": {},
   "outputs": [
    {
     "data": {
      "text/html": [
       "<div>\n",
       "<style scoped>\n",
       "    .dataframe tbody tr th:only-of-type {\n",
       "        vertical-align: middle;\n",
       "    }\n",
       "\n",
       "    .dataframe tbody tr th {\n",
       "        vertical-align: top;\n",
       "    }\n",
       "\n",
       "    .dataframe thead th {\n",
       "        text-align: right;\n",
       "    }\n",
       "</style>\n",
       "<table border=\"1\" class=\"dataframe\">\n",
       "  <thead>\n",
       "    <tr style=\"text-align: right;\">\n",
       "      <th></th>\n",
       "      <th>Transaction Code</th>\n",
       "      <th>Value</th>\n",
       "      <th>Customer Code</th>\n",
       "      <th>Online or In-Person</th>\n",
       "      <th>Transaction Date</th>\n",
       "      <th>Bank</th>\n",
       "    </tr>\n",
       "  </thead>\n",
       "  <tbody>\n",
       "    <tr>\n",
       "      <th>0</th>\n",
       "      <td>716-679-576</td>\n",
       "      <td>1448</td>\n",
       "      <td>100001</td>\n",
       "      <td>2</td>\n",
       "      <td>20/03/2023 00:00:00</td>\n",
       "      <td>DTB</td>\n",
       "    </tr>\n",
       "    <tr>\n",
       "      <th>1</th>\n",
       "      <td>795-814-303</td>\n",
       "      <td>7839</td>\n",
       "      <td>100001</td>\n",
       "      <td>2</td>\n",
       "      <td>15/11/2023 00:00:00</td>\n",
       "      <td>DS</td>\n",
       "    </tr>\n",
       "  </tbody>\n",
       "</table>\n",
       "</div>"
      ],
      "text/plain": [
       "  Transaction Code  Value  Customer Code  Online or In-Person  \\\n",
       "0      716-679-576   1448         100001                    2   \n",
       "1      795-814-303   7839         100001                    2   \n",
       "\n",
       "      Transaction Date Bank  \n",
       "0  20/03/2023 00:00:00  DTB  \n",
       "1  15/11/2023 00:00:00   DS  "
      ]
     },
     "execution_count": 12,
     "metadata": {},
     "output_type": "execute_result"
    }
   ],
   "source": [
    "df.head(2)"
   ]
  },
  {
   "cell_type": "code",
   "execution_count": 16,
   "id": "767373bc-cc70-4a2e-812a-dbe5ce3ff57c",
   "metadata": {},
   "outputs": [],
   "source": [
    "df=df[['Transaction Code','Bank','Value','Customer Code','Online or In-Person','Transaction Date']]"
   ]
  },
  {
   "cell_type": "code",
   "execution_count": 17,
   "id": "11ea2aac-189d-4511-b7c4-e457a75e0f09",
   "metadata": {},
   "outputs": [
    {
     "data": {
      "text/html": [
       "<div>\n",
       "<style scoped>\n",
       "    .dataframe tbody tr th:only-of-type {\n",
       "        vertical-align: middle;\n",
       "    }\n",
       "\n",
       "    .dataframe tbody tr th {\n",
       "        vertical-align: top;\n",
       "    }\n",
       "\n",
       "    .dataframe thead th {\n",
       "        text-align: right;\n",
       "    }\n",
       "</style>\n",
       "<table border=\"1\" class=\"dataframe\">\n",
       "  <thead>\n",
       "    <tr style=\"text-align: right;\">\n",
       "      <th></th>\n",
       "      <th>Transaction Code</th>\n",
       "      <th>Bank</th>\n",
       "      <th>Value</th>\n",
       "      <th>Customer Code</th>\n",
       "      <th>Online or In-Person</th>\n",
       "      <th>Transaction Date</th>\n",
       "    </tr>\n",
       "  </thead>\n",
       "  <tbody>\n",
       "    <tr>\n",
       "      <th>0</th>\n",
       "      <td>716-679-576</td>\n",
       "      <td>DTB</td>\n",
       "      <td>1448</td>\n",
       "      <td>100001</td>\n",
       "      <td>2</td>\n",
       "      <td>20/03/2023 00:00:00</td>\n",
       "    </tr>\n",
       "    <tr>\n",
       "      <th>1</th>\n",
       "      <td>795-814-303</td>\n",
       "      <td>DS</td>\n",
       "      <td>7839</td>\n",
       "      <td>100001</td>\n",
       "      <td>2</td>\n",
       "      <td>15/11/2023 00:00:00</td>\n",
       "    </tr>\n",
       "  </tbody>\n",
       "</table>\n",
       "</div>"
      ],
      "text/plain": [
       "  Transaction Code Bank  Value  Customer Code  Online or In-Person  \\\n",
       "0      716-679-576  DTB   1448         100001                    2   \n",
       "1      795-814-303   DS   7839         100001                    2   \n",
       "\n",
       "      Transaction Date  \n",
       "0  20/03/2023 00:00:00  \n",
       "1  15/11/2023 00:00:00  "
      ]
     },
     "execution_count": 17,
     "metadata": {},
     "output_type": "execute_result"
    }
   ],
   "source": [
    "df.head(2)"
   ]
  },
  {
   "cell_type": "code",
   "execution_count": 18,
   "id": "ea284a34-5aa8-4f0b-b536-c959d6cbf357",
   "metadata": {},
   "outputs": [],
   "source": [
    "df['Online or In-Person']=df['Online or In-Person'].replace({1:'Online',2:'In-Person'})"
   ]
  },
  {
   "cell_type": "code",
   "execution_count": 20,
   "id": "51dfd048-b64a-4888-bebe-11bea77f9ead",
   "metadata": {},
   "outputs": [
    {
     "data": {
      "text/html": [
       "<div>\n",
       "<style scoped>\n",
       "    .dataframe tbody tr th:only-of-type {\n",
       "        vertical-align: middle;\n",
       "    }\n",
       "\n",
       "    .dataframe tbody tr th {\n",
       "        vertical-align: top;\n",
       "    }\n",
       "\n",
       "    .dataframe thead th {\n",
       "        text-align: right;\n",
       "    }\n",
       "</style>\n",
       "<table border=\"1\" class=\"dataframe\">\n",
       "  <thead>\n",
       "    <tr style=\"text-align: right;\">\n",
       "      <th></th>\n",
       "      <th>Transaction Code</th>\n",
       "      <th>Bank</th>\n",
       "      <th>Value</th>\n",
       "      <th>Customer Code</th>\n",
       "      <th>Online or In-Person</th>\n",
       "      <th>Transaction Date</th>\n",
       "    </tr>\n",
       "  </thead>\n",
       "  <tbody>\n",
       "    <tr>\n",
       "      <th>0</th>\n",
       "      <td>716-679-576</td>\n",
       "      <td>DTB</td>\n",
       "      <td>1448</td>\n",
       "      <td>100001</td>\n",
       "      <td>In-Person</td>\n",
       "      <td>20/03/2023 00:00:00</td>\n",
       "    </tr>\n",
       "    <tr>\n",
       "      <th>1</th>\n",
       "      <td>795-814-303</td>\n",
       "      <td>DS</td>\n",
       "      <td>7839</td>\n",
       "      <td>100001</td>\n",
       "      <td>In-Person</td>\n",
       "      <td>15/11/2023 00:00:00</td>\n",
       "    </tr>\n",
       "  </tbody>\n",
       "</table>\n",
       "</div>"
      ],
      "text/plain": [
       "  Transaction Code Bank  Value  Customer Code Online or In-Person  \\\n",
       "0      716-679-576  DTB   1448         100001           In-Person   \n",
       "1      795-814-303   DS   7839         100001           In-Person   \n",
       "\n",
       "      Transaction Date  \n",
       "0  20/03/2023 00:00:00  \n",
       "1  15/11/2023 00:00:00  "
      ]
     },
     "execution_count": 20,
     "metadata": {},
     "output_type": "execute_result"
    }
   ],
   "source": [
    "df.head(2)"
   ]
  },
  {
   "cell_type": "code",
   "execution_count": 23,
   "id": "d5b019be-e1b6-4e43-8ab1-771dd1da8e22",
   "metadata": {},
   "outputs": [
    {
     "name": "stderr",
     "output_type": "stream",
     "text": [
      "C:\\Users\\gioe1\\AppData\\Local\\Temp\\ipykernel_9664\\204886444.py:1: UserWarning: Parsing dates in %d/%m/%Y %H:%M:%S format when dayfirst=False (the default) was specified. Pass `dayfirst=True` or specify a format to silence this warning.\n",
      "  df['Transaction Date']=pd.to_datetime(df['Transaction Date'])\n"
     ]
    }
   ],
   "source": [
    "df['Transaction Date']=pd.to_datetime(df['Transaction Date'])"
   ]
  },
  {
   "cell_type": "code",
   "execution_count": 24,
   "id": "c9670cab-c516-453f-b2b0-dd16304d64e4",
   "metadata": {},
   "outputs": [
    {
     "data": {
      "text/plain": [
       "Transaction Code               object\n",
       "Bank                           object\n",
       "Value                           int64\n",
       "Customer Code                   int64\n",
       "Online or In-Person            object\n",
       "Transaction Date       datetime64[ns]\n",
       "dtype: object"
      ]
     },
     "execution_count": 24,
     "metadata": {},
     "output_type": "execute_result"
    }
   ],
   "source": [
    "df.dtypes"
   ]
  },
  {
   "cell_type": "code",
   "execution_count": 28,
   "id": "2bdd020a-7631-4a0f-911f-4717a3d9a2b9",
   "metadata": {},
   "outputs": [],
   "source": [
    "df['Transaction Date']=df['Transaction Date'].dt.strftime('%A')"
   ]
  },
  {
   "cell_type": "code",
   "execution_count": 29,
   "id": "ec550876-283a-440c-b595-6698b8924e62",
   "metadata": {},
   "outputs": [
    {
     "data": {
      "text/html": [
       "<div>\n",
       "<style scoped>\n",
       "    .dataframe tbody tr th:only-of-type {\n",
       "        vertical-align: middle;\n",
       "    }\n",
       "\n",
       "    .dataframe tbody tr th {\n",
       "        vertical-align: top;\n",
       "    }\n",
       "\n",
       "    .dataframe thead th {\n",
       "        text-align: right;\n",
       "    }\n",
       "</style>\n",
       "<table border=\"1\" class=\"dataframe\">\n",
       "  <thead>\n",
       "    <tr style=\"text-align: right;\">\n",
       "      <th></th>\n",
       "      <th>Transaction Code</th>\n",
       "      <th>Bank</th>\n",
       "      <th>Value</th>\n",
       "      <th>Customer Code</th>\n",
       "      <th>Online or In-Person</th>\n",
       "      <th>Transaction Date</th>\n",
       "    </tr>\n",
       "  </thead>\n",
       "  <tbody>\n",
       "    <tr>\n",
       "      <th>0</th>\n",
       "      <td>716-679-576</td>\n",
       "      <td>DTB</td>\n",
       "      <td>1448</td>\n",
       "      <td>100001</td>\n",
       "      <td>In-Person</td>\n",
       "      <td>Monday</td>\n",
       "    </tr>\n",
       "    <tr>\n",
       "      <th>1</th>\n",
       "      <td>795-814-303</td>\n",
       "      <td>DS</td>\n",
       "      <td>7839</td>\n",
       "      <td>100001</td>\n",
       "      <td>In-Person</td>\n",
       "      <td>Wednesday</td>\n",
       "    </tr>\n",
       "  </tbody>\n",
       "</table>\n",
       "</div>"
      ],
      "text/plain": [
       "  Transaction Code Bank  Value  Customer Code Online or In-Person  \\\n",
       "0      716-679-576  DTB   1448         100001           In-Person   \n",
       "1      795-814-303   DS   7839         100001           In-Person   \n",
       "\n",
       "  Transaction Date  \n",
       "0           Monday  \n",
       "1        Wednesday  "
      ]
     },
     "execution_count": 29,
     "metadata": {},
     "output_type": "execute_result"
    }
   ],
   "source": [
    "df.head(2)"
   ]
  },
  {
   "cell_type": "code",
   "execution_count": 38,
   "id": "fc1cd2cb-d4b3-4126-bdf7-86e4f09c863d",
   "metadata": {},
   "outputs": [
    {
     "name": "stdout",
     "output_type": "stream",
     "text": [
      "Bank  Customer Code\n",
      "DS    100000           57909\n",
      "      100001           53063\n",
      "      100002           69803\n",
      "      100003           25482\n",
      "      100004           63315\n",
      "      100005           39668\n",
      "      100006           77636\n",
      "      100007           76190\n",
      "      100008           56400\n",
      "      100009           56581\n",
      "      100010           77893\n",
      "DSB   100000           27585\n",
      "      100001           67856\n",
      "      100002           27936\n",
      "      100003           58154\n",
      "      100004           39003\n",
      "      100005           56396\n",
      "      100006           32333\n",
      "      100007           29702\n",
      "      100008           47121\n",
      "      100009           51749\n",
      "      100010           92654\n",
      "DTB   100000           77252\n",
      "      100001           60675\n",
      "      100002           48616\n",
      "      100003           84574\n",
      "      100004           44435\n",
      "      100005           37795\n",
      "      100006           41909\n",
      "      100007           29308\n",
      "      100008           69352\n",
      "      100009           52926\n",
      "      100010           71396\n",
      "Name: Value, dtype: int64\n"
     ]
    }
   ],
   "source": [
    "transaction_table=df\n",
    "by_bank=df.groupby(['Bank'])['Value'].sum()\n",
    "by_3_properties=df.groupby(['Bank','Online or In-Person','Transaction Date'])['Value'].sum()\n",
    "by_2_properties=df.groupby(['Bank','Customer Code'])['Value'].sum()\n",
    "print(by_2_properties)\n",
    "\n",
    "by_bank.to_csv('delete_by_bank')\n",
    "by_3_properties.to_csv('delete_by_3_properties')\n",
    "by_2_properties.to_csv('delete_by_2_properties')"
   ]
  }
 ],
 "metadata": {
  "kernelspec": {
   "display_name": "Python 3 (ipykernel)",
   "language": "python",
   "name": "python3"
  },
  "language_info": {
   "codemirror_mode": {
    "name": "ipython",
    "version": 3
   },
   "file_extension": ".py",
   "mimetype": "text/x-python",
   "name": "python",
   "nbconvert_exporter": "python",
   "pygments_lexer": "ipython3",
   "version": "3.11.4"
  }
 },
 "nbformat": 4,
 "nbformat_minor": 5
}
