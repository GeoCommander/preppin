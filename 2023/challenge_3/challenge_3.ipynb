{
 "cells": [
  {
   "cell_type": "code",
   "execution_count": 10,
   "metadata": {},
   "outputs": [],
   "source": [
    "import polars as pl\n",
    "\n",
    "quarterly_targets_file = 'https://drive.google.com/u/0/uc?id=1YNg4R6Ud_Dxi108VJvxndlQNe5Rn9IdI&export=download'\n",
    "transactions_file = 'https://drive.google.com/u/0/uc?id=10EYKJ989gReQJhOGHx9vK7iPOHii-g_q&export=download'\n",
    "pl.Config.set_fmt_str_lengths(50)\n",
    "\n",
    "targets_df=pl.read_csv(quarterly_targets_file)\n",
    "transactions_df=pl.read_csv(transactions_file, try_parse_dates=True)\n"
   ]
  },
  {
   "cell_type": "code",
   "execution_count": 11,
   "metadata": {},
   "outputs": [
    {
     "data": {
      "text/html": [
       "<div><style>\n",
       ".dataframe > thead > tr > th,\n",
       ".dataframe > tbody > tr > td {\n",
       "  text-align: right;\n",
       "}\n",
       "</style>\n",
       "<small>shape: (2, 5)</small><table border=\"1\" class=\"dataframe\"><thead><tr><th>Online or In-Person</th><th>Q1</th><th>Q2</th><th>Q3</th><th>Q4</th></tr><tr><td>str</td><td>i64</td><td>i64</td><td>i64</td><td>i64</td></tr></thead><tbody><tr><td>&quot;Online&quot;</td><td>72500</td><td>70000</td><td>60000</td><td>60000</td></tr><tr><td>&quot;In-Person&quot;</td><td>75000</td><td>70000</td><td>70000</td><td>60000</td></tr></tbody></table></div>"
      ],
      "text/plain": [
       "shape: (2, 5)\n",
       "┌─────────────────────┬───────┬───────┬───────┬───────┐\n",
       "│ Online or In-Person ┆ Q1    ┆ Q2    ┆ Q3    ┆ Q4    │\n",
       "│ ---                 ┆ ---   ┆ ---   ┆ ---   ┆ ---   │\n",
       "│ str                 ┆ i64   ┆ i64   ┆ i64   ┆ i64   │\n",
       "╞═════════════════════╪═══════╪═══════╪═══════╪═══════╡\n",
       "│ Online              ┆ 72500 ┆ 70000 ┆ 60000 ┆ 60000 │\n",
       "│ In-Person           ┆ 75000 ┆ 70000 ┆ 70000 ┆ 60000 │\n",
       "└─────────────────────┴───────┴───────┴───────┴───────┘"
      ]
     },
     "execution_count": 11,
     "metadata": {},
     "output_type": "execute_result"
    }
   ],
   "source": [
    "targets_df.head()"
   ]
  },
  {
   "cell_type": "code",
   "execution_count": 12,
   "metadata": {},
   "outputs": [
    {
     "data": {
      "text/html": [
       "<div><style>\n",
       ".dataframe > thead > tr > th,\n",
       ".dataframe > tbody > tr > td {\n",
       "  text-align: right;\n",
       "}\n",
       "</style>\n",
       "<small>shape: (1, 5)</small><table border=\"1\" class=\"dataframe\"><thead><tr><th>Transaction Code</th><th>Value</th><th>Customer Code</th><th>Online or In-Person</th><th>Transaction Date</th></tr><tr><td>str</td><td>i64</td><td>i64</td><td>i64</td><td>datetime[μs]</td></tr></thead><tbody><tr><td>&quot;DTB-716-679-576&quot;</td><td>1448</td><td>100001</td><td>2</td><td>2023-03-20 00:00:00</td></tr></tbody></table></div>"
      ],
      "text/plain": [
       "shape: (1, 5)\n",
       "┌──────────────────┬───────┬───────────────┬─────────────────────┬─────────────────────┐\n",
       "│ Transaction Code ┆ Value ┆ Customer Code ┆ Online or In-Person ┆ Transaction Date    │\n",
       "│ ---              ┆ ---   ┆ ---           ┆ ---                 ┆ ---                 │\n",
       "│ str              ┆ i64   ┆ i64           ┆ i64                 ┆ datetime[μs]        │\n",
       "╞══════════════════╪═══════╪═══════════════╪═════════════════════╪═════════════════════╡\n",
       "│ DTB-716-679-576  ┆ 1448  ┆ 100001        ┆ 2                   ┆ 2023-03-20 00:00:00 │\n",
       "└──────────────────┴───────┴───────────────┴─────────────────────┴─────────────────────┘"
      ]
     },
     "execution_count": 12,
     "metadata": {},
     "output_type": "execute_result"
    }
   ],
   "source": [
    "transactions_df.head(1)"
   ]
  },
  {
   "cell_type": "code",
   "execution_count": 13,
   "metadata": {},
   "outputs": [
    {
     "data": {
      "text/html": [
       "<div><style>\n",
       ".dataframe > thead > tr > th,\n",
       ".dataframe > tbody > tr > td {\n",
       "  text-align: right;\n",
       "}\n",
       "</style>\n",
       "<small>shape: (365, 7)</small><table border=\"1\" class=\"dataframe\"><thead><tr><th>Transaction Code</th><th>Value</th><th>Customer Code</th><th>Online or In-Person</th><th>Transaction Date</th><th>max_chars</th><th>min_chars</th></tr><tr><td>str</td><td>i64</td><td>i64</td><td>i64</td><td>datetime[μs]</td><td>u32</td><td>u32</td></tr></thead><tbody><tr><td>&quot;DTB-716-679-576&quot;</td><td>1448</td><td>100001</td><td>2</td><td>2023-03-20 00:00:00</td><td>15</td><td>14</td></tr><tr><td>&quot;DS-795-814-303&quot;</td><td>7839</td><td>100001</td><td>2</td><td>2023-11-15 00:00:00</td><td>15</td><td>14</td></tr><tr><td>&quot;DSB-807-592-406&quot;</td><td>5520</td><td>100005</td><td>1</td><td>2023-07-14 00:00:00</td><td>15</td><td>14</td></tr><tr><td>&quot;DS-367-545-264&quot;</td><td>7957</td><td>100007</td><td>2</td><td>2023-08-18 00:00:00</td><td>15</td><td>14</td></tr><tr><td>&quot;DSB-474-374-857&quot;</td><td>5375</td><td>100000</td><td>2</td><td>2023-08-26 00:00:00</td><td>15</td><td>14</td></tr><tr><td>&quot;DSB-448-546-348&quot;</td><td>4525</td><td>100009</td><td>1</td><td>2023-05-27 00:00:00</td><td>15</td><td>14</td></tr><tr><td>&quot;DS-213-969-866&quot;</td><td>2321</td><td>100007</td><td>2</td><td>2023-01-04 00:00:00</td><td>15</td><td>14</td></tr><tr><td>&quot;DS-341-615-729&quot;</td><td>1967</td><td>100004</td><td>1</td><td>2023-01-22 00:00:00</td><td>15</td><td>14</td></tr><tr><td>&quot;DTB-200-951-620&quot;</td><td>8105</td><td>100003</td><td>2</td><td>2023-01-10 00:00:00</td><td>15</td><td>14</td></tr><tr><td>&quot;DS-481-733-170&quot;</td><td>7908</td><td>100008</td><td>2</td><td>2023-11-26 00:00:00</td><td>15</td><td>14</td></tr><tr><td>&quot;DTB-625-200-665&quot;</td><td>8772</td><td>100009</td><td>2</td><td>2023-03-03 00:00:00</td><td>15</td><td>14</td></tr><tr><td>&quot;DSB-422-218-322&quot;</td><td>118</td><td>100010</td><td>1</td><td>2023-05-12 00:00:00</td><td>15</td><td>14</td></tr><tr><td>&hellip;</td><td>&hellip;</td><td>&hellip;</td><td>&hellip;</td><td>&hellip;</td><td>&hellip;</td><td>&hellip;</td></tr><tr><td>&quot;DSB-322-596-206&quot;</td><td>900</td><td>100001</td><td>1</td><td>2023-02-04 00:00:00</td><td>15</td><td>14</td></tr><tr><td>&quot;DSB-384-247-358&quot;</td><td>6446</td><td>100003</td><td>1</td><td>2023-06-28 00:00:00</td><td>15</td><td>14</td></tr><tr><td>&quot;DTB-875-958-765&quot;</td><td>5762</td><td>100010</td><td>1</td><td>2024-01-01 00:00:00</td><td>15</td><td>14</td></tr><tr><td>&quot;DS-602-190-930&quot;</td><td>979</td><td>100002</td><td>2</td><td>2023-06-30 00:00:00</td><td>15</td><td>14</td></tr><tr><td>&quot;DTB-640-177-859&quot;</td><td>7500</td><td>100005</td><td>1</td><td>2023-09-28 00:00:00</td><td>15</td><td>14</td></tr><tr><td>&quot;DS-236-990-748&quot;</td><td>7767</td><td>100001</td><td>1</td><td>2023-07-11 00:00:00</td><td>15</td><td>14</td></tr><tr><td>&quot;DSB-879-328-611&quot;</td><td>8316</td><td>100008</td><td>1</td><td>2023-11-25 00:00:00</td><td>15</td><td>14</td></tr><tr><td>&quot;DTB-116-439-102&quot;</td><td>6708</td><td>100001</td><td>1</td><td>2023-01-29 00:00:00</td><td>15</td><td>14</td></tr><tr><td>&quot;DS-849-981-514&quot;</td><td>8500</td><td>100000</td><td>2</td><td>2023-10-29 00:00:00</td><td>15</td><td>14</td></tr><tr><td>&quot;DS-726-686-279&quot;</td><td>9455</td><td>100006</td><td>2</td><td>2023-08-10 00:00:00</td><td>15</td><td>14</td></tr><tr><td>&quot;DS-551-937-380&quot;</td><td>475</td><td>100002</td><td>1</td><td>2023-10-11 00:00:00</td><td>15</td><td>14</td></tr><tr><td>&quot;DS-976-542-770&quot;</td><td>7364</td><td>100009</td><td>1</td><td>2023-10-09 00:00:00</td><td>15</td><td>14</td></tr></tbody></table></div>"
      ],
      "text/plain": [
       "shape: (365, 7)\n",
       "┌───────────────────┬───────┬───────────────┬───────────┬──────────────────┬───────────┬───────────┐\n",
       "│ Transaction Code  ┆ Value ┆ Customer Code ┆ Online or ┆ Transaction Date ┆ max_chars ┆ min_chars │\n",
       "│ ---               ┆ ---   ┆ ---           ┆ In-Person ┆ ---              ┆ ---       ┆ ---       │\n",
       "│ str               ┆ i64   ┆ i64           ┆ ---       ┆ datetime[μs]     ┆ u32       ┆ u32       │\n",
       "│                   ┆       ┆               ┆ i64       ┆                  ┆           ┆           │\n",
       "╞═══════════════════╪═══════╪═══════════════╪═══════════╪══════════════════╪═══════════╪═══════════╡\n",
       "│ DTB-716-679-576   ┆ 1448  ┆ 100001        ┆ 2         ┆ 2023-03-20       ┆ 15        ┆ 14        │\n",
       "│                   ┆       ┆               ┆           ┆ 00:00:00         ┆           ┆           │\n",
       "│ DS-795-814-303    ┆ 7839  ┆ 100001        ┆ 2         ┆ 2023-11-15       ┆ 15        ┆ 14        │\n",
       "│                   ┆       ┆               ┆           ┆ 00:00:00         ┆           ┆           │\n",
       "│ DSB-807-592-406   ┆ 5520  ┆ 100005        ┆ 1         ┆ 2023-07-14       ┆ 15        ┆ 14        │\n",
       "│                   ┆       ┆               ┆           ┆ 00:00:00         ┆           ┆           │\n",
       "│ DS-367-545-264    ┆ 7957  ┆ 100007        ┆ 2         ┆ 2023-08-18       ┆ 15        ┆ 14        │\n",
       "│                   ┆       ┆               ┆           ┆ 00:00:00         ┆           ┆           │\n",
       "│ …                 ┆ …     ┆ …             ┆ …         ┆ …                ┆ …         ┆ …         │\n",
       "│ DS-849-981-514    ┆ 8500  ┆ 100000        ┆ 2         ┆ 2023-10-29       ┆ 15        ┆ 14        │\n",
       "│                   ┆       ┆               ┆           ┆ 00:00:00         ┆           ┆           │\n",
       "│ DS-726-686-279    ┆ 9455  ┆ 100006        ┆ 2         ┆ 2023-08-10       ┆ 15        ┆ 14        │\n",
       "│                   ┆       ┆               ┆           ┆ 00:00:00         ┆           ┆           │\n",
       "│ DS-551-937-380    ┆ 475   ┆ 100002        ┆ 1         ┆ 2023-10-11       ┆ 15        ┆ 14        │\n",
       "│                   ┆       ┆               ┆           ┆ 00:00:00         ┆           ┆           │\n",
       "│ DS-976-542-770    ┆ 7364  ┆ 100009        ┆ 1         ┆ 2023-10-09       ┆ 15        ┆ 14        │\n",
       "│                   ┆       ┆               ┆           ┆ 00:00:00         ┆           ┆           │\n",
       "└───────────────────┴───────┴───────────────┴───────────┴──────────────────┴───────────┴───────────┘"
      ]
     },
     "execution_count": 13,
     "metadata": {},
     "output_type": "execute_result"
    }
   ],
   "source": [
    "transactions_df.with_columns(\n",
    "    pl.col('Transaction Code').str.n_chars().max().alias('max_chars'),\n",
    "    pl.col('Transaction Code').str.n_chars().min().alias('min_chars')\n",
    ")"
   ]
  },
  {
   "cell_type": "code",
   "execution_count": 14,
   "metadata": {},
   "outputs": [
    {
     "data": {
      "text/html": [
       "<div><style>\n",
       ".dataframe > thead > tr > th,\n",
       ".dataframe > tbody > tr > td {\n",
       "  text-align: right;\n",
       "}\n",
       "</style>\n",
       "<small>shape: (9, 6)</small><table border=\"1\" class=\"dataframe\"><thead><tr><th>describe</th><th>Online or In-Person</th><th>Q1</th><th>Q2</th><th>Q3</th><th>Q4</th></tr><tr><td>str</td><td>str</td><td>f64</td><td>f64</td><td>f64</td><td>f64</td></tr></thead><tbody><tr><td>&quot;count&quot;</td><td>&quot;2&quot;</td><td>2.0</td><td>2.0</td><td>2.0</td><td>2.0</td></tr><tr><td>&quot;null_count&quot;</td><td>&quot;0&quot;</td><td>0.0</td><td>0.0</td><td>0.0</td><td>0.0</td></tr><tr><td>&quot;mean&quot;</td><td>null</td><td>73750.0</td><td>70000.0</td><td>65000.0</td><td>60000.0</td></tr><tr><td>&quot;std&quot;</td><td>null</td><td>1767.766953</td><td>0.0</td><td>7071.067812</td><td>0.0</td></tr><tr><td>&quot;min&quot;</td><td>&quot;In-Person&quot;</td><td>72500.0</td><td>70000.0</td><td>60000.0</td><td>60000.0</td></tr><tr><td>&quot;max&quot;</td><td>&quot;Online&quot;</td><td>75000.0</td><td>70000.0</td><td>70000.0</td><td>60000.0</td></tr><tr><td>&quot;median&quot;</td><td>null</td><td>73750.0</td><td>70000.0</td><td>65000.0</td><td>60000.0</td></tr><tr><td>&quot;25%&quot;</td><td>null</td><td>72500.0</td><td>70000.0</td><td>60000.0</td><td>60000.0</td></tr><tr><td>&quot;75%&quot;</td><td>null</td><td>75000.0</td><td>70000.0</td><td>70000.0</td><td>60000.0</td></tr></tbody></table></div>"
      ],
      "text/plain": [
       "shape: (9, 6)\n",
       "┌────────────┬─────────────────────┬─────────────┬─────────┬─────────────┬─────────┐\n",
       "│ describe   ┆ Online or In-Person ┆ Q1          ┆ Q2      ┆ Q3          ┆ Q4      │\n",
       "│ ---        ┆ ---                 ┆ ---         ┆ ---     ┆ ---         ┆ ---     │\n",
       "│ str        ┆ str                 ┆ f64         ┆ f64     ┆ f64         ┆ f64     │\n",
       "╞════════════╪═════════════════════╪═════════════╪═════════╪═════════════╪═════════╡\n",
       "│ count      ┆ 2                   ┆ 2.0         ┆ 2.0     ┆ 2.0         ┆ 2.0     │\n",
       "│ null_count ┆ 0                   ┆ 0.0         ┆ 0.0     ┆ 0.0         ┆ 0.0     │\n",
       "│ mean       ┆ null                ┆ 73750.0     ┆ 70000.0 ┆ 65000.0     ┆ 60000.0 │\n",
       "│ std        ┆ null                ┆ 1767.766953 ┆ 0.0     ┆ 7071.067812 ┆ 0.0     │\n",
       "│ min        ┆ In-Person           ┆ 72500.0     ┆ 70000.0 ┆ 60000.0     ┆ 60000.0 │\n",
       "│ max        ┆ Online              ┆ 75000.0     ┆ 70000.0 ┆ 70000.0     ┆ 60000.0 │\n",
       "│ median     ┆ null                ┆ 73750.0     ┆ 70000.0 ┆ 65000.0     ┆ 60000.0 │\n",
       "│ 25%        ┆ null                ┆ 72500.0     ┆ 70000.0 ┆ 60000.0     ┆ 60000.0 │\n",
       "│ 75%        ┆ null                ┆ 75000.0     ┆ 70000.0 ┆ 70000.0     ┆ 60000.0 │\n",
       "└────────────┴─────────────────────┴─────────────┴─────────┴─────────────┴─────────┘"
      ]
     },
     "execution_count": 14,
     "metadata": {},
     "output_type": "execute_result"
    }
   ],
   "source": [
    "targets_df.describe()"
   ]
  },
  {
   "cell_type": "code",
   "execution_count": 17,
   "metadata": {},
   "outputs": [],
   "source": [
    "transactions_df=transactions_df.with_columns(\n",
    "    pl.col('Transaction Code').str.splitn('-',2),\n",
    "    pl.col('Online or In-Person').map_dict({1:'Online',2:'In-Person'})\n",
    ").unnest('Transaction Code')\n",
    "\n",
    "transactions_df=transactions_df.filter(\n",
    "    pl.col('field_0') == 'DSB'\n",
    ")"
   ]
  },
  {
   "cell_type": "code",
   "execution_count": 18,
   "metadata": {},
   "outputs": [
    {
     "data": {
      "text/html": [
       "<div><style>\n",
       ".dataframe > thead > tr > th,\n",
       ".dataframe > tbody > tr > td {\n",
       "  text-align: right;\n",
       "}\n",
       "</style>\n",
       "<small>shape: (1, 6)</small><table border=\"1\" class=\"dataframe\"><thead><tr><th>field_0</th><th>field_1</th><th>Value</th><th>Customer Code</th><th>Online or In-Person</th><th>Transaction Date</th></tr><tr><td>str</td><td>str</td><td>i64</td><td>i64</td><td>str</td><td>datetime[μs]</td></tr></thead><tbody><tr><td>&quot;DSB&quot;</td><td>&quot;807-592-406&quot;</td><td>5520</td><td>100005</td><td>&quot;Online&quot;</td><td>2023-07-14 00:00:00</td></tr></tbody></table></div>"
      ],
      "text/plain": [
       "shape: (1, 6)\n",
       "┌─────────┬─────────────┬───────┬───────────────┬─────────────────────┬─────────────────────┐\n",
       "│ field_0 ┆ field_1     ┆ Value ┆ Customer Code ┆ Online or In-Person ┆ Transaction Date    │\n",
       "│ ---     ┆ ---         ┆ ---   ┆ ---           ┆ ---                 ┆ ---                 │\n",
       "│ str     ┆ str         ┆ i64   ┆ i64           ┆ str                 ┆ datetime[μs]        │\n",
       "╞═════════╪═════════════╪═══════╪═══════════════╪═════════════════════╪═════════════════════╡\n",
       "│ DSB     ┆ 807-592-406 ┆ 5520  ┆ 100005        ┆ Online              ┆ 2023-07-14 00:00:00 │\n",
       "└─────────┴─────────────┴───────┴───────────────┴─────────────────────┴─────────────────────┘"
      ]
     },
     "execution_count": 18,
     "metadata": {},
     "output_type": "execute_result"
    }
   ],
   "source": [
    "# transactions_df.with_columns(\n",
    "#     pl.col('Online or In-Person').map_dict({1:'Online',2:'In-Person'})\n",
    "# )\n",
    "\n",
    "transactions_df.head(1)"
   ]
  },
  {
   "cell_type": "code",
   "execution_count": null,
   "metadata": {},
   "outputs": [],
   "source": [
    "transactions_df.with_columns(\n",
    "    pl.col('Transaction Date').str.strptime(pl.Utf8, format=)\n",
    ")"
   ]
  }
 ],
 "metadata": {
  "kernelspec": {
   "display_name": "env",
   "language": "python",
   "name": "python3"
  },
  "language_info": {
   "codemirror_mode": {
    "name": "ipython",
    "version": 3
   },
   "file_extension": ".py",
   "mimetype": "text/x-python",
   "name": "python",
   "nbconvert_exporter": "python",
   "pygments_lexer": "ipython3",
   "version": "3.10.11"
  },
  "orig_nbformat": 4
 },
 "nbformat": 4,
 "nbformat_minor": 2
}
