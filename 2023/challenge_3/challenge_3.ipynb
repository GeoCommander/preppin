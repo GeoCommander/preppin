{
 "cells": [
  {
   "cell_type": "markdown",
   "metadata": {},
   "source": [
    "```python\n",
    "what I learned:\n",
    "- map_dict({1:'online'})\n",
    "- str.strptime(pl.Utf8, format=)\n",
    "- str.n_chars\n",
    "- dt.quarter()\n",
    "\n",
    "- .rename({'name':'name_importer','region':'region_importer'})\n",
    "\n",
    "all dt functions:\n",
    "- year(): Extract the year from a datetime column.\n",
    "- month(): Extract the month from a datetime column.\n",
    "- day(): Extract the day from a datetime column.\n",
    "- hour(): Extract the hour from a datetime column.\n",
    "- minute(): Extract the minute from a datetime column.\n",
    "- second(): Extract the second from a datetime column.\n",
    "- nanosecond(): Extract the nanosecond from a datetime column.\n",
    "- weekday(): Extract the weekday from a datetime column.\n",
    "- week(): Extract the week from a datetime column.\n",
    "- quarter(): Extract the quarter from a datetime column.\n",
    "- yearweek(): Extract the yearweek from a datetime column.\n",
    "\n",
    "```"
   ]
  },
  {
   "cell_type": "code",
   "execution_count": 80,
   "metadata": {},
   "outputs": [],
   "source": [
    "import polars as pl\n",
    "\n",
    "quarterly_targets_file = 'https://drive.google.com/u/0/uc?id=1YNg4R6Ud_Dxi108VJvxndlQNe5Rn9IdI&export=download'\n",
    "transactions_file = 'https://drive.google.com/u/0/uc?id=10EYKJ989gReQJhOGHx9vK7iPOHii-g_q&export=download'\n",
    "pl.Config.set_fmt_str_lengths(50)\n",
    "\n",
    "targets_df=pl.read_csv(quarterly_targets_file)\n",
    "transactions_df=pl.read_csv(transactions_file, try_parse_dates=True)\n"
   ]
  },
  {
   "cell_type": "code",
   "execution_count": 81,
   "metadata": {},
   "outputs": [
    {
     "data": {
      "text/html": [
       "<div><style>\n",
       ".dataframe > thead > tr > th,\n",
       ".dataframe > tbody > tr > td {\n",
       "  text-align: right;\n",
       "}\n",
       "</style>\n",
       "<small>shape: (1, 5)</small><table border=\"1\" class=\"dataframe\"><thead><tr><th>Online or In-Person</th><th>Q1</th><th>Q2</th><th>Q3</th><th>Q4</th></tr><tr><td>str</td><td>i64</td><td>i64</td><td>i64</td><td>i64</td></tr></thead><tbody><tr><td>&quot;Online&quot;</td><td>72500</td><td>70000</td><td>60000</td><td>60000</td></tr></tbody></table></div>"
      ],
      "text/plain": [
       "shape: (1, 5)\n",
       "┌─────────────────────┬───────┬───────┬───────┬───────┐\n",
       "│ Online or In-Person ┆ Q1    ┆ Q2    ┆ Q3    ┆ Q4    │\n",
       "│ ---                 ┆ ---   ┆ ---   ┆ ---   ┆ ---   │\n",
       "│ str                 ┆ i64   ┆ i64   ┆ i64   ┆ i64   │\n",
       "╞═════════════════════╪═══════╪═══════╪═══════╪═══════╡\n",
       "│ Online              ┆ 72500 ┆ 70000 ┆ 60000 ┆ 60000 │\n",
       "└─────────────────────┴───────┴───────┴───────┴───────┘"
      ]
     },
     "execution_count": 81,
     "metadata": {},
     "output_type": "execute_result"
    }
   ],
   "source": [
    "# targets dataframe general view\n",
    "targets_df.head(1)"
   ]
  },
  {
   "cell_type": "code",
   "execution_count": 82,
   "metadata": {},
   "outputs": [
    {
     "data": {
      "text/html": [
       "<div><style>\n",
       ".dataframe > thead > tr > th,\n",
       ".dataframe > tbody > tr > td {\n",
       "  text-align: right;\n",
       "}\n",
       "</style>\n",
       "<small>shape: (1, 5)</small><table border=\"1\" class=\"dataframe\"><thead><tr><th>Transaction Code</th><th>Value</th><th>Customer Code</th><th>Online or In-Person</th><th>Transaction Date</th></tr><tr><td>str</td><td>i64</td><td>i64</td><td>i64</td><td>datetime[μs]</td></tr></thead><tbody><tr><td>&quot;DTB-716-679-576&quot;</td><td>1448</td><td>100001</td><td>2</td><td>2023-03-20 00:00:00</td></tr></tbody></table></div>"
      ],
      "text/plain": [
       "shape: (1, 5)\n",
       "┌──────────────────┬───────┬───────────────┬─────────────────────┬─────────────────────┐\n",
       "│ Transaction Code ┆ Value ┆ Customer Code ┆ Online or In-Person ┆ Transaction Date    │\n",
       "│ ---              ┆ ---   ┆ ---           ┆ ---                 ┆ ---                 │\n",
       "│ str              ┆ i64   ┆ i64           ┆ i64                 ┆ datetime[μs]        │\n",
       "╞══════════════════╪═══════╪═══════════════╪═════════════════════╪═════════════════════╡\n",
       "│ DTB-716-679-576  ┆ 1448  ┆ 100001        ┆ 2                   ┆ 2023-03-20 00:00:00 │\n",
       "└──────────────────┴───────┴───────────────┴─────────────────────┴─────────────────────┘"
      ]
     },
     "execution_count": 82,
     "metadata": {},
     "output_type": "execute_result"
    }
   ],
   "source": [
    "# tranaction dataframe general view\n",
    "transactions_df.head(1)"
   ]
  },
  {
   "cell_type": "code",
   "execution_count": 83,
   "metadata": {},
   "outputs": [
    {
     "data": {
      "text/html": [
       "<div><style>\n",
       ".dataframe > thead > tr > th,\n",
       ".dataframe > tbody > tr > td {\n",
       "  text-align: right;\n",
       "}\n",
       "</style>\n",
       "<small>shape: (365, 7)</small><table border=\"1\" class=\"dataframe\"><thead><tr><th>Transaction Code</th><th>Value</th><th>Customer Code</th><th>Online or In-Person</th><th>Transaction Date</th><th>max_chars</th><th>min_chars</th></tr><tr><td>str</td><td>i64</td><td>i64</td><td>i64</td><td>datetime[μs]</td><td>u32</td><td>u32</td></tr></thead><tbody><tr><td>&quot;DTB-716-679-576&quot;</td><td>1448</td><td>100001</td><td>2</td><td>2023-03-20 00:00:00</td><td>15</td><td>14</td></tr><tr><td>&quot;DS-795-814-303&quot;</td><td>7839</td><td>100001</td><td>2</td><td>2023-11-15 00:00:00</td><td>15</td><td>14</td></tr><tr><td>&quot;DSB-807-592-406&quot;</td><td>5520</td><td>100005</td><td>1</td><td>2023-07-14 00:00:00</td><td>15</td><td>14</td></tr><tr><td>&quot;DS-367-545-264&quot;</td><td>7957</td><td>100007</td><td>2</td><td>2023-08-18 00:00:00</td><td>15</td><td>14</td></tr><tr><td>&quot;DSB-474-374-857&quot;</td><td>5375</td><td>100000</td><td>2</td><td>2023-08-26 00:00:00</td><td>15</td><td>14</td></tr><tr><td>&quot;DSB-448-546-348&quot;</td><td>4525</td><td>100009</td><td>1</td><td>2023-05-27 00:00:00</td><td>15</td><td>14</td></tr><tr><td>&quot;DS-213-969-866&quot;</td><td>2321</td><td>100007</td><td>2</td><td>2023-01-04 00:00:00</td><td>15</td><td>14</td></tr><tr><td>&quot;DS-341-615-729&quot;</td><td>1967</td><td>100004</td><td>1</td><td>2023-01-22 00:00:00</td><td>15</td><td>14</td></tr><tr><td>&quot;DTB-200-951-620&quot;</td><td>8105</td><td>100003</td><td>2</td><td>2023-01-10 00:00:00</td><td>15</td><td>14</td></tr><tr><td>&quot;DS-481-733-170&quot;</td><td>7908</td><td>100008</td><td>2</td><td>2023-11-26 00:00:00</td><td>15</td><td>14</td></tr><tr><td>&quot;DTB-625-200-665&quot;</td><td>8772</td><td>100009</td><td>2</td><td>2023-03-03 00:00:00</td><td>15</td><td>14</td></tr><tr><td>&quot;DSB-422-218-322&quot;</td><td>118</td><td>100010</td><td>1</td><td>2023-05-12 00:00:00</td><td>15</td><td>14</td></tr><tr><td>&hellip;</td><td>&hellip;</td><td>&hellip;</td><td>&hellip;</td><td>&hellip;</td><td>&hellip;</td><td>&hellip;</td></tr><tr><td>&quot;DSB-322-596-206&quot;</td><td>900</td><td>100001</td><td>1</td><td>2023-02-04 00:00:00</td><td>15</td><td>14</td></tr><tr><td>&quot;DSB-384-247-358&quot;</td><td>6446</td><td>100003</td><td>1</td><td>2023-06-28 00:00:00</td><td>15</td><td>14</td></tr><tr><td>&quot;DTB-875-958-765&quot;</td><td>5762</td><td>100010</td><td>1</td><td>2024-01-01 00:00:00</td><td>15</td><td>14</td></tr><tr><td>&quot;DS-602-190-930&quot;</td><td>979</td><td>100002</td><td>2</td><td>2023-06-30 00:00:00</td><td>15</td><td>14</td></tr><tr><td>&quot;DTB-640-177-859&quot;</td><td>7500</td><td>100005</td><td>1</td><td>2023-09-28 00:00:00</td><td>15</td><td>14</td></tr><tr><td>&quot;DS-236-990-748&quot;</td><td>7767</td><td>100001</td><td>1</td><td>2023-07-11 00:00:00</td><td>15</td><td>14</td></tr><tr><td>&quot;DSB-879-328-611&quot;</td><td>8316</td><td>100008</td><td>1</td><td>2023-11-25 00:00:00</td><td>15</td><td>14</td></tr><tr><td>&quot;DTB-116-439-102&quot;</td><td>6708</td><td>100001</td><td>1</td><td>2023-01-29 00:00:00</td><td>15</td><td>14</td></tr><tr><td>&quot;DS-849-981-514&quot;</td><td>8500</td><td>100000</td><td>2</td><td>2023-10-29 00:00:00</td><td>15</td><td>14</td></tr><tr><td>&quot;DS-726-686-279&quot;</td><td>9455</td><td>100006</td><td>2</td><td>2023-08-10 00:00:00</td><td>15</td><td>14</td></tr><tr><td>&quot;DS-551-937-380&quot;</td><td>475</td><td>100002</td><td>1</td><td>2023-10-11 00:00:00</td><td>15</td><td>14</td></tr><tr><td>&quot;DS-976-542-770&quot;</td><td>7364</td><td>100009</td><td>1</td><td>2023-10-09 00:00:00</td><td>15</td><td>14</td></tr></tbody></table></div>"
      ],
      "text/plain": [
       "shape: (365, 7)\n",
       "┌───────────────────┬───────┬───────────────┬───────────┬──────────────────┬───────────┬───────────┐\n",
       "│ Transaction Code  ┆ Value ┆ Customer Code ┆ Online or ┆ Transaction Date ┆ max_chars ┆ min_chars │\n",
       "│ ---               ┆ ---   ┆ ---           ┆ In-Person ┆ ---              ┆ ---       ┆ ---       │\n",
       "│ str               ┆ i64   ┆ i64           ┆ ---       ┆ datetime[μs]     ┆ u32       ┆ u32       │\n",
       "│                   ┆       ┆               ┆ i64       ┆                  ┆           ┆           │\n",
       "╞═══════════════════╪═══════╪═══════════════╪═══════════╪══════════════════╪═══════════╪═══════════╡\n",
       "│ DTB-716-679-576   ┆ 1448  ┆ 100001        ┆ 2         ┆ 2023-03-20       ┆ 15        ┆ 14        │\n",
       "│                   ┆       ┆               ┆           ┆ 00:00:00         ┆           ┆           │\n",
       "│ DS-795-814-303    ┆ 7839  ┆ 100001        ┆ 2         ┆ 2023-11-15       ┆ 15        ┆ 14        │\n",
       "│                   ┆       ┆               ┆           ┆ 00:00:00         ┆           ┆           │\n",
       "│ DSB-807-592-406   ┆ 5520  ┆ 100005        ┆ 1         ┆ 2023-07-14       ┆ 15        ┆ 14        │\n",
       "│                   ┆       ┆               ┆           ┆ 00:00:00         ┆           ┆           │\n",
       "│ DS-367-545-264    ┆ 7957  ┆ 100007        ┆ 2         ┆ 2023-08-18       ┆ 15        ┆ 14        │\n",
       "│                   ┆       ┆               ┆           ┆ 00:00:00         ┆           ┆           │\n",
       "│ …                 ┆ …     ┆ …             ┆ …         ┆ …                ┆ …         ┆ …         │\n",
       "│ DS-849-981-514    ┆ 8500  ┆ 100000        ┆ 2         ┆ 2023-10-29       ┆ 15        ┆ 14        │\n",
       "│                   ┆       ┆               ┆           ┆ 00:00:00         ┆           ┆           │\n",
       "│ DS-726-686-279    ┆ 9455  ┆ 100006        ┆ 2         ┆ 2023-08-10       ┆ 15        ┆ 14        │\n",
       "│                   ┆       ┆               ┆           ┆ 00:00:00         ┆           ┆           │\n",
       "│ DS-551-937-380    ┆ 475   ┆ 100002        ┆ 1         ┆ 2023-10-11       ┆ 15        ┆ 14        │\n",
       "│                   ┆       ┆               ┆           ┆ 00:00:00         ┆           ┆           │\n",
       "│ DS-976-542-770    ┆ 7364  ┆ 100009        ┆ 1         ┆ 2023-10-09       ┆ 15        ┆ 14        │\n",
       "│                   ┆       ┆               ┆           ┆ 00:00:00         ┆           ┆           │\n",
       "└───────────────────┴───────┴───────────────┴───────────┴──────────────────┴───────────┴───────────┘"
      ]
     },
     "execution_count": 83,
     "metadata": {},
     "output_type": "execute_result"
    }
   ],
   "source": [
    "# ERD diagram: length of transaction code\n",
    "transactions_df.with_columns(\n",
    "    pl.col('Transaction Code').str.n_chars().max().alias('max_chars'),\n",
    "    pl.col('Transaction Code').str.n_chars().min().alias('min_chars')\n",
    ")"
   ]
  },
  {
   "cell_type": "code",
   "execution_count": 84,
   "metadata": {},
   "outputs": [],
   "source": [
    "# Split transaction code into bank (AAA - 3 digits) and transaction number\n",
    "transactions_df=transactions_df.with_columns(\n",
    "    pl.col('Transaction Code').str.splitn('-',2)\n",
    ").unnest('Transaction Code')\n",
    "\n",
    "# Map 1:'Online' and 2:'In-Person'\n",
    "transactions_df=transactions_df.with_columns(\n",
    "    pl.col('Online or In-Person').map_dict({1:'Online',2:'In-Person'})\n",
    ")\n",
    "\n",
    "# filter out all banks except BSD\n",
    "transactions_df=transactions_df.filter(\n",
    "    pl.col('field_0') == 'DSB'\n",
    ")"
   ]
  },
  {
   "cell_type": "code",
   "execution_count": 85,
   "metadata": {},
   "outputs": [],
   "source": [
    "# Convert Transaction Date to quarter\n",
    "transaction_df = transactions_df.with_columns(\n",
    "    pl.col('Transaction Date').dt.quarter()\n",
    ")\n",
    "\n",
    "# Rename all columns/fields as needed\n",
    "transaction_df=transaction_df.with_columns(\n",
    "    pl.col('Transaction Date').cast(pl.Utf8).alias('Quarter'),\n",
    "    pl.col('field_0').alias('Bank'),\n",
    "    pl.col('field_1').alias('Transaction Number')\n",
    ").drop(['Transaction Date','field_0','field_1'])\n",
    "\n",
    "# Reorder Dataframe\n",
    "transaction_df=transaction_df.select([\n",
    "    'Bank',\n",
    "    'Transaction Number',\n",
    "    'Customer Code',\n",
    "    'Quarter',\n",
    "    'Online or In-Person',\n",
    "    'Value'])"
   ]
  },
  {
   "cell_type": "code",
   "execution_count": 86,
   "metadata": {},
   "outputs": [
    {
     "data": {
      "text/html": [
       "<div><style>\n",
       ".dataframe > thead > tr > th,\n",
       ".dataframe > tbody > tr > td {\n",
       "  text-align: right;\n",
       "}\n",
       "</style>\n",
       "<small>shape: (1, 6)</small><table border=\"1\" class=\"dataframe\"><thead><tr><th>Bank</th><th>Transaction Number</th><th>Customer Code</th><th>Quarter</th><th>Online or In-Person</th><th>Value</th></tr><tr><td>str</td><td>str</td><td>i64</td><td>str</td><td>str</td><td>i64</td></tr></thead><tbody><tr><td>&quot;DSB&quot;</td><td>&quot;807-592-406&quot;</td><td>100005</td><td>&quot;3&quot;</td><td>&quot;Online&quot;</td><td>5520</td></tr></tbody></table></div>"
      ],
      "text/plain": [
       "shape: (1, 6)\n",
       "┌──────┬────────────────────┬───────────────┬─────────┬─────────────────────┬───────┐\n",
       "│ Bank ┆ Transaction Number ┆ Customer Code ┆ Quarter ┆ Online or In-Person ┆ Value │\n",
       "│ ---  ┆ ---                ┆ ---           ┆ ---     ┆ ---                 ┆ ---   │\n",
       "│ str  ┆ str                ┆ i64           ┆ str     ┆ str                 ┆ i64   │\n",
       "╞══════╪════════════════════╪═══════════════╪═════════╪═════════════════════╪═══════╡\n",
       "│ DSB  ┆ 807-592-406        ┆ 100005        ┆ 3       ┆ Online              ┆ 5520  │\n",
       "└──────┴────────────────────┴───────────────┴─────────┴─────────────────────┴───────┘"
      ]
     },
     "execution_count": 86,
     "metadata": {},
     "output_type": "execute_result"
    }
   ],
   "source": [
    "transaction_df.head(1)"
   ]
  },
  {
   "cell_type": "code",
   "execution_count": 87,
   "metadata": {},
   "outputs": [],
   "source": [
    "# Groupby data by Quarter and Online or in person and aggregate Values\n",
    "transaction_df_final=transaction_df.groupby(\n",
    "    pl.col(['Quarter','Online or In-Person'])\n",
    "    ).agg(pl.col('Value').sum()\n",
    "          ).sort('Quarter')"
   ]
  },
  {
   "cell_type": "code",
   "execution_count": 88,
   "metadata": {},
   "outputs": [
    {
     "data": {
      "text/html": [
       "<div><style>\n",
       ".dataframe > thead > tr > th,\n",
       ".dataframe > tbody > tr > td {\n",
       "  text-align: right;\n",
       "}\n",
       "</style>\n",
       "<small>shape: (8, 3)</small><table border=\"1\" class=\"dataframe\"><thead><tr><th>Quarter</th><th>Online or In-Person</th><th>Value</th></tr><tr><td>str</td><td>str</td><td>i64</td></tr></thead><tbody><tr><td>&quot;1&quot;</td><td>&quot;In-Person&quot;</td><td>77576</td></tr><tr><td>&quot;1&quot;</td><td>&quot;Online&quot;</td><td>74562</td></tr><tr><td>&quot;2&quot;</td><td>&quot;Online&quot;</td><td>69325</td></tr><tr><td>&quot;2&quot;</td><td>&quot;In-Person&quot;</td><td>70634</td></tr><tr><td>&quot;3&quot;</td><td>&quot;Online&quot;</td><td>59072</td></tr><tr><td>&quot;3&quot;</td><td>&quot;In-Person&quot;</td><td>74189</td></tr><tr><td>&quot;4&quot;</td><td>&quot;Online&quot;</td><td>61908</td></tr><tr><td>&quot;4&quot;</td><td>&quot;In-Person&quot;</td><td>43223</td></tr></tbody></table></div>"
      ],
      "text/plain": [
       "shape: (8, 3)\n",
       "┌─────────┬─────────────────────┬───────┐\n",
       "│ Quarter ┆ Online or In-Person ┆ Value │\n",
       "│ ---     ┆ ---                 ┆ ---   │\n",
       "│ str     ┆ str                 ┆ i64   │\n",
       "╞═════════╪═════════════════════╪═══════╡\n",
       "│ 1       ┆ In-Person           ┆ 77576 │\n",
       "│ 1       ┆ Online              ┆ 74562 │\n",
       "│ 2       ┆ Online              ┆ 69325 │\n",
       "│ 2       ┆ In-Person           ┆ 70634 │\n",
       "│ 3       ┆ Online              ┆ 59072 │\n",
       "│ 3       ┆ In-Person           ┆ 74189 │\n",
       "│ 4       ┆ Online              ┆ 61908 │\n",
       "│ 4       ┆ In-Person           ┆ 43223 │\n",
       "└─────────┴─────────────────────┴───────┘"
      ]
     },
     "execution_count": 88,
     "metadata": {},
     "output_type": "execute_result"
    }
   ],
   "source": [
    "transaction_df_final.head(20)"
   ]
  },
  {
   "cell_type": "code",
   "execution_count": null,
   "metadata": {},
   "outputs": [],
   "source": []
  },
  {
   "cell_type": "code",
   "execution_count": 89,
   "metadata": {},
   "outputs": [
    {
     "data": {
      "text/html": [
       "<div><style>\n",
       ".dataframe > thead > tr > th,\n",
       ".dataframe > tbody > tr > td {\n",
       "  text-align: right;\n",
       "}\n",
       "</style>\n",
       "<small>shape: (2, 5)</small><table border=\"1\" class=\"dataframe\"><thead><tr><th>Online or In-Person</th><th>Q1</th><th>Q2</th><th>Q3</th><th>Q4</th></tr><tr><td>str</td><td>i64</td><td>i64</td><td>i64</td><td>i64</td></tr></thead><tbody><tr><td>&quot;Online&quot;</td><td>72500</td><td>70000</td><td>60000</td><td>60000</td></tr><tr><td>&quot;In-Person&quot;</td><td>75000</td><td>70000</td><td>70000</td><td>60000</td></tr></tbody></table></div>"
      ],
      "text/plain": [
       "shape: (2, 5)\n",
       "┌─────────────────────┬───────┬───────┬───────┬───────┐\n",
       "│ Online or In-Person ┆ Q1    ┆ Q2    ┆ Q3    ┆ Q4    │\n",
       "│ ---                 ┆ ---   ┆ ---   ┆ ---   ┆ ---   │\n",
       "│ str                 ┆ i64   ┆ i64   ┆ i64   ┆ i64   │\n",
       "╞═════════════════════╪═══════╪═══════╪═══════╪═══════╡\n",
       "│ Online              ┆ 72500 ┆ 70000 ┆ 60000 ┆ 60000 │\n",
       "│ In-Person           ┆ 75000 ┆ 70000 ┆ 70000 ┆ 60000 │\n",
       "└─────────────────────┴───────┴───────┴───────┴───────┘"
      ]
     },
     "execution_count": 89,
     "metadata": {},
     "output_type": "execute_result"
    }
   ],
   "source": [
    "targets_df.head()"
   ]
  },
  {
   "cell_type": "code",
   "execution_count": 90,
   "metadata": {},
   "outputs": [
    {
     "data": {
      "text/html": [
       "<div><style>\n",
       ".dataframe > thead > tr > th,\n",
       ".dataframe > tbody > tr > td {\n",
       "  text-align: right;\n",
       "}\n",
       "</style>\n",
       "<small>shape: (8, 3)</small><table border=\"1\" class=\"dataframe\"><thead><tr><th>Online or In-Person</th><th>Quarter</th><th>Quarterly Targets</th></tr><tr><td>str</td><td>str</td><td>i64</td></tr></thead><tbody><tr><td>&quot;Online&quot;</td><td>&quot;1&quot;</td><td>72500</td></tr><tr><td>&quot;In-Person&quot;</td><td>&quot;1&quot;</td><td>75000</td></tr><tr><td>&quot;Online&quot;</td><td>&quot;2&quot;</td><td>70000</td></tr><tr><td>&quot;In-Person&quot;</td><td>&quot;2&quot;</td><td>70000</td></tr><tr><td>&quot;Online&quot;</td><td>&quot;3&quot;</td><td>60000</td></tr><tr><td>&quot;In-Person&quot;</td><td>&quot;3&quot;</td><td>70000</td></tr><tr><td>&quot;Online&quot;</td><td>&quot;4&quot;</td><td>60000</td></tr><tr><td>&quot;In-Person&quot;</td><td>&quot;4&quot;</td><td>60000</td></tr></tbody></table></div>"
      ],
      "text/plain": [
       "shape: (8, 3)\n",
       "┌─────────────────────┬─────────┬───────────────────┐\n",
       "│ Online or In-Person ┆ Quarter ┆ Quarterly Targets │\n",
       "│ ---                 ┆ ---     ┆ ---               │\n",
       "│ str                 ┆ str     ┆ i64               │\n",
       "╞═════════════════════╪═════════╪═══════════════════╡\n",
       "│ Online              ┆ 1       ┆ 72500             │\n",
       "│ In-Person           ┆ 1       ┆ 75000             │\n",
       "│ Online              ┆ 2       ┆ 70000             │\n",
       "│ In-Person           ┆ 2       ┆ 70000             │\n",
       "│ Online              ┆ 3       ┆ 60000             │\n",
       "│ In-Person           ┆ 3       ┆ 70000             │\n",
       "│ Online              ┆ 4       ┆ 60000             │\n",
       "│ In-Person           ┆ 4       ┆ 60000             │\n",
       "└─────────────────────┴─────────┴───────────────────┘"
      ]
     },
     "execution_count": 90,
     "metadata": {},
     "output_type": "execute_result"
    }
   ],
   "source": [
    "melted_targets_df=targets_df.melt(\n",
    "    id_vars='Online or In-Person',\n",
    "    value_vars=['Q1','Q2','Q3','Q4']\n",
    ")\n",
    "\n",
    "# Melted_targets_df=melted_targets_df.select(pl.col(['variable','value','Online or In-Person']))\n",
    "melted_targets_df=melted_targets_df.with_columns(\n",
    "    pl.col('variable').map_dict({'Q1':'1','Q2':'2','Q3':'3','Q4':'4'})\n",
    ")\n",
    "\n",
    "# Rename columns\n",
    "melted_targets_df=melted_targets_df.with_columns(\n",
    "    pl.col('variable').alias('Quarter'),\n",
    "    pl.col('value').alias('Quarterly Targets')\n",
    ").drop(['variable','value'])\n",
    "\n",
    "# Head\n",
    "melted_targets_df.head(10)\n",
    "\n",
    "# (\n",
    "#     sales_pv\n",
    "#     .melt(\n",
    "#         id_vars=\"date\",\n",
    "#         value_vars=[\"Mountain\",\"Road\"]\n",
    "#     )\n",
    "# )\n",
    "\n"
   ]
  },
  {
   "cell_type": "code",
   "execution_count": null,
   "metadata": {},
   "outputs": [],
   "source": []
  },
  {
   "cell_type": "code",
   "execution_count": 91,
   "metadata": {},
   "outputs": [],
   "source": [
    "# Join transaction_df and targets_df\n",
    "\n",
    "final_table=transaction_df_final.join(\n",
    "    melted_targets_df,\n",
    "    left_on=['Quarter','Online or In-Person'],\n",
    "    right_on=['Quarter','Online or In-Person'],\n",
    "    how='inner'\n",
    ").select(['Online or In-Person','Quarter','Value','Quarterly Targets'])\n",
    "\n",
    "\n",
    "# final_table=transaction_df_final.join(\n",
    "#     melted_targets_df,\n",
    "#     left_on=['Quarter','Online or In-Person'],\n",
    "#     right_on=['Quarter','Online or In-Person'],\n",
    "#     how='inner'\n",
    "# ).drop(['Online or In-Person_right']\n",
    "#        ).select(['Online or In-Person','Quarter','Value','Quarterly Targets'])\n",
    "\n",
    "final_table=final_table.with_columns(\n",
    "    (pl.col('Value') - pl.col('Quarterly Targets')).alias('Variance')\n",
    "    )\n",
    "\n",
    "\n"
   ]
  },
  {
   "cell_type": "code",
   "execution_count": 92,
   "metadata": {},
   "outputs": [
    {
     "data": {
      "text/html": [
       "<div><style>\n",
       ".dataframe > thead > tr > th,\n",
       ".dataframe > tbody > tr > td {\n",
       "  text-align: right;\n",
       "}\n",
       "</style>\n",
       "<small>shape: (8, 5)</small><table border=\"1\" class=\"dataframe\"><thead><tr><th>Online or In-Person</th><th>Quarter</th><th>Value</th><th>Quarterly Targets</th><th>Variance</th></tr><tr><td>str</td><td>str</td><td>i64</td><td>i64</td><td>i64</td></tr></thead><tbody><tr><td>&quot;Online&quot;</td><td>&quot;1&quot;</td><td>74562</td><td>72500</td><td>2062</td></tr><tr><td>&quot;In-Person&quot;</td><td>&quot;1&quot;</td><td>77576</td><td>75000</td><td>2576</td></tr><tr><td>&quot;Online&quot;</td><td>&quot;2&quot;</td><td>69325</td><td>70000</td><td>-675</td></tr><tr><td>&quot;In-Person&quot;</td><td>&quot;2&quot;</td><td>70634</td><td>70000</td><td>634</td></tr><tr><td>&quot;Online&quot;</td><td>&quot;3&quot;</td><td>59072</td><td>60000</td><td>-928</td></tr><tr><td>&quot;In-Person&quot;</td><td>&quot;3&quot;</td><td>74189</td><td>70000</td><td>4189</td></tr><tr><td>&quot;Online&quot;</td><td>&quot;4&quot;</td><td>61908</td><td>60000</td><td>1908</td></tr><tr><td>&quot;In-Person&quot;</td><td>&quot;4&quot;</td><td>43223</td><td>60000</td><td>-16777</td></tr></tbody></table></div>"
      ],
      "text/plain": [
       "shape: (8, 5)\n",
       "┌─────────────────────┬─────────┬───────┬───────────────────┬──────────┐\n",
       "│ Online or In-Person ┆ Quarter ┆ Value ┆ Quarterly Targets ┆ Variance │\n",
       "│ ---                 ┆ ---     ┆ ---   ┆ ---               ┆ ---      │\n",
       "│ str                 ┆ str     ┆ i64   ┆ i64               ┆ i64      │\n",
       "╞═════════════════════╪═════════╪═══════╪═══════════════════╪══════════╡\n",
       "│ Online              ┆ 1       ┆ 74562 ┆ 72500             ┆ 2062     │\n",
       "│ In-Person           ┆ 1       ┆ 77576 ┆ 75000             ┆ 2576     │\n",
       "│ Online              ┆ 2       ┆ 69325 ┆ 70000             ┆ -675     │\n",
       "│ In-Person           ┆ 2       ┆ 70634 ┆ 70000             ┆ 634      │\n",
       "│ Online              ┆ 3       ┆ 59072 ┆ 60000             ┆ -928     │\n",
       "│ In-Person           ┆ 3       ┆ 74189 ┆ 70000             ┆ 4189     │\n",
       "│ Online              ┆ 4       ┆ 61908 ┆ 60000             ┆ 1908     │\n",
       "│ In-Person           ┆ 4       ┆ 43223 ┆ 60000             ┆ -16777   │\n",
       "└─────────────────────┴─────────┴───────┴───────────────────┴──────────┘"
      ]
     },
     "execution_count": 92,
     "metadata": {},
     "output_type": "execute_result"
    }
   ],
   "source": [
    "final_table.head(20)"
   ]
  },
  {
   "cell_type": "code",
   "execution_count": 95,
   "metadata": {},
   "outputs": [],
   "source": [
    "# (\n",
    "#     dfCITES\n",
    "#     .join(\n",
    "#         dfISO\n",
    "#         ,left_on='Importer'\n",
    "#         ,right_on='alpha-2'\n",
    "#         ,how='left'\n",
    "#     ).rename(\n",
    "#         {\n",
    "#             'name':'name_importer'\n",
    "#             ,'region':'region_importer'\n",
    "#         }\n",
    "#     )\n",
    "# )"
   ]
  }
 ],
 "metadata": {
  "kernelspec": {
   "display_name": "env",
   "language": "python",
   "name": "python3"
  },
  "language_info": {
   "codemirror_mode": {
    "name": "ipython",
    "version": 3
   },
   "file_extension": ".py",
   "mimetype": "text/x-python",
   "name": "python",
   "nbconvert_exporter": "python",
   "pygments_lexer": "ipython3",
   "version": "3.10.11"
  },
  "orig_nbformat": 4
 },
 "nbformat": 4,
 "nbformat_minor": 2
}
