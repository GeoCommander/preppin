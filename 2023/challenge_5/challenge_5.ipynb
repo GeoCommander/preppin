{
 "cells": [
  {
   "cell_type": "code",
   "execution_count": 1,
   "metadata": {},
   "outputs": [
    {
     "data": {
      "text/plain": [
       "polars.config.Config"
      ]
     },
     "execution_count": 1,
     "metadata": {},
     "output_type": "execute_result"
    }
   ],
   "source": [
    "import polars as pl\n",
    "\n",
    "file='https://drive.google.com/u/0/uc?id=1oln2ri6nu1wDQfT3gQMLLNlmQ2h6B9d9&export=download'\n",
    "\n",
    "df=pl.read_csv(file,try_parse_dates=True)\n",
    "\n",
    "pl.Config.set_fmt_str_lengths(50)"
   ]
  },
  {
   "cell_type": "code",
   "execution_count": 2,
   "metadata": {},
   "outputs": [
    {
     "data": {
      "text/html": [
       "<div><style>\n",
       ".dataframe > thead > tr > th,\n",
       ".dataframe > tbody > tr > td {\n",
       "  text-align: right;\n",
       "}\n",
       "</style>\n",
       "<small>shape: (5, 5)</small><table border=\"1\" class=\"dataframe\"><thead><tr><th>Transaction Code</th><th>Value</th><th>Customer Code</th><th>Online or In-Person</th><th>Transaction Date</th></tr><tr><td>str</td><td>i64</td><td>i64</td><td>i64</td><td>datetime[μs]</td></tr></thead><tbody><tr><td>&quot;DTB-716-679-576&quot;</td><td>1448</td><td>100001</td><td>2</td><td>2023-03-20 00:00:00</td></tr><tr><td>&quot;DS-795-814-303&quot;</td><td>7839</td><td>100001</td><td>2</td><td>2023-11-15 00:00:00</td></tr><tr><td>&quot;DSB-807-592-406&quot;</td><td>5520</td><td>100005</td><td>1</td><td>2023-07-14 00:00:00</td></tr><tr><td>&quot;DS-367-545-264&quot;</td><td>7957</td><td>100007</td><td>2</td><td>2023-08-18 00:00:00</td></tr><tr><td>&quot;DSB-474-374-857&quot;</td><td>5375</td><td>100000</td><td>2</td><td>2023-08-26 00:00:00</td></tr></tbody></table></div>"
      ],
      "text/plain": [
       "shape: (5, 5)\n",
       "┌──────────────────┬───────┬───────────────┬─────────────────────┬─────────────────────┐\n",
       "│ Transaction Code ┆ Value ┆ Customer Code ┆ Online or In-Person ┆ Transaction Date    │\n",
       "│ ---              ┆ ---   ┆ ---           ┆ ---                 ┆ ---                 │\n",
       "│ str              ┆ i64   ┆ i64           ┆ i64                 ┆ datetime[μs]        │\n",
       "╞══════════════════╪═══════╪═══════════════╪═════════════════════╪═════════════════════╡\n",
       "│ DTB-716-679-576  ┆ 1448  ┆ 100001        ┆ 2                   ┆ 2023-03-20 00:00:00 │\n",
       "│ DS-795-814-303   ┆ 7839  ┆ 100001        ┆ 2                   ┆ 2023-11-15 00:00:00 │\n",
       "│ DSB-807-592-406  ┆ 5520  ┆ 100005        ┆ 1                   ┆ 2023-07-14 00:00:00 │\n",
       "│ DS-367-545-264   ┆ 7957  ┆ 100007        ┆ 2                   ┆ 2023-08-18 00:00:00 │\n",
       "│ DSB-474-374-857  ┆ 5375  ┆ 100000        ┆ 2                   ┆ 2023-08-26 00:00:00 │\n",
       "└──────────────────┴───────┴───────────────┴─────────────────────┴─────────────────────┘"
      ]
     },
     "execution_count": 2,
     "metadata": {},
     "output_type": "execute_result"
    }
   ],
   "source": [
    "df.head()"
   ]
  },
  {
   "cell_type": "code",
   "execution_count": 3,
   "metadata": {},
   "outputs": [
    {
     "data": {
      "text/html": [
       "<div><style>\n",
       ".dataframe > thead > tr > th,\n",
       ".dataframe > tbody > tr > td {\n",
       "  text-align: right;\n",
       "}\n",
       "</style>\n",
       "<small>shape: (5, 6)</small><table border=\"1\" class=\"dataframe\"><thead><tr><th>Bank</th><th>Transaction Code</th><th>Value</th><th>Customer Code</th><th>Online or In-Person</th><th>Transaction Date</th></tr><tr><td>str</td><td>str</td><td>i64</td><td>i64</td><td>i64</td><td>datetime[μs]</td></tr></thead><tbody><tr><td>&quot;DTB&quot;</td><td>&quot;716-679-576&quot;</td><td>1448</td><td>100001</td><td>2</td><td>2023-03-20 00:00:00</td></tr><tr><td>&quot;DS&quot;</td><td>&quot;795-814-303&quot;</td><td>7839</td><td>100001</td><td>2</td><td>2023-11-15 00:00:00</td></tr><tr><td>&quot;DSB&quot;</td><td>&quot;807-592-406&quot;</td><td>5520</td><td>100005</td><td>1</td><td>2023-07-14 00:00:00</td></tr><tr><td>&quot;DS&quot;</td><td>&quot;367-545-264&quot;</td><td>7957</td><td>100007</td><td>2</td><td>2023-08-18 00:00:00</td></tr><tr><td>&quot;DSB&quot;</td><td>&quot;474-374-857&quot;</td><td>5375</td><td>100000</td><td>2</td><td>2023-08-26 00:00:00</td></tr></tbody></table></div>"
      ],
      "text/plain": [
       "shape: (5, 6)\n",
       "┌──────┬──────────────────┬───────┬───────────────┬─────────────────────┬─────────────────────┐\n",
       "│ Bank ┆ Transaction Code ┆ Value ┆ Customer Code ┆ Online or In-Person ┆ Transaction Date    │\n",
       "│ ---  ┆ ---              ┆ ---   ┆ ---           ┆ ---                 ┆ ---                 │\n",
       "│ str  ┆ str              ┆ i64   ┆ i64           ┆ i64                 ┆ datetime[μs]        │\n",
       "╞══════╪══════════════════╪═══════╪═══════════════╪═════════════════════╪═════════════════════╡\n",
       "│ DTB  ┆ 716-679-576      ┆ 1448  ┆ 100001        ┆ 2                   ┆ 2023-03-20 00:00:00 │\n",
       "│ DS   ┆ 795-814-303      ┆ 7839  ┆ 100001        ┆ 2                   ┆ 2023-11-15 00:00:00 │\n",
       "│ DSB  ┆ 807-592-406      ┆ 5520  ┆ 100005        ┆ 1                   ┆ 2023-07-14 00:00:00 │\n",
       "│ DS   ┆ 367-545-264      ┆ 7957  ┆ 100007        ┆ 2                   ┆ 2023-08-18 00:00:00 │\n",
       "│ DSB  ┆ 474-374-857      ┆ 5375  ┆ 100000        ┆ 2                   ┆ 2023-08-26 00:00:00 │\n",
       "└──────┴──────────────────┴───────┴───────────────┴─────────────────────┴─────────────────────┘"
      ]
     },
     "execution_count": 3,
     "metadata": {},
     "output_type": "execute_result"
    }
   ],
   "source": [
    "# Split Transaction Code into Bank and Transaction Number\n",
    "# Bank is leters before first -\n",
    "# Transaction Code is everything after first -\n",
    "\n",
    "df=df.with_columns(\n",
    "    pl.col('Transaction Code').str.splitn('-',2)\n",
    ")\n",
    "\n",
    "df=df.unnest('Transaction Code')\n",
    "df=df.rename({'field_0':'Bank','field_1':'Transaction Code'})\n",
    "\n",
    "df.head()"
   ]
  },
  {
   "cell_type": "code",
   "execution_count": 4,
   "metadata": {},
   "outputs": [
    {
     "data": {
      "text/html": [
       "<div><style>\n",
       ".dataframe > thead > tr > th,\n",
       ".dataframe > tbody > tr > td {\n",
       "  text-align: right;\n",
       "}\n",
       "</style>\n",
       "<small>shape: (5, 6)</small><table border=\"1\" class=\"dataframe\"><thead><tr><th>Bank</th><th>Transaction Code</th><th>Value</th><th>Customer Code</th><th>Online or In-Person</th><th>Transaction Date</th></tr><tr><td>str</td><td>str</td><td>i64</td><td>i64</td><td>i64</td><td>str</td></tr></thead><tbody><tr><td>&quot;DTB&quot;</td><td>&quot;716-679-576&quot;</td><td>1448</td><td>100001</td><td>2</td><td>&quot;March&quot;</td></tr><tr><td>&quot;DS&quot;</td><td>&quot;795-814-303&quot;</td><td>7839</td><td>100001</td><td>2</td><td>&quot;November&quot;</td></tr><tr><td>&quot;DSB&quot;</td><td>&quot;807-592-406&quot;</td><td>5520</td><td>100005</td><td>1</td><td>&quot;July&quot;</td></tr><tr><td>&quot;DS&quot;</td><td>&quot;367-545-264&quot;</td><td>7957</td><td>100007</td><td>2</td><td>&quot;August&quot;</td></tr><tr><td>&quot;DSB&quot;</td><td>&quot;474-374-857&quot;</td><td>5375</td><td>100000</td><td>2</td><td>&quot;August&quot;</td></tr></tbody></table></div>"
      ],
      "text/plain": [
       "shape: (5, 6)\n",
       "┌──────┬──────────────────┬───────┬───────────────┬─────────────────────┬──────────────────┐\n",
       "│ Bank ┆ Transaction Code ┆ Value ┆ Customer Code ┆ Online or In-Person ┆ Transaction Date │\n",
       "│ ---  ┆ ---              ┆ ---   ┆ ---           ┆ ---                 ┆ ---              │\n",
       "│ str  ┆ str              ┆ i64   ┆ i64           ┆ i64                 ┆ str              │\n",
       "╞══════╪══════════════════╪═══════╪═══════════════╪═════════════════════╪══════════════════╡\n",
       "│ DTB  ┆ 716-679-576      ┆ 1448  ┆ 100001        ┆ 2                   ┆ March            │\n",
       "│ DS   ┆ 795-814-303      ┆ 7839  ┆ 100001        ┆ 2                   ┆ November         │\n",
       "│ DSB  ┆ 807-592-406      ┆ 5520  ┆ 100005        ┆ 1                   ┆ July             │\n",
       "│ DS   ┆ 367-545-264      ┆ 7957  ┆ 100007        ┆ 2                   ┆ August           │\n",
       "│ DSB  ┆ 474-374-857      ┆ 5375  ┆ 100000        ┆ 2                   ┆ August           │\n",
       "└──────┴──────────────────┴───────┴───────────────┴─────────────────────┴──────────────────┘"
      ]
     },
     "execution_count": 4,
     "metadata": {},
     "output_type": "execute_result"
    }
   ],
   "source": [
    "df=df.with_columns(\n",
    "    pl.col('Transaction Date').dt.strftime(\"%B\")\n",
    "    )\n",
    "\n",
    "df.head()"
   ]
  },
  {
   "cell_type": "code",
   "execution_count": 5,
   "metadata": {},
   "outputs": [],
   "source": [
    "df2=df.groupby(['Bank','Transaction Date']).agg(pl.col('Value').sum())"
   ]
  },
  {
   "cell_type": "code",
   "execution_count": 6,
   "metadata": {},
   "outputs": [],
   "source": [
    "df2=df2.with_columns(\n",
    "    pl.col('Value').rank(descending=True).over('Transaction Date').alias('Rank')\n",
    ")\n",
    "\n",
    "# df2.filter(pl.col('Transaction Date') == 'August')"
   ]
  },
  {
   "cell_type": "code",
   "execution_count": 11,
   "metadata": {},
   "outputs": [
    {
     "name": "stdout",
     "output_type": "stream",
     "text": [
      "shape: (36, 6)\n",
      "┌──────┬──────────────────┬────────┬──────┬───────────────────┬────────────────────────────────────┐\n",
      "│ Bank ┆ Transaction Date ┆ Value  ┆ Rank ┆ Avg Rank per Bank ┆ Average Transaction Value per Rank │\n",
      "│ ---  ┆ ---              ┆ ---    ┆ ---  ┆ ---               ┆ ---                                │\n",
      "│ str  ┆ str              ┆ i64    ┆ f32  ┆ f32               ┆ f64                                │\n",
      "╞══════╪══════════════════╪════════╪══════╪═══════════════════╪════════════════════════════════════╡\n",
      "│ DTB  ┆ April            ┆ 42360  ┆ 1.0  ┆ 1.75              ┆ 66967.75                           │\n",
      "│ DS   ┆ April            ┆ 40785  ┆ 2.0  ┆ 1.916667          ┆ 48633.666667                       │\n",
      "│ DSB  ┆ October          ┆ 41707  ┆ 3.0  ┆ 2.333333          ┆ 34620.833333                       │\n",
      "│ DS   ┆ August           ┆ 102237 ┆ 1.0  ┆ 1.916667          ┆ 66967.75                           │\n",
      "│ …    ┆ …                ┆ …      ┆ …    ┆ …                 ┆ …                                  │\n",
      "│ DTB  ┆ July             ┆ 57589  ┆ 2.0  ┆ 1.75              ┆ 48633.666667                       │\n",
      "│ DS   ┆ September        ┆ 41996  ┆ 1.0  ┆ 1.916667          ┆ 66967.75                           │\n",
      "│ DSB  ┆ March            ┆ 78480  ┆ 2.0  ┆ 2.333333          ┆ 48633.666667                       │\n",
      "│ DSB  ┆ February         ┆ 28622  ┆ 3.0  ┆ 2.333333          ┆ 34620.833333                       │\n",
      "└──────┴──────────────────┴────────┴──────┴───────────────────┴────────────────────────────────────┘\n"
     ]
    }
   ],
   "source": [
    "# Group by 'bank' and calculate the average rank\n",
    "avg_rank_df = df2.groupby('Bank').agg(pl.col('Rank').mean().alias('Avg Rank per Bank'))\n",
    "avg_value_df=df2.groupby('Rank').agg(pl.col('Value').mean().alias('Average Transaction Value per Rank'))\n",
    "\n",
    "# Join the result back to the original DataFrame on the 'bank' column\n",
    "result_df = df2.join(avg_rank_df, on='Bank')\n",
    "result_df = result_df.join(avg_value_df, on='Rank')\n",
    "\n",
    "print(result_df)\n"
   ]
  }
 ],
 "metadata": {
  "kernelspec": {
   "display_name": "env",
   "language": "python",
   "name": "python3"
  },
  "language_info": {
   "codemirror_mode": {
    "name": "ipython",
    "version": 3
   },
   "file_extension": ".py",
   "mimetype": "text/x-python",
   "name": "python",
   "nbconvert_exporter": "python",
   "pygments_lexer": "ipython3",
   "version": "3.10.11"
  },
  "orig_nbformat": 4
 },
 "nbformat": 4,
 "nbformat_minor": 2
}
