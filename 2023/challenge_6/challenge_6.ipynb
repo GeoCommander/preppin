{
 "cells": [
  {
   "cell_type": "code",
   "execution_count": 8,
   "metadata": {},
   "outputs": [],
   "source": [
    "import polars as pl\n",
    "pl.Config.set_fmt_str_lengths(50)\n",
    "\n",
    "\n",
    "file='https://drive.google.com/u/0/uc?id=1pSRvEPmZ8h6a3k6t6_-7hwR-4khiQB81&export=download'\n",
    "\n",
    "df=pl.read_csv(file)\n",
    "\n"
   ]
  },
  {
   "cell_type": "code",
   "execution_count": 9,
   "metadata": {},
   "outputs": [
    {
     "data": {
      "text/html": [
       "<div><style>\n",
       ".dataframe > thead > tr > th,\n",
       ".dataframe > tbody > tr > td {\n",
       "  text-align: right;\n",
       "}\n",
       "</style>\n",
       "<small>shape: (5, 11)</small><table border=\"1\" class=\"dataframe\"><thead><tr><th>Customer ID</th><th>Mobile App - Ease of Use</th><th>Mobile App - Ease of Access</th><th>Mobile App - Navigation</th><th>Mobile App - Likelihood to Recommend</th><th>Mobile App - Overall Rating</th><th>Online Interface - Ease of Use</th><th>Online Interface - Ease of Access</th><th>Online Interface - Navigation</th><th>Online Interface - Likelihood to Recommend</th><th>Online Interface - Overall Rating</th></tr><tr><td>i64</td><td>i64</td><td>i64</td><td>i64</td><td>i64</td><td>i64</td><td>i64</td><td>i64</td><td>i64</td><td>i64</td><td>i64</td></tr></thead><tbody><tr><td>535084</td><td>2</td><td>1</td><td>5</td><td>4</td><td>1</td><td>4</td><td>4</td><td>5</td><td>2</td><td>3</td></tr><tr><td>250892</td><td>3</td><td>5</td><td>4</td><td>4</td><td>2</td><td>5</td><td>5</td><td>2</td><td>4</td><td>3</td></tr><tr><td>544191</td><td>5</td><td>3</td><td>4</td><td>4</td><td>1</td><td>3</td><td>3</td><td>2</td><td>3</td><td>1</td></tr><tr><td>949343</td><td>2</td><td>5</td><td>4</td><td>3</td><td>1</td><td>1</td><td>4</td><td>3</td><td>5</td><td>1</td></tr><tr><td>915305</td><td>3</td><td>1</td><td>2</td><td>1</td><td>1</td><td>4</td><td>2</td><td>4</td><td>3</td><td>2</td></tr></tbody></table></div>"
      ],
      "text/plain": [
       "shape: (5, 11)\n",
       "┌───────────┬────────────┬────────────┬────────────┬───┬────────────┬────────────┬────────────┬────────────┐\n",
       "│ Customer  ┆ Mobile App ┆ Mobile App ┆ Mobile App ┆ … ┆ Online     ┆ Online     ┆ Online     ┆ Online     │\n",
       "│ ID        ┆ - Ease of  ┆ - Ease of  ┆ -          ┆   ┆ Interface  ┆ Interface  ┆ Interface  ┆ Interface  │\n",
       "│ ---       ┆ Use        ┆ Access     ┆ Navigation ┆   ┆ - Ease of  ┆ -          ┆ -          ┆ - Overall  │\n",
       "│ i64       ┆ ---        ┆ ---        ┆ ---        ┆   ┆ Access     ┆ Navigation ┆ Likelihood ┆ Rating     │\n",
       "│           ┆ i64        ┆ i64        ┆ i64        ┆   ┆ ---        ┆ ---        ┆ to         ┆ ---        │\n",
       "│           ┆            ┆            ┆            ┆   ┆ i64        ┆ i64        ┆ Recommend  ┆ i64        │\n",
       "│           ┆            ┆            ┆            ┆   ┆            ┆            ┆ ---        ┆            │\n",
       "│           ┆            ┆            ┆            ┆   ┆            ┆            ┆ i64        ┆            │\n",
       "╞═══════════╪════════════╪════════════╪════════════╪═══╪════════════╪════════════╪════════════╪════════════╡\n",
       "│ 535084    ┆ 2          ┆ 1          ┆ 5          ┆ … ┆ 4          ┆ 5          ┆ 2          ┆ 3          │\n",
       "│ 250892    ┆ 3          ┆ 5          ┆ 4          ┆ … ┆ 5          ┆ 2          ┆ 4          ┆ 3          │\n",
       "│ 544191    ┆ 5          ┆ 3          ┆ 4          ┆ … ┆ 3          ┆ 2          ┆ 3          ┆ 1          │\n",
       "│ 949343    ┆ 2          ┆ 5          ┆ 4          ┆ … ┆ 4          ┆ 3          ┆ 5          ┆ 1          │\n",
       "│ 915305    ┆ 3          ┆ 1          ┆ 2          ┆ … ┆ 2          ┆ 4          ┆ 3          ┆ 2          │\n",
       "└───────────┴────────────┴────────────┴────────────┴───┴────────────┴────────────┴────────────┴────────────┘"
      ]
     },
     "execution_count": 9,
     "metadata": {},
     "output_type": "execute_result"
    }
   ],
   "source": [
    "df.head()"
   ]
  },
  {
   "cell_type": "code",
   "execution_count": 11,
   "metadata": {},
   "outputs": [],
   "source": [
    "import polars as pl\n",
    "\n",
    "# Assuming df is your dataframe\n",
    "\n",
    "# Split columns based on platform\n",
    "mobile_app_cols = [col for col in df.columns if \"Mobile App\" in col]\n",
    "online_interface_cols = [col for col in df.columns if \"Online Interface\" in col]\n",
    "\n",
    "# Melt the dataframes\n",
    "mobile_app_melted = df.melt(id_vars=[\"Customer ID\"], value_vars=mobile_app_cols, \n",
    "                            variable_name=\"Question\", value_name=\"Mobile App Rating\")\n",
    "                            \n",
    "online_interface_melted = df.melt(id_vars=[\"Customer ID\"], value_vars=online_interface_cols, \n",
    "                                  variable_name=\"Question\", value_name=\"Online Interface Rating\")\n",
    "\n",
    "# Rename the questions to remove platform-specific prefix\n",
    "mobile_app_melted = mobile_app_melted.with_columns(mobile_app_melted[\"Question\"].apply(lambda x: x.replace(\"Mobile App - \", \"\")))\n",
    "online_interface_melted = online_interface_melted.with_columns(online_interface_melted[\"Question\"].apply(lambda x: x.replace(\"Online Interface - \", \"\")))\n",
    "\n",
    "# Join the melted dataframes\n",
    "reshaped_df = mobile_app_melted.join(online_interface_melted, on=[\"Customer ID\", \"Question\"], how=\"inner\").select(\n",
    "    \"Customer ID\", \"Question\", \"Mobile App Rating\", \"Online Interface Rating\"\n",
    ")\n"
   ]
  },
  {
   "cell_type": "code",
   "execution_count": 12,
   "metadata": {},
   "outputs": [
    {
     "data": {
      "text/html": [
       "<div><style>\n",
       ".dataframe > thead > tr > th,\n",
       ".dataframe > tbody > tr > td {\n",
       "  text-align: right;\n",
       "}\n",
       "</style>\n",
       "<small>shape: (5, 4)</small><table border=\"1\" class=\"dataframe\"><thead><tr><th>Customer ID</th><th>Question</th><th>Mobile App Rating</th><th>Online Interface Rating</th></tr><tr><td>i64</td><td>str</td><td>i64</td><td>i64</td></tr></thead><tbody><tr><td>535084</td><td>&quot;Ease of Use&quot;</td><td>2</td><td>4</td></tr><tr><td>535084</td><td>&quot;Ease of Access&quot;</td><td>1</td><td>4</td></tr><tr><td>535084</td><td>&quot;Navigation&quot;</td><td>5</td><td>5</td></tr><tr><td>535084</td><td>&quot;Likelihood to Recommend&quot;</td><td>4</td><td>2</td></tr><tr><td>535084</td><td>&quot;Overall Rating&quot;</td><td>1</td><td>3</td></tr></tbody></table></div>"
      ],
      "text/plain": [
       "shape: (5, 4)\n",
       "┌─────────────┬─────────────────────────┬───────────────────┬─────────────────────────┐\n",
       "│ Customer ID ┆ Question                ┆ Mobile App Rating ┆ Online Interface Rating │\n",
       "│ ---         ┆ ---                     ┆ ---               ┆ ---                     │\n",
       "│ i64         ┆ str                     ┆ i64               ┆ i64                     │\n",
       "╞═════════════╪═════════════════════════╪═══════════════════╪═════════════════════════╡\n",
       "│ 535084      ┆ Ease of Use             ┆ 2                 ┆ 4                       │\n",
       "│ 535084      ┆ Ease of Access          ┆ 1                 ┆ 4                       │\n",
       "│ 535084      ┆ Navigation              ┆ 5                 ┆ 5                       │\n",
       "│ 535084      ┆ Likelihood to Recommend ┆ 4                 ┆ 2                       │\n",
       "│ 535084      ┆ Overall Rating          ┆ 1                 ┆ 3                       │\n",
       "└─────────────┴─────────────────────────┴───────────────────┴─────────────────────────┘"
      ]
     },
     "execution_count": 12,
     "metadata": {},
     "output_type": "execute_result"
    }
   ],
   "source": [
    "reshaped_df.filter(pl.col('Customer ID') == 535084)"
   ]
  }
 ],
 "metadata": {
  "kernelspec": {
   "display_name": "env",
   "language": "python",
   "name": "python3"
  },
  "language_info": {
   "codemirror_mode": {
    "name": "ipython",
    "version": 3
   },
   "file_extension": ".py",
   "mimetype": "text/x-python",
   "name": "python",
   "nbconvert_exporter": "python",
   "pygments_lexer": "ipython3",
   "version": "3.10.11"
  },
  "orig_nbformat": 4
 },
 "nbformat": 4,
 "nbformat_minor": 2
}
