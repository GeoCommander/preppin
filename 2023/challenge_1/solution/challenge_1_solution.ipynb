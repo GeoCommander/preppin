{
 "cells": [
  {
   "cell_type": "markdown",
   "id": "d5864d8e",
   "metadata": {},
   "source": [
    "# All what I need to know\n",
    "\n",
    "```python\n",
    "`pl.col('col1').map_dict({1:'online', 2:'in-person'})` use replace all the matching data in the field. This function is simmilar to excel `find and replace`\n",
    "\n",
    "`pl.Config.set_fmt_str_lengths(x)`                     use to set how many characters to read from field\n",
    "\n",
    "dt.strftime('%a')\n",
    "```"
   ]
  },
  {
   "cell_type": "code",
   "execution_count": 5,
   "id": "d29de565-7454-4f09-b69b-0c4b10d2bfc1",
   "metadata": {},
   "outputs": [],
   "source": [
    "import polars as pl\n",
    "\n",
    "# file='~/Downloads/PD 2023 Wk 1 Input.csv'\n",
    "file='https://drive.google.com/u/0/uc?id=1oln2ri6nu1wDQfT3gQMLLNlmQ2h6B9d9&export=download'\n",
    "\n",
    "# set str, polars config format\n",
    "pl.Config.set_fmt_str_lengths(50)\n",
    "\n",
    "df=pl.read_csv(file, try_parse_dates=True)"
   ]
  },
  {
   "cell_type": "code",
   "execution_count": 6,
   "id": "c3c5ed8d",
   "metadata": {},
   "outputs": [
    {
     "data": {
      "text/html": [
       "<div><style>\n",
       ".dataframe > thead > tr > th,\n",
       ".dataframe > tbody > tr > td {\n",
       "  text-align: right;\n",
       "}\n",
       "</style>\n",
       "<small>shape: (1, 5)</small><table border=\"1\" class=\"dataframe\"><thead><tr><th>Transaction Code</th><th>Value</th><th>Customer Code</th><th>Online or In-Person</th><th>Transaction Date</th></tr><tr><td>str</td><td>i64</td><td>i64</td><td>i64</td><td>datetime[μs]</td></tr></thead><tbody><tr><td>&quot;DTB-716-679-576&quot;</td><td>1448</td><td>100001</td><td>2</td><td>2023-03-20 00:00:00</td></tr></tbody></table></div>"
      ],
      "text/plain": [
       "shape: (1, 5)\n",
       "┌──────────────────┬───────┬───────────────┬─────────────────────┬─────────────────────┐\n",
       "│ Transaction Code ┆ Value ┆ Customer Code ┆ Online or In-Person ┆ Transaction Date    │\n",
       "│ ---              ┆ ---   ┆ ---           ┆ ---                 ┆ ---                 │\n",
       "│ str              ┆ i64   ┆ i64           ┆ i64                 ┆ datetime[μs]        │\n",
       "╞══════════════════╪═══════╪═══════════════╪═════════════════════╪═════════════════════╡\n",
       "│ DTB-716-679-576  ┆ 1448  ┆ 100001        ┆ 2                   ┆ 2023-03-20 00:00:00 │\n",
       "└──────────────────┴───────┴───────────────┴─────────────────────┴─────────────────────┘"
      ]
     },
     "execution_count": 6,
     "metadata": {},
     "output_type": "execute_result"
    }
   ],
   "source": [
    "df.head(1)"
   ]
  },
  {
   "cell_type": "code",
   "execution_count": 19,
   "id": "e3103359",
   "metadata": {},
   "outputs": [
    {
     "data": {
      "text/html": [
       "<div><style>\n",
       ".dataframe > thead > tr > th,\n",
       ".dataframe > tbody > tr > td {\n",
       "  text-align: right;\n",
       "}\n",
       "</style>\n",
       "<small>shape: (1, 5)</small><table border=\"1\" class=\"dataframe\"><thead><tr><th>Transaction Code</th><th>Value</th><th>Customer Code</th><th>Online or In-Person</th><th>Transaction Date</th></tr><tr><td>u32</td><td>i64</td><td>i64</td><td>i64</td><td>datetime[μs]</td></tr></thead><tbody><tr><td>14</td><td>1448</td><td>100001</td><td>2</td><td>2023-03-20 00:00:00</td></tr></tbody></table></div>"
      ],
      "text/plain": [
       "shape: (1, 5)\n",
       "┌──────────────────┬───────┬───────────────┬─────────────────────┬─────────────────────┐\n",
       "│ Transaction Code ┆ Value ┆ Customer Code ┆ Online or In-Person ┆ Transaction Date    │\n",
       "│ ---              ┆ ---   ┆ ---           ┆ ---                 ┆ ---                 │\n",
       "│ u32              ┆ i64   ┆ i64           ┆ i64                 ┆ datetime[μs]        │\n",
       "╞══════════════════╪═══════╪═══════════════╪═════════════════════╪═════════════════════╡\n",
       "│ 14               ┆ 1448  ┆ 100001        ┆ 2                   ┆ 2023-03-20 00:00:00 │\n",
       "└──────────────────┴───────┴───────────────┴─────────────────────┴─────────────────────┘"
      ]
     },
     "execution_count": 19,
     "metadata": {},
     "output_type": "execute_result"
    }
   ],
   "source": [
    "(\n",
    "    df.with_columns(pl.col(\"Transaction Code\").str.n_chars().min())\n",
    ").head(1)"
   ]
  },
  {
   "cell_type": "code",
   "execution_count": 25,
   "id": "288687ab",
   "metadata": {},
   "outputs": [
    {
     "data": {
      "text/html": [
       "<div><style>\n",
       ".dataframe > thead > tr > th,\n",
       ".dataframe > tbody > tr > td {\n",
       "  text-align: right;\n",
       "}\n",
       "</style>\n",
       "<small>shape: (9, 6)</small><table border=\"1\" class=\"dataframe\"><thead><tr><th>describe</th><th>Transaction Code</th><th>Value</th><th>Customer Code</th><th>Online or In-Person</th><th>Transaction Date</th></tr><tr><td>str</td><td>str</td><td>f64</td><td>f64</td><td>f64</td><td>str</td></tr></thead><tbody><tr><td>&quot;count&quot;</td><td>&quot;365&quot;</td><td>365.0</td><td>365.0</td><td>365.0</td><td>&quot;365&quot;</td></tr><tr><td>&quot;null_count&quot;</td><td>&quot;0&quot;</td><td>0.0</td><td>0.0</td><td>0.0</td><td>&quot;0&quot;</td></tr><tr><td>&quot;mean&quot;</td><td>null</td><td>4938.813699</td><td>100004.961644</td><td>1.528767</td><td>null</td></tr><tr><td>&quot;std&quot;</td><td>null</td><td>2940.973461</td><td>3.277237</td><td>0.499857</td><td>null</td></tr><tr><td>&quot;min&quot;</td><td>&quot;DS-101-351-324&quot;</td><td>13.0</td><td>100000.0</td><td>1.0</td><td>&quot;2023-01-03 00:00:00&quot;</td></tr><tr><td>&quot;max&quot;</td><td>&quot;DTB-996-407-559&quot;</td><td>9967.0</td><td>100010.0</td><td>2.0</td><td>&quot;2024-01-01 00:00:00&quot;</td></tr><tr><td>&quot;median&quot;</td><td>null</td><td>4743.0</td><td>100005.0</td><td>2.0</td><td>null</td></tr><tr><td>&quot;25%&quot;</td><td>null</td><td>2321.0</td><td>100002.0</td><td>1.0</td><td>null</td></tr><tr><td>&quot;75%&quot;</td><td>null</td><td>7427.0</td><td>100008.0</td><td>2.0</td><td>null</td></tr></tbody></table></div>"
      ],
      "text/plain": [
       "shape: (9, 6)\n",
       "┌────────────┬──────────────────┬─────────────┬───────────────┬───────────┬─────────────────────┐\n",
       "│ describe   ┆ Transaction Code ┆ Value       ┆ Customer Code ┆ Online or ┆ Transaction Date    │\n",
       "│ ---        ┆ ---              ┆ ---         ┆ ---           ┆ In-Person ┆ ---                 │\n",
       "│ str        ┆ str              ┆ f64         ┆ f64           ┆ ---       ┆ str                 │\n",
       "│            ┆                  ┆             ┆               ┆ f64       ┆                     │\n",
       "╞════════════╪══════════════════╪═════════════╪═══════════════╪═══════════╪═════════════════════╡\n",
       "│ count      ┆ 365              ┆ 365.0       ┆ 365.0         ┆ 365.0     ┆ 365                 │\n",
       "│ null_count ┆ 0                ┆ 0.0         ┆ 0.0           ┆ 0.0       ┆ 0                   │\n",
       "│ mean       ┆ null             ┆ 4938.813699 ┆ 100004.961644 ┆ 1.528767  ┆ null                │\n",
       "│ std        ┆ null             ┆ 2940.973461 ┆ 3.277237      ┆ 0.499857  ┆ null                │\n",
       "│ min        ┆ DS-101-351-324   ┆ 13.0        ┆ 100000.0      ┆ 1.0       ┆ 2023-01-03 00:00:00 │\n",
       "│ max        ┆ DTB-996-407-559  ┆ 9967.0      ┆ 100010.0      ┆ 2.0       ┆ 2024-01-01 00:00:00 │\n",
       "│ median     ┆ null             ┆ 4743.0      ┆ 100005.0      ┆ 2.0       ┆ null                │\n",
       "│ 25%        ┆ null             ┆ 2321.0      ┆ 100002.0      ┆ 1.0       ┆ null                │\n",
       "│ 75%        ┆ null             ┆ 7427.0      ┆ 100008.0      ┆ 2.0       ┆ null                │\n",
       "└────────────┴──────────────────┴─────────────┴───────────────┴───────────┴─────────────────────┘"
      ]
     },
     "execution_count": 25,
     "metadata": {},
     "output_type": "execute_result"
    }
   ],
   "source": [
    "(\n",
    "    df.describe()\n",
    ").head(15)"
   ]
  },
  {
   "cell_type": "code",
   "execution_count": 7,
   "id": "39f924cf",
   "metadata": {},
   "outputs": [
    {
     "data": {
      "text/html": [
       "<div><style>\n",
       ".dataframe > thead > tr > th,\n",
       ".dataframe > tbody > tr > td {\n",
       "  text-align: right;\n",
       "}\n",
       "</style>\n",
       "<small>shape: (5, 6)</small><table border=\"1\" class=\"dataframe\"><thead><tr><th>Transaction Code</th><th>Value</th><th>Customer Code</th><th>Online or In-Person</th><th>Transaction Date</th><th>length</th></tr><tr><td>str</td><td>i64</td><td>i64</td><td>i64</td><td>datetime[μs]</td><td>u32</td></tr></thead><tbody><tr><td>&quot;DTB-716-679-576&quot;</td><td>1448</td><td>100001</td><td>2</td><td>2023-03-20 00:00:00</td><td>15</td></tr><tr><td>&quot;DS-795-814-303&quot;</td><td>7839</td><td>100001</td><td>2</td><td>2023-11-15 00:00:00</td><td>14</td></tr><tr><td>&quot;DSB-807-592-406&quot;</td><td>5520</td><td>100005</td><td>1</td><td>2023-07-14 00:00:00</td><td>15</td></tr><tr><td>&quot;DS-367-545-264&quot;</td><td>7957</td><td>100007</td><td>2</td><td>2023-08-18 00:00:00</td><td>14</td></tr><tr><td>&quot;DSB-474-374-857&quot;</td><td>5375</td><td>100000</td><td>2</td><td>2023-08-26 00:00:00</td><td>15</td></tr></tbody></table></div>"
      ],
      "text/plain": [
       "shape: (5, 6)\n",
       "┌──────────────────┬───────┬───────────────┬─────────────────────┬─────────────────────┬────────┐\n",
       "│ Transaction Code ┆ Value ┆ Customer Code ┆ Online or In-Person ┆ Transaction Date    ┆ length │\n",
       "│ ---              ┆ ---   ┆ ---           ┆ ---                 ┆ ---                 ┆ ---    │\n",
       "│ str              ┆ i64   ┆ i64           ┆ i64                 ┆ datetime[μs]        ┆ u32    │\n",
       "╞══════════════════╪═══════╪═══════════════╪═════════════════════╪═════════════════════╪════════╡\n",
       "│ DTB-716-679-576  ┆ 1448  ┆ 100001        ┆ 2                   ┆ 2023-03-20 00:00:00 ┆ 15     │\n",
       "│ DS-795-814-303   ┆ 7839  ┆ 100001        ┆ 2                   ┆ 2023-11-15 00:00:00 ┆ 14     │\n",
       "│ DSB-807-592-406  ┆ 5520  ┆ 100005        ┆ 1                   ┆ 2023-07-14 00:00:00 ┆ 15     │\n",
       "│ DS-367-545-264   ┆ 7957  ┆ 100007        ┆ 2                   ┆ 2023-08-18 00:00:00 ┆ 14     │\n",
       "│ DSB-474-374-857  ┆ 5375  ┆ 100000        ┆ 2                   ┆ 2023-08-26 00:00:00 ┆ 15     │\n",
       "└──────────────────┴───────┴───────────────┴─────────────────────┴─────────────────────┴────────┘"
      ]
     },
     "execution_count": 7,
     "metadata": {},
     "output_type": "execute_result"
    }
   ],
   "source": [
    "(\n",
    "    a=df.with_columns(pl.col(\"Transaction Code\").str.n_chars().alias(\"length\"))\n",
    ").head()"
   ]
  },
  {
   "cell_type": "code",
   "execution_count": null,
   "id": "fa8f1138",
   "metadata": {},
   "outputs": [],
   "source": [
    "max_length = df.select(pl.col(\"length\").max()).collect()[0][0]"
   ]
  },
  {
   "cell_type": "code",
   "execution_count": 15,
   "id": "079010e8-93b8-4130-ae9d-96e58144364b",
   "metadata": {},
   "outputs": [
    {
     "data": {
      "text/plain": [
       "{'Transaction Code': Utf8,\n",
       " 'Value': Int64,\n",
       " 'Customer Code': Int64,\n",
       " 'Online or In-Person': Int64,\n",
       " 'Transaction Date': Datetime(time_unit='us', time_zone=None)}"
      ]
     },
     "execution_count": 15,
     "metadata": {},
     "output_type": "execute_result"
    }
   ],
   "source": [
    "df.schema"
   ]
  },
  {
   "cell_type": "code",
   "execution_count": 16,
   "id": "c76d7791-1ea0-40dd-ad48-288698225f31",
   "metadata": {},
   "outputs": [
    {
     "data": {
      "text/html": [
       "<div><style>\n",
       ".dataframe > thead > tr > th,\n",
       ".dataframe > tbody > tr > td {\n",
       "  text-align: right;\n",
       "}\n",
       "</style>\n",
       "<small>shape: (1, 5)</small><table border=\"1\" class=\"dataframe\"><thead><tr><th>Transaction Code</th><th>Value</th><th>Customer Code</th><th>Online or In-Person</th><th>Transaction Date</th></tr><tr><td>str</td><td>i64</td><td>i64</td><td>i64</td><td>datetime[μs]</td></tr></thead><tbody><tr><td>&quot;DS-586-726-999&quot;</td><td>9967</td><td>100007</td><td>2</td><td>2023-09-20 00:00:00</td></tr></tbody></table></div>"
      ],
      "text/plain": [
       "shape: (1, 5)\n",
       "┌──────────────────┬───────┬───────────────┬─────────────────────┬─────────────────────┐\n",
       "│ Transaction Code ┆ Value ┆ Customer Code ┆ Online or In-Person ┆ Transaction Date    │\n",
       "│ ---              ┆ ---   ┆ ---           ┆ ---                 ┆ ---                 │\n",
       "│ str              ┆ i64   ┆ i64           ┆ i64                 ┆ datetime[μs]        │\n",
       "╞══════════════════╪═══════╪═══════════════╪═════════════════════╪═════════════════════╡\n",
       "│ DS-586-726-999   ┆ 9967  ┆ 100007        ┆ 2                   ┆ 2023-09-20 00:00:00 │\n",
       "└──────────────────┴───────┴───────────────┴─────────────────────┴─────────────────────┘"
      ]
     },
     "execution_count": 16,
     "metadata": {},
     "output_type": "execute_result"
    }
   ],
   "source": [
    "df.sort('Value').tail(1)"
   ]
  },
  {
   "cell_type": "code",
   "execution_count": 17,
   "id": "63032dab-f50c-452e-8ae0-c3ddd892dd1a",
   "metadata": {},
   "outputs": [
    {
     "data": {
      "text/html": [
       "<div><style>\n",
       ".dataframe > thead > tr > th,\n",
       ".dataframe > tbody > tr > td {\n",
       "  text-align: right;\n",
       "}\n",
       "</style>\n",
       "<small>shape: (1, 5)</small><table border=\"1\" class=\"dataframe\"><thead><tr><th>Transaction Code</th><th>Value</th><th>Customer Code</th><th>Online or In-Person</th><th>Transaction Date</th></tr><tr><td>u32</td><td>u32</td><td>u32</td><td>u32</td><td>u32</td></tr></thead><tbody><tr><td>0</td><td>0</td><td>0</td><td>0</td><td>0</td></tr></tbody></table></div>"
      ],
      "text/plain": [
       "shape: (1, 5)\n",
       "┌──────────────────┬───────┬───────────────┬─────────────────────┬──────────────────┐\n",
       "│ Transaction Code ┆ Value ┆ Customer Code ┆ Online or In-Person ┆ Transaction Date │\n",
       "│ ---              ┆ ---   ┆ ---           ┆ ---                 ┆ ---              │\n",
       "│ u32              ┆ u32   ┆ u32           ┆ u32                 ┆ u32              │\n",
       "╞══════════════════╪═══════╪═══════════════╪═════════════════════╪══════════════════╡\n",
       "│ 0                ┆ 0     ┆ 0             ┆ 0                   ┆ 0                │\n",
       "└──────────────────┴───────┴───────────────┴─────────────────────┴──────────────────┘"
      ]
     },
     "execution_count": 17,
     "metadata": {},
     "output_type": "execute_result"
    }
   ],
   "source": [
    "df.null_count()"
   ]
  },
  {
   "cell_type": "code",
   "execution_count": 18,
   "id": "0558115a-9da7-4848-946f-f13a92e31353",
   "metadata": {},
   "outputs": [
    {
     "data": {
      "text/html": [
       "<div><style>\n",
       ".dataframe > thead > tr > th,\n",
       ".dataframe > tbody > tr > td {\n",
       "  text-align: right;\n",
       "}\n",
       "</style>\n",
       "<small>shape: (1, 6)</small><table border=\"1\" class=\"dataframe\"><thead><tr><th>Value</th><th>Customer Code</th><th>Online or In-Person</th><th>Transaction Date</th><th>Bank Code</th><th>Transaction Number</th></tr><tr><td>i64</td><td>i64</td><td>i64</td><td>datetime[μs]</td><td>str</td><td>str</td></tr></thead><tbody><tr><td>1448</td><td>100001</td><td>2</td><td>2023-03-20 00:00:00</td><td>&quot;DTB&quot;</td><td>&quot;716-679-576&quot;</td></tr></tbody></table></div>"
      ],
      "text/plain": [
       "shape: (1, 6)\n",
       "┌───────┬───────────────┬───────────┬─────────────────────┬───────────┬────────────────────┐\n",
       "│ Value ┆ Customer Code ┆ Online or ┆ Transaction Date    ┆ Bank Code ┆ Transaction Number │\n",
       "│ ---   ┆ ---           ┆ In-Person ┆ ---                 ┆ ---       ┆ ---                │\n",
       "│ i64   ┆ i64           ┆ ---       ┆ datetime[μs]        ┆ str       ┆ str                │\n",
       "│       ┆               ┆ i64       ┆                     ┆           ┆                    │\n",
       "╞═══════╪═══════════════╪═══════════╪═════════════════════╪═══════════╪════════════════════╡\n",
       "│ 1448  ┆ 100001        ┆ 2         ┆ 2023-03-20 00:00:00 ┆ DTB       ┆ 716-679-576        │\n",
       "└───────┴───────────────┴───────────┴─────────────────────┴───────────┴────────────────────┘"
      ]
     },
     "execution_count": 18,
     "metadata": {},
     "output_type": "execute_result"
    }
   ],
   "source": [
    "# df = df.with_columns(\n",
    "#     [\n",
    "#         pl.col(\"Transaction Code\")\n",
    "#         .str.splitn(\"-\", 2)\n",
    "#         .struct.rename_fields([\"first_part\", \"second_part\"])\n",
    "#         .alias(\"fields\"),\n",
    "#     ]\n",
    "# ).unnest(\"fields\")\n",
    "\n",
    "df = df.with_columns(\n",
    "    [\n",
    "        pl.col('Transaction Code')\n",
    "        .str.splitn('-',2)\n",
    "        .alias('Fields')\n",
    "        .struct.rename_fields(['Bank Code','Transaction Number'])\n",
    "    ]\n",
    ")\n",
    "\n",
    "df=df.drop('Transaction Code')\n",
    "df=df.unnest('Fields')\n",
    "df.head(1)"
   ]
  },
  {
   "cell_type": "code",
   "execution_count": 19,
   "id": "20cdbcf9-da1f-4e17-b254-60e9c07dadcb",
   "metadata": {},
   "outputs": [
    {
     "data": {
      "text/html": [
       "<div><style>\n",
       ".dataframe > thead > tr > th,\n",
       ".dataframe > tbody > tr > td {\n",
       "  text-align: right;\n",
       "}\n",
       "</style>\n",
       "<small>shape: (11, 2)</small><table border=\"1\" class=\"dataframe\"><thead><tr><th>Customer Code</th><th>counts</th></tr><tr><td>i64</td><td>u32</td></tr></thead><tbody><tr><td>100000</td><td>36</td></tr><tr><td>100001</td><td>38</td></tr><tr><td>100002</td><td>28</td></tr><tr><td>100003</td><td>36</td></tr><tr><td>100004</td><td>36</td></tr><tr><td>100005</td><td>31</td></tr><tr><td>100006</td><td>30</td></tr><tr><td>100007</td><td>26</td></tr><tr><td>100008</td><td>32</td></tr><tr><td>100009</td><td>28</td></tr><tr><td>100010</td><td>44</td></tr></tbody></table></div>"
      ],
      "text/plain": [
       "shape: (11, 2)\n",
       "┌───────────────┬────────┐\n",
       "│ Customer Code ┆ counts │\n",
       "│ ---           ┆ ---    │\n",
       "│ i64           ┆ u32    │\n",
       "╞═══════════════╪════════╡\n",
       "│ 100000        ┆ 36     │\n",
       "│ 100001        ┆ 38     │\n",
       "│ 100002        ┆ 28     │\n",
       "│ 100003        ┆ 36     │\n",
       "│ …             ┆ …      │\n",
       "│ 100007        ┆ 26     │\n",
       "│ 100008        ┆ 32     │\n",
       "│ 100009        ┆ 28     │\n",
       "│ 100010        ┆ 44     │\n",
       "└───────────────┴────────┘"
      ]
     },
     "execution_count": 19,
     "metadata": {},
     "output_type": "execute_result"
    }
   ],
   "source": [
    "df['Customer Code'].value_counts().sort('Customer Code')"
   ]
  },
  {
   "cell_type": "code",
   "execution_count": 20,
   "id": "8c9ef155-b83e-4e58-977e-fa0809f1b484",
   "metadata": {},
   "outputs": [
    {
     "data": {
      "text/html": [
       "<div><style>\n",
       ".dataframe > thead > tr > th,\n",
       ".dataframe > tbody > tr > td {\n",
       "  text-align: right;\n",
       "}\n",
       "</style>\n",
       "<small>shape: (1, 6)</small><table border=\"1\" class=\"dataframe\"><thead><tr><th>Value</th><th>Customer Code</th><th>Online or In-Person</th><th>Transaction Date</th><th>Bank Code</th><th>Transaction Number</th></tr><tr><td>i64</td><td>i64</td><td>i64</td><td>datetime[μs]</td><td>str</td><td>str</td></tr></thead><tbody><tr><td>1448</td><td>100001</td><td>2</td><td>2023-03-20 00:00:00</td><td>&quot;DTB&quot;</td><td>&quot;716-679-576&quot;</td></tr></tbody></table></div>"
      ],
      "text/plain": [
       "shape: (1, 6)\n",
       "┌───────┬───────────────┬───────────┬─────────────────────┬───────────┬────────────────────┐\n",
       "│ Value ┆ Customer Code ┆ Online or ┆ Transaction Date    ┆ Bank Code ┆ Transaction Number │\n",
       "│ ---   ┆ ---           ┆ In-Person ┆ ---                 ┆ ---       ┆ ---                │\n",
       "│ i64   ┆ i64           ┆ ---       ┆ datetime[μs]        ┆ str       ┆ str                │\n",
       "│       ┆               ┆ i64       ┆                     ┆           ┆                    │\n",
       "╞═══════╪═══════════════╪═══════════╪═════════════════════╪═══════════╪════════════════════╡\n",
       "│ 1448  ┆ 100001        ┆ 2         ┆ 2023-03-20 00:00:00 ┆ DTB       ┆ 716-679-576        │\n",
       "└───────┴───────────────┴───────────┴─────────────────────┴───────────┴────────────────────┘"
      ]
     },
     "execution_count": 20,
     "metadata": {},
     "output_type": "execute_result"
    }
   ],
   "source": [
    "df.head(1)"
   ]
  },
  {
   "cell_type": "code",
   "execution_count": 21,
   "id": "42099aba",
   "metadata": {},
   "outputs": [
    {
     "data": {
      "text/html": [
       "<div><style>\n",
       ".dataframe > thead > tr > th,\n",
       ".dataframe > tbody > tr > td {\n",
       "  text-align: right;\n",
       "}\n",
       "</style>\n",
       "<small>shape: (1, 6)</small><table border=\"1\" class=\"dataframe\"><thead><tr><th>Value</th><th>Customer Code</th><th>Online or In-Person</th><th>Transaction Date</th><th>Bank Code</th><th>Transaction Number</th></tr><tr><td>i64</td><td>i64</td><td>str</td><td>datetime[μs]</td><td>str</td><td>str</td></tr></thead><tbody><tr><td>1448</td><td>100001</td><td>&quot;in-person&quot;</td><td>2023-03-20 00:00:00</td><td>&quot;DTB&quot;</td><td>&quot;716-679-576&quot;</td></tr></tbody></table></div>"
      ],
      "text/plain": [
       "shape: (1, 6)\n",
       "┌───────┬───────────────┬───────────┬─────────────────────┬───────────┬────────────────────┐\n",
       "│ Value ┆ Customer Code ┆ Online or ┆ Transaction Date    ┆ Bank Code ┆ Transaction Number │\n",
       "│ ---   ┆ ---           ┆ In-Person ┆ ---                 ┆ ---       ┆ ---                │\n",
       "│ i64   ┆ i64           ┆ ---       ┆ datetime[μs]        ┆ str       ┆ str                │\n",
       "│       ┆               ┆ str       ┆                     ┆           ┆                    │\n",
       "╞═══════╪═══════════════╪═══════════╪═════════════════════╪═══════════╪════════════════════╡\n",
       "│ 1448  ┆ 100001        ┆ in-person ┆ 2023-03-20 00:00:00 ┆ DTB       ┆ 716-679-576        │\n",
       "└───────┴───────────────┴───────────┴─────────────────────┴───────────┴────────────────────┘"
      ]
     },
     "execution_count": 21,
     "metadata": {},
     "output_type": "execute_result"
    }
   ],
   "source": [
    "import polars as pl\n",
    "\n",
    "# Assuming df is your DataFrame and 'place' is the column you want to rename\n",
    "df = df.with_columns(pl.col(\"Online or In-Person\").map_dict({1: 'online', 2: 'in-person'}).alias(\"Online or In-Person\"))\n",
    "df.head(1)"
   ]
  },
  {
   "cell_type": "code",
   "execution_count": 22,
   "id": "4f25a2e9",
   "metadata": {},
   "outputs": [],
   "source": [
    "df=df.with_columns(\n",
    "    pl.col('Transaction Date').dt.strftime('%a')\n",
    ")"
   ]
  },
  {
   "cell_type": "code",
   "execution_count": 23,
   "id": "8de4f875",
   "metadata": {},
   "outputs": [
    {
     "data": {
      "text/html": [
       "<div><style>\n",
       ".dataframe > thead > tr > th,\n",
       ".dataframe > tbody > tr > td {\n",
       "  text-align: right;\n",
       "}\n",
       "</style>\n",
       "<small>shape: (3, 2)</small><table border=\"1\" class=\"dataframe\"><thead><tr><th>Bank Code</th><th>Value</th></tr><tr><td>str</td><td>i64</td></tr></thead><tbody><tr><td>&quot;DSB&quot;</td><td>530489</td></tr><tr><td>&quot;DTB&quot;</td><td>618238</td></tr><tr><td>&quot;DS&quot;</td><td>653940</td></tr></tbody></table></div>"
      ],
      "text/plain": [
       "shape: (3, 2)\n",
       "┌───────────┬────────┐\n",
       "│ Bank Code ┆ Value  │\n",
       "│ ---       ┆ ---    │\n",
       "│ str       ┆ i64    │\n",
       "╞═══════════╪════════╡\n",
       "│ DSB       ┆ 530489 │\n",
       "│ DTB       ┆ 618238 │\n",
       "│ DS        ┆ 653940 │\n",
       "└───────────┴────────┘"
      ]
     },
     "execution_count": 23,
     "metadata": {},
     "output_type": "execute_result"
    }
   ],
   "source": [
    "\n",
    "a=df.groupby(pl.col('Bank Code')).agg(pl.col('Value').sum())\n",
    "\n",
    "a.head()\n"
   ]
  },
  {
   "cell_type": "code",
   "execution_count": 24,
   "id": "b2216982",
   "metadata": {},
   "outputs": [
    {
     "data": {
      "text/html": [
       "<div><style>\n",
       ".dataframe > thead > tr > th,\n",
       ".dataframe > tbody > tr > td {\n",
       "  text-align: right;\n",
       "}\n",
       "</style>\n",
       "<small>shape: (5, 4)</small><table border=\"1\" class=\"dataframe\"><thead><tr><th>Bank Code</th><th>Transaction Date</th><th>Online or In-Person</th><th>Value</th></tr><tr><td>str</td><td>str</td><td>str</td><td>i64</td></tr></thead><tbody><tr><td>&quot;DS&quot;</td><td>&quot;Wed&quot;</td><td>&quot;in-person&quot;</td><td>63686</td></tr><tr><td>&quot;DS&quot;</td><td>&quot;Sun&quot;</td><td>&quot;in-person&quot;</td><td>51301</td></tr><tr><td>&quot;DS&quot;</td><td>&quot;Thu&quot;</td><td>&quot;in-person&quot;</td><td>75582</td></tr><tr><td>&quot;DS&quot;</td><td>&quot;Fri&quot;</td><td>&quot;in-person&quot;</td><td>58599</td></tr><tr><td>&quot;DS&quot;</td><td>&quot;Tue&quot;</td><td>&quot;online&quot;</td><td>36639</td></tr></tbody></table></div>"
      ],
      "text/plain": [
       "shape: (5, 4)\n",
       "┌───────────┬──────────────────┬─────────────────────┬───────┐\n",
       "│ Bank Code ┆ Transaction Date ┆ Online or In-Person ┆ Value │\n",
       "│ ---       ┆ ---              ┆ ---                 ┆ ---   │\n",
       "│ str       ┆ str              ┆ str                 ┆ i64   │\n",
       "╞═══════════╪══════════════════╪═════════════════════╪═══════╡\n",
       "│ DS        ┆ Wed              ┆ in-person           ┆ 63686 │\n",
       "│ DS        ┆ Sun              ┆ in-person           ┆ 51301 │\n",
       "│ DS        ┆ Thu              ┆ in-person           ┆ 75582 │\n",
       "│ DS        ┆ Fri              ┆ in-person           ┆ 58599 │\n",
       "│ DS        ┆ Tue              ┆ online              ┆ 36639 │\n",
       "└───────────┴──────────────────┴─────────────────────┴───────┘"
      ]
     },
     "execution_count": 24,
     "metadata": {},
     "output_type": "execute_result"
    }
   ],
   "source": [
    "b=df.groupby(pl.col(['Bank Code','Transaction Date','Online or In-Person'])).agg(pl.col('Value').sum()).sort('Bank Code')\n",
    "\n",
    "b.head()"
   ]
  },
  {
   "cell_type": "code",
   "execution_count": 25,
   "id": "3aeeb755",
   "metadata": {},
   "outputs": [
    {
     "data": {
      "text/html": [
       "<div><style>\n",
       ".dataframe > thead > tr > th,\n",
       ".dataframe > tbody > tr > td {\n",
       "  text-align: right;\n",
       "}\n",
       "</style>\n",
       "<small>shape: (5, 3)</small><table border=\"1\" class=\"dataframe\"><thead><tr><th>Bank Code</th><th>Customer Code</th><th>Value</th></tr><tr><td>str</td><td>i64</td><td>i64</td></tr></thead><tbody><tr><td>&quot;DS&quot;</td><td>100008</td><td>56400</td></tr><tr><td>&quot;DS&quot;</td><td>100007</td><td>76190</td></tr><tr><td>&quot;DS&quot;</td><td>100005</td><td>39668</td></tr><tr><td>&quot;DS&quot;</td><td>100003</td><td>25482</td></tr><tr><td>&quot;DS&quot;</td><td>100010</td><td>77893</td></tr></tbody></table></div>"
      ],
      "text/plain": [
       "shape: (5, 3)\n",
       "┌───────────┬───────────────┬───────┐\n",
       "│ Bank Code ┆ Customer Code ┆ Value │\n",
       "│ ---       ┆ ---           ┆ ---   │\n",
       "│ str       ┆ i64           ┆ i64   │\n",
       "╞═══════════╪═══════════════╪═══════╡\n",
       "│ DS        ┆ 100008        ┆ 56400 │\n",
       "│ DS        ┆ 100007        ┆ 76190 │\n",
       "│ DS        ┆ 100005        ┆ 39668 │\n",
       "│ DS        ┆ 100003        ┆ 25482 │\n",
       "│ DS        ┆ 100010        ┆ 77893 │\n",
       "└───────────┴───────────────┴───────┘"
      ]
     },
     "execution_count": 25,
     "metadata": {},
     "output_type": "execute_result"
    }
   ],
   "source": [
    "c=df.groupby(pl.col(['Bank Code','Customer Code'])).agg(pl.col('Value').sum()).sort('Bank Code')\n",
    "\n",
    "c.head()"
   ]
  },
  {
   "cell_type": "code",
   "execution_count": 27,
   "id": "fead7b82",
   "metadata": {},
   "outputs": [],
   "source": [
    "a.write_csv('a.csv')\n",
    "b.write_csv('b.csv')\n",
    "c.write_csv('c.csv')"
   ]
  }
 ],
 "metadata": {
  "kernelspec": {
   "display_name": "Python 3 (ipykernel)",
   "language": "python",
   "name": "python3"
  },
  "language_info": {
   "codemirror_mode": {
    "name": "ipython",
    "version": 3
   },
   "file_extension": ".py",
   "mimetype": "text/x-python",
   "name": "python",
   "nbconvert_exporter": "python",
   "pygments_lexer": "ipython3",
   "version": "3.10.11"
  }
 },
 "nbformat": 4,
 "nbformat_minor": 5
}
