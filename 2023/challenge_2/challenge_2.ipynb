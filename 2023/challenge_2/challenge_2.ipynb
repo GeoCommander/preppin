{
 "cells": [
  {
   "cell_type": "code",
   "execution_count": 11,
   "metadata": {},
   "outputs": [
    {
     "name": "stderr",
     "output_type": "stream",
     "text": [
      "Summarize dataset: 100%|██████████| 12/12 [00:00<00:00, 45.50it/s, Completed]                   \n",
      "Generate report structure: 100%|██████████| 1/1 [00:00<00:00,  1.12it/s]\n",
      "Render HTML: 100%|██████████| 1/1 [00:00<00:00,  8.30it/s]\n",
      "Export report to file: 100%|██████████| 1/1 [00:00<00:00, 379.16it/s]\n"
     ]
    },
    {
     "data": {
      "text/html": [
       "<div><style>\n",
       ".dataframe > thead > tr > th,\n",
       ".dataframe > tbody > tr > td {\n",
       "  text-align: right;\n",
       "}\n",
       "</style>\n",
       "<small>shape: (5, 3)</small><table border=\"1\" class=\"dataframe\"><thead><tr><th>Bank</th><th>SWIFT code</th><th>Check Digits</th></tr><tr><td>str</td><td>str</td><td>str</td></tr></thead><tbody><tr><td>&quot;Lloyds Bank&quot;</td><td>&quot;LOYD&quot;</td><td>&quot;C1&quot;</td></tr><tr><td>&quot;Barclays Bank&quot;</td><td>&quot;BARC&quot;</td><td>&quot;22&quot;</td></tr><tr><td>&quot;Halifax&quot;</td><td>&quot;HLFX&quot;</td><td>&quot;22&quot;</td></tr><tr><td>&quot;HSBC&quot;</td><td>&quot;HBUK&quot;</td><td>&quot;4B&quot;</td></tr><tr><td>&quot;Natwest&quot;</td><td>&quot;NWBK&quot;</td><td>&quot;2L&quot;</td></tr></tbody></table></div>"
      ],
      "text/plain": [
       "shape: (5, 3)\n",
       "┌───────────────┬────────────┬──────────────┐\n",
       "│ Bank          ┆ SWIFT code ┆ Check Digits │\n",
       "│ ---           ┆ ---        ┆ ---          │\n",
       "│ str           ┆ str        ┆ str          │\n",
       "╞═══════════════╪════════════╪══════════════╡\n",
       "│ Lloyds Bank   ┆ LOYD       ┆ C1           │\n",
       "│ Barclays Bank ┆ BARC       ┆ 22           │\n",
       "│ Halifax       ┆ HLFX       ┆ 22           │\n",
       "│ HSBC          ┆ HBUK       ┆ 4B           │\n",
       "│ Natwest       ┆ NWBK       ┆ 2L           │\n",
       "└───────────────┴────────────┴──────────────┘"
      ]
     },
     "execution_count": 11,
     "metadata": {},
     "output_type": "execute_result"
    }
   ],
   "source": [
    "import polars as pl\n",
    "import pandas as pd\n",
    "\n",
    "import pandas_profiling as pf\n",
    "pl.Config.set_fmt_str_lengths(50)\n",
    "\n",
    "swift_does_file='https://drive.google.com/u/0/uc?id=1AxOZbkyk3goruw8-y9MdjalekwEJyTrf&export=download'\n",
    "transaction_file='https://drive.google.com/u/0/uc?id=14Vth2qaJPj_Iq0JyC-3aMo9-Jfa9wPXg&export=download'\n",
    "\n",
    "df_swift_codes=pl.from_pandas(pd.read_csv(swift_does_file))\n",
    "df_transactions=pl.from_pandas(pd.read_csv(transaction_file))\n",
    "\n",
    "pf.ProfileReport(pd.read_csv(swift_does_file)).to_file('switft_profile.html')\n",
    "df_swift_codes.head(5)\n",
    "\n"
   ]
  },
  {
   "cell_type": "code",
   "execution_count": 13,
   "id": "0c24eeb3",
   "metadata": {},
   "outputs": [
    {
     "name": "stderr",
     "output_type": "stream",
     "text": [
      "Summarize dataset: 100%|██████████| 17/17 [00:00<00:00, 28.50it/s, Completed]                            \n",
      "Generate report structure: 100%|██████████| 1/1 [00:01<00:00,  1.01s/it]\n",
      "Render HTML: 100%|██████████| 1/1 [00:00<00:00,  6.71it/s]\n",
      "Export report to file: 100%|██████████| 1/1 [00:00<00:00, 1108.72it/s]\n"
     ]
    },
    {
     "data": {
      "text/html": [
       "<div><style>\n",
       ".dataframe > thead > tr > th,\n",
       ".dataframe > tbody > tr > td {\n",
       "  text-align: right;\n",
       "}\n",
       "</style>\n",
       "<small>shape: (5, 4)</small><table border=\"1\" class=\"dataframe\"><thead><tr><th>Transaction ID</th><th>Account Number</th><th>Sort Code</th><th>Bank</th></tr><tr><td>i64</td><td>i64</td><td>str</td><td>str</td></tr></thead><tbody><tr><td>3888</td><td>62230725</td><td>&quot;95-98-82&quot;</td><td>&quot;Data Source Bank&quot;</td></tr><tr><td>4746</td><td>83172326</td><td>&quot;42-86-38&quot;</td><td>&quot;Barclays Bank&quot;</td></tr><tr><td>5404</td><td>34302539</td><td>&quot;53-28-21&quot;</td><td>&quot;Barclays Bank&quot;</td></tr><tr><td>9013</td><td>13350031</td><td>&quot;93-87-71&quot;</td><td>&quot;Natwest&quot;</td></tr><tr><td>2535</td><td>68745993</td><td>&quot;57-14-32&quot;</td><td>&quot;Barclays Bank&quot;</td></tr></tbody></table></div>"
      ],
      "text/plain": [
       "shape: (5, 4)\n",
       "┌────────────────┬────────────────┬───────────┬──────────────────┐\n",
       "│ Transaction ID ┆ Account Number ┆ Sort Code ┆ Bank             │\n",
       "│ ---            ┆ ---            ┆ ---       ┆ ---              │\n",
       "│ i64            ┆ i64            ┆ str       ┆ str              │\n",
       "╞════════════════╪════════════════╪═══════════╪══════════════════╡\n",
       "│ 3888           ┆ 62230725       ┆ 95-98-82  ┆ Data Source Bank │\n",
       "│ 4746           ┆ 83172326       ┆ 42-86-38  ┆ Barclays Bank    │\n",
       "│ 5404           ┆ 34302539       ┆ 53-28-21  ┆ Barclays Bank    │\n",
       "│ 9013           ┆ 13350031       ┆ 93-87-71  ┆ Natwest          │\n",
       "│ 2535           ┆ 68745993       ┆ 57-14-32  ┆ Barclays Bank    │\n",
       "└────────────────┴────────────────┴───────────┴──────────────────┘"
      ]
     },
     "execution_count": 13,
     "metadata": {},
     "output_type": "execute_result"
    }
   ],
   "source": [
    "\n",
    "\n",
    "pf.ProfileReport(pd.read_csv(transaction_file)).to_file('transactions_profile.html')\n",
    "df_transactions.head(5)\n"
   ]
  },
  {
   "cell_type": "code",
   "execution_count": 3,
   "metadata": {},
   "outputs": [
    {
     "data": {
      "text/html": [
       "<div><style>\n",
       ".dataframe > thead > tr > th,\n",
       ".dataframe > tbody > tr > td {\n",
       "  text-align: right;\n",
       "}\n",
       "</style>\n",
       "<small>shape: (3, 4)</small><table border=\"1\" class=\"dataframe\"><thead><tr><th>Transaction ID</th><th>Account Number</th><th>Bank</th><th>new_Sort Code</th></tr><tr><td>i64</td><td>i64</td><td>str</td><td>str</td></tr></thead><tbody><tr><td>3888</td><td>62230725</td><td>&quot;Data Source Bank&quot;</td><td>&quot;959882&quot;</td></tr><tr><td>4746</td><td>83172326</td><td>&quot;Barclays Bank&quot;</td><td>&quot;428638&quot;</td></tr><tr><td>5404</td><td>34302539</td><td>&quot;Barclays Bank&quot;</td><td>&quot;532821&quot;</td></tr></tbody></table></div>"
      ],
      "text/plain": [
       "shape: (3, 4)\n",
       "┌────────────────┬────────────────┬──────────────────┬───────────────┐\n",
       "│ Transaction ID ┆ Account Number ┆ Bank             ┆ new_Sort Code │\n",
       "│ ---            ┆ ---            ┆ ---              ┆ ---           │\n",
       "│ i64            ┆ i64            ┆ str              ┆ str           │\n",
       "╞════════════════╪════════════════╪══════════════════╪═══════════════╡\n",
       "│ 3888           ┆ 62230725       ┆ Data Source Bank ┆ 959882        │\n",
       "│ 4746           ┆ 83172326       ┆ Barclays Bank    ┆ 428638        │\n",
       "│ 5404           ┆ 34302539       ┆ Barclays Bank    ┆ 532821        │\n",
       "└────────────────┴────────────────┴──────────────────┴───────────────┘"
      ]
     },
     "execution_count": 3,
     "metadata": {},
     "output_type": "execute_result"
    }
   ],
   "source": [
    "df_transactions=df_transactions.with_columns(\n",
    "    pl.col('Sort Code').str.splitn('-',3).alias('fields')).unnest('fields')\n",
    "\n",
    "\n",
    "df_transactions=df_transactions.with_columns(\n",
    "    (pl.col('field_0') + pl.col('field_1') + pl.col('field_2')).alias('new_Sort Code')).drop(['field_0','field_1','field_2','Sort Code'])\n",
    "\n",
    "df_transactions.head(3)"
   ]
  },
  {
   "cell_type": "code",
   "execution_count": 4,
   "id": "ad7579a7",
   "metadata": {},
   "outputs": [
    {
     "data": {
      "text/html": [
       "<div><style>\n",
       ".dataframe > thead > tr > th,\n",
       ".dataframe > tbody > tr > td {\n",
       "  text-align: right;\n",
       "}\n",
       "</style>\n",
       "<small>shape: (3, 6)</small><table border=\"1\" class=\"dataframe\"><thead><tr><th>Transaction ID</th><th>Account Number</th><th>Bank</th><th>new_Sort Code</th><th>SWIFT code</th><th>Check Digits</th></tr><tr><td>i64</td><td>i64</td><td>str</td><td>str</td><td>str</td><td>str</td></tr></thead><tbody><tr><td>3888</td><td>62230725</td><td>&quot;Data Source Bank&quot;</td><td>&quot;959882&quot;</td><td>&quot;DSBX&quot;</td><td>&quot;12&quot;</td></tr><tr><td>4746</td><td>83172326</td><td>&quot;Barclays Bank&quot;</td><td>&quot;428638&quot;</td><td>&quot;BARC&quot;</td><td>&quot;22&quot;</td></tr><tr><td>5404</td><td>34302539</td><td>&quot;Barclays Bank&quot;</td><td>&quot;532821&quot;</td><td>&quot;BARC&quot;</td><td>&quot;22&quot;</td></tr></tbody></table></div>"
      ],
      "text/plain": [
       "shape: (3, 6)\n",
       "┌────────────────┬────────────────┬──────────────────┬───────────────┬────────────┬──────────────┐\n",
       "│ Transaction ID ┆ Account Number ┆ Bank             ┆ new_Sort Code ┆ SWIFT code ┆ Check Digits │\n",
       "│ ---            ┆ ---            ┆ ---              ┆ ---           ┆ ---        ┆ ---          │\n",
       "│ i64            ┆ i64            ┆ str              ┆ str           ┆ str        ┆ str          │\n",
       "╞════════════════╪════════════════╪══════════════════╪═══════════════╪════════════╪══════════════╡\n",
       "│ 3888           ┆ 62230725       ┆ Data Source Bank ┆ 959882        ┆ DSBX       ┆ 12           │\n",
       "│ 4746           ┆ 83172326       ┆ Barclays Bank    ┆ 428638        ┆ BARC       ┆ 22           │\n",
       "│ 5404           ┆ 34302539       ┆ Barclays Bank    ┆ 532821        ┆ BARC       ┆ 22           │\n",
       "└────────────────┴────────────────┴──────────────────┴───────────────┴────────────┴──────────────┘"
      ]
     },
     "execution_count": 4,
     "metadata": {},
     "output_type": "execute_result"
    }
   ],
   "source": [
    "df_transactions=df_transactions.join(\n",
    "    df_swift_codes,\n",
    "    left_on='Bank',\n",
    "    right_on='Bank',\n",
    "    how='left'\n",
    "\n",
    ")\n",
    "\n",
    "df_transactions.head(3)"
   ]
  },
  {
   "cell_type": "code",
   "execution_count": 5,
   "id": "5e806eb2",
   "metadata": {},
   "outputs": [
    {
     "data": {
      "text/html": [
       "<div><style>\n",
       ".dataframe > thead > tr > th,\n",
       ".dataframe > tbody > tr > td {\n",
       "  text-align: right;\n",
       "}\n",
       "</style>\n",
       "<small>shape: (3, 7)</small><table border=\"1\" class=\"dataframe\"><thead><tr><th>Transaction ID</th><th>Account Number</th><th>Bank</th><th>new_Sort Code</th><th>SWIFT code</th><th>Check Digits</th><th>Country Code</th></tr><tr><td>i64</td><td>i64</td><td>str</td><td>str</td><td>str</td><td>str</td><td>str</td></tr></thead><tbody><tr><td>3888</td><td>62230725</td><td>&quot;Data Source Bank&quot;</td><td>&quot;959882&quot;</td><td>&quot;DSBX&quot;</td><td>&quot;12&quot;</td><td>&quot;GB&quot;</td></tr><tr><td>4746</td><td>83172326</td><td>&quot;Barclays Bank&quot;</td><td>&quot;428638&quot;</td><td>&quot;BARC&quot;</td><td>&quot;22&quot;</td><td>&quot;GB&quot;</td></tr><tr><td>5404</td><td>34302539</td><td>&quot;Barclays Bank&quot;</td><td>&quot;532821&quot;</td><td>&quot;BARC&quot;</td><td>&quot;22&quot;</td><td>&quot;GB&quot;</td></tr></tbody></table></div>"
      ],
      "text/plain": [
       "shape: (3, 7)\n",
       "┌────────────┬────────────┬────────────────┬──────────┬────────────┬───────────────┬───────────────┐\n",
       "│ Transactio ┆ Account    ┆ Bank           ┆ new_Sort ┆ SWIFT code ┆ Check Digits  ┆ Country Code  │\n",
       "│ n ID       ┆ Number     ┆ ---            ┆ Code     ┆ ---        ┆ ---           ┆ ---           │\n",
       "│ ---        ┆ ---        ┆ str            ┆ ---      ┆ str        ┆ str           ┆ str           │\n",
       "│ i64        ┆ i64        ┆                ┆ str      ┆            ┆               ┆               │\n",
       "╞════════════╪════════════╪════════════════╪══════════╪════════════╪═══════════════╪═══════════════╡\n",
       "│ 3888       ┆ 62230725   ┆ Data Source    ┆ 959882   ┆ DSBX       ┆ 12            ┆ GB            │\n",
       "│            ┆            ┆ Bank           ┆          ┆            ┆               ┆               │\n",
       "│ 4746       ┆ 83172326   ┆ Barclays Bank  ┆ 428638   ┆ BARC       ┆ 22            ┆ GB            │\n",
       "│ 5404       ┆ 34302539   ┆ Barclays Bank  ┆ 532821   ┆ BARC       ┆ 22            ┆ GB            │\n",
       "└────────────┴────────────┴────────────────┴──────────┴────────────┴───────────────┴───────────────┘"
      ]
     },
     "execution_count": 5,
     "metadata": {},
     "output_type": "execute_result"
    }
   ],
   "source": [
    "df_transactions=df_transactions.with_columns(\n",
    "    pl.lit('GB').alias('Country Code')\n",
    ")\n",
    "\n",
    "df_transactions.head(3)"
   ]
  },
  {
   "cell_type": "code",
   "execution_count": 6,
   "id": "befc52c6",
   "metadata": {},
   "outputs": [],
   "source": [
    "df_transactions=df_transactions.with_columns(\n",
    "    pl.col('Account Number').cast(pl.Utf8)\n",
    ")"
   ]
  },
  {
   "cell_type": "code",
   "execution_count": 7,
   "id": "e69b0986",
   "metadata": {},
   "outputs": [],
   "source": [
    "df_transactions=df_transactions.with_columns(\n",
    "    (pl.col('Country Code') + pl.col('Check Digits') + pl.col('new_Sort Code') +  pl.col('Account Number')).alias('IBAN')\n",
    ")"
   ]
  },
  {
   "cell_type": "code",
   "execution_count": 8,
   "id": "8205d2c3",
   "metadata": {},
   "outputs": [],
   "source": [
    "df_transactions=df_transactions.select(pl.col('Transaction ID','IBAN'))\n",
    "\n",
    "df_transactions.write_csv('output.csv')"
   ]
  }
 ],
 "metadata": {
  "kernelspec": {
   "display_name": "Python 3 (ipykernel)",
   "language": "python",
   "name": "python3"
  },
  "language_info": {
   "codemirror_mode": {
    "name": "ipython",
    "version": 3
   },
   "file_extension": ".py",
   "mimetype": "text/x-python",
   "name": "python",
   "nbconvert_exporter": "python",
   "pygments_lexer": "ipython3",
   "version": "3.10.11"
  }
 },
 "nbformat": 4,
 "nbformat_minor": 5
}
