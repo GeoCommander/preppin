{
 "cells": [
  {
   "cell_type": "code",
   "execution_count": 1,
   "id": "d29de565-7454-4f09-b69b-0c4b10d2bfc1",
   "metadata": {},
   "outputs": [],
   "source": [
    "import polars as pl\n",
    "\n",
    "file='~/Downloads/PD 2023 Wk 1 Input.csv'\n",
    "\n",
    "\n",
    "df=pl.read_csv(file)"
   ]
  },
  {
   "cell_type": "code",
   "execution_count": 2,
   "id": "079010e8-93b8-4130-ae9d-96e58144364b",
   "metadata": {},
   "outputs": [
    {
     "data": {
      "text/plain": [
       "{'Transaction Code': Utf8,\n",
       " 'Value': Int64,\n",
       " 'Customer Code': Int64,\n",
       " 'Online or In-Person': Int64,\n",
       " 'Transaction Date': Utf8}"
      ]
     },
     "execution_count": 2,
     "metadata": {},
     "output_type": "execute_result"
    }
   ],
   "source": [
    "df.schema"
   ]
  },
  {
   "cell_type": "code",
   "execution_count": 3,
   "id": "c76d7791-1ea0-40dd-ad48-288698225f31",
   "metadata": {},
   "outputs": [
    {
     "data": {
      "text/html": [
       "<div><style>\n",
       ".dataframe > thead > tr > th,\n",
       ".dataframe > tbody > tr > td {\n",
       "  text-align: right;\n",
       "}\n",
       "</style>\n",
       "<small>shape: (3, 5)</small><table border=\"1\" class=\"dataframe\"><thead><tr><th>Transaction Code</th><th>Value</th><th>Customer Code</th><th>Online or In-Person</th><th>Transaction Date</th></tr><tr><td>str</td><td>i64</td><td>i64</td><td>i64</td><td>str</td></tr></thead><tbody><tr><td>&quot;DSB-909-233-83…</td><td>9952</td><td>100010</td><td>1</td><td>&quot;18/12/2023 00:…</td></tr><tr><td>&quot;DS-782-399-288…</td><td>9957</td><td>100002</td><td>1</td><td>&quot;26/03/2023 00:…</td></tr><tr><td>&quot;DS-586-726-999…</td><td>9967</td><td>100007</td><td>2</td><td>&quot;20/09/2023 00:…</td></tr></tbody></table></div>"
      ],
      "text/plain": [
       "shape: (3, 5)\n",
       "┌──────────────────┬───────┬───────────────┬─────────────────────┬─────────────────────┐\n",
       "│ Transaction Code ┆ Value ┆ Customer Code ┆ Online or In-Person ┆ Transaction Date    │\n",
       "│ ---              ┆ ---   ┆ ---           ┆ ---                 ┆ ---                 │\n",
       "│ str              ┆ i64   ┆ i64           ┆ i64                 ┆ str                 │\n",
       "╞══════════════════╪═══════╪═══════════════╪═════════════════════╪═════════════════════╡\n",
       "│ DSB-909-233-831  ┆ 9952  ┆ 100010        ┆ 1                   ┆ 18/12/2023 00:00:00 │\n",
       "│ DS-782-399-288   ┆ 9957  ┆ 100002        ┆ 1                   ┆ 26/03/2023 00:00:00 │\n",
       "│ DS-586-726-999   ┆ 9967  ┆ 100007        ┆ 2                   ┆ 20/09/2023 00:00:00 │\n",
       "└──────────────────┴───────┴───────────────┴─────────────────────┴─────────────────────┘"
      ]
     },
     "execution_count": 3,
     "metadata": {},
     "output_type": "execute_result"
    }
   ],
   "source": [
    "df.sort('Value').tail(3)"
   ]
  },
  {
   "cell_type": "code",
   "execution_count": 4,
   "id": "63032dab-f50c-452e-8ae0-c3ddd892dd1a",
   "metadata": {},
   "outputs": [
    {
     "data": {
      "text/html": [
       "<div><style>\n",
       ".dataframe > thead > tr > th,\n",
       ".dataframe > tbody > tr > td {\n",
       "  text-align: right;\n",
       "}\n",
       "</style>\n",
       "<small>shape: (1, 5)</small><table border=\"1\" class=\"dataframe\"><thead><tr><th>Transaction Code</th><th>Value</th><th>Customer Code</th><th>Online or In-Person</th><th>Transaction Date</th></tr><tr><td>u32</td><td>u32</td><td>u32</td><td>u32</td><td>u32</td></tr></thead><tbody><tr><td>0</td><td>0</td><td>0</td><td>0</td><td>0</td></tr></tbody></table></div>"
      ],
      "text/plain": [
       "shape: (1, 5)\n",
       "┌──────────────────┬───────┬───────────────┬─────────────────────┬──────────────────┐\n",
       "│ Transaction Code ┆ Value ┆ Customer Code ┆ Online or In-Person ┆ Transaction Date │\n",
       "│ ---              ┆ ---   ┆ ---           ┆ ---                 ┆ ---              │\n",
       "│ u32              ┆ u32   ┆ u32           ┆ u32                 ┆ u32              │\n",
       "╞══════════════════╪═══════╪═══════════════╪═════════════════════╪══════════════════╡\n",
       "│ 0                ┆ 0     ┆ 0             ┆ 0                   ┆ 0                │\n",
       "└──────────────────┴───────┴───────────────┴─────────────────────┴──────────────────┘"
      ]
     },
     "execution_count": 4,
     "metadata": {},
     "output_type": "execute_result"
    }
   ],
   "source": [
    "df.null_count()"
   ]
  },
  {
   "cell_type": "code",
   "execution_count": 5,
   "id": "0558115a-9da7-4848-946f-f13a92e31353",
   "metadata": {},
   "outputs": [
    {
     "data": {
      "text/html": [
       "<div><style>\n",
       ".dataframe > thead > tr > th,\n",
       ".dataframe > tbody > tr > td {\n",
       "  text-align: right;\n",
       "}\n",
       "</style>\n",
       "<small>shape: (5, 6)</small><table border=\"1\" class=\"dataframe\"><thead><tr><th>Transaction Code</th><th>Value</th><th>Customer Code</th><th>Online or In-Person</th><th>Transaction Date</th><th>fields</th></tr><tr><td>str</td><td>i64</td><td>i64</td><td>i64</td><td>str</td><td>struct[2]</td></tr></thead><tbody><tr><td>&quot;DTB-716-679-57…</td><td>1448</td><td>100001</td><td>2</td><td>&quot;20/03/2023 00:…</td><td>{&quot;DTB&quot;,&quot;716-679-576&quot;}</td></tr><tr><td>&quot;DS-795-814-303…</td><td>7839</td><td>100001</td><td>2</td><td>&quot;15/11/2023 00:…</td><td>{&quot;DS&quot;,&quot;795-814-303&quot;}</td></tr><tr><td>&quot;DSB-807-592-40…</td><td>5520</td><td>100005</td><td>1</td><td>&quot;14/07/2023 00:…</td><td>{&quot;DSB&quot;,&quot;807-592-406&quot;}</td></tr><tr><td>&quot;DS-367-545-264…</td><td>7957</td><td>100007</td><td>2</td><td>&quot;18/08/2023 00:…</td><td>{&quot;DS&quot;,&quot;367-545-264&quot;}</td></tr><tr><td>&quot;DSB-474-374-85…</td><td>5375</td><td>100000</td><td>2</td><td>&quot;26/08/2023 00:…</td><td>{&quot;DSB&quot;,&quot;474-374-857&quot;}</td></tr></tbody></table></div>"
      ],
      "text/plain": [
       "shape: (5, 6)\n",
       "┌────────────────────┬───────┬───────────────┬───────────┬────────────────────┬────────────────────┐\n",
       "│ Transaction Code   ┆ Value ┆ Customer Code ┆ Online or ┆ Transaction Date   ┆ fields             │\n",
       "│ ---                ┆ ---   ┆ ---           ┆ In-Person ┆ ---                ┆ ---                │\n",
       "│ str                ┆ i64   ┆ i64           ┆ ---       ┆ str                ┆ struct[2]          │\n",
       "│                    ┆       ┆               ┆ i64       ┆                    ┆                    │\n",
       "╞════════════════════╪═══════╪═══════════════╪═══════════╪════════════════════╪════════════════════╡\n",
       "│ DTB-716-679-576    ┆ 1448  ┆ 100001        ┆ 2         ┆ 20/03/2023         ┆ {\"DTB\",\"716-679-57 │\n",
       "│                    ┆       ┆               ┆           ┆ 00:00:00           ┆ 6\"}                │\n",
       "│ DS-795-814-303     ┆ 7839  ┆ 100001        ┆ 2         ┆ 15/11/2023         ┆ {\"DS\",\"795-814-303 │\n",
       "│                    ┆       ┆               ┆           ┆ 00:00:00           ┆ \"}                 │\n",
       "│ DSB-807-592-406    ┆ 5520  ┆ 100005        ┆ 1         ┆ 14/07/2023         ┆ {\"DSB\",\"807-592-40 │\n",
       "│                    ┆       ┆               ┆           ┆ 00:00:00           ┆ 6\"}                │\n",
       "│ DS-367-545-264     ┆ 7957  ┆ 100007        ┆ 2         ┆ 18/08/2023         ┆ {\"DS\",\"367-545-264 │\n",
       "│                    ┆       ┆               ┆           ┆ 00:00:00           ┆ \"}                 │\n",
       "│ DSB-474-374-857    ┆ 5375  ┆ 100000        ┆ 2         ┆ 26/08/2023         ┆ {\"DSB\",\"474-374-85 │\n",
       "│                    ┆       ┆               ┆           ┆ 00:00:00           ┆ 7\"}                │\n",
       "└────────────────────┴───────┴───────────────┴───────────┴────────────────────┴────────────────────┘"
      ]
     },
     "execution_count": 5,
     "metadata": {},
     "output_type": "execute_result"
    }
   ],
   "source": [
    "\n",
    "\n",
    "\n",
    "# df = df.with_columns(\n",
    "#     [\n",
    "#         pl.col(\"Transaction Code\")\n",
    "#         .str.splitn(\"-\", 2)\n",
    "#         .struct.rename_fields([\"first_part\", \"second_part\"])\n",
    "#         .alias(\"fields\"),\n",
    "#     ]\n",
    "# ).unnest(\"fields\")\n",
    "\n",
    "\n",
    "df = df.with_columns(\n",
    "    [\n",
    "    pl.col('Transaction Code')\n",
    "    .str.splitn('-',2)\n",
    "    .struct.rename_fields(['Bank Code','Transaction Number'])\n",
    "    .alias('fields')\n",
    "    ]\n",
    ")\n",
    "\n",
    "df.head()\n",
    "\n"
   ]
  },
  {
   "cell_type": "code",
   "execution_count": 6,
   "id": "a1b11ed1-b9b5-4e03-aec3-52f0b4a3631e",
   "metadata": {},
   "outputs": [
    {
     "data": {
      "text/html": [
       "<div><style>\n",
       ".dataframe > thead > tr > th,\n",
       ".dataframe > tbody > tr > td {\n",
       "  text-align: right;\n",
       "}\n",
       "</style>\n",
       "<small>shape: (365, 7)</small><table border=\"1\" class=\"dataframe\"><thead><tr><th>Transaction Code</th><th>Value</th><th>Customer Code</th><th>Online or In-Person</th><th>Transaction Date</th><th>Bank Code</th><th>Transaction Number</th></tr><tr><td>str</td><td>i64</td><td>i64</td><td>i64</td><td>str</td><td>str</td><td>str</td></tr></thead><tbody><tr><td>&quot;DTB-716-679-57…</td><td>1448</td><td>100001</td><td>2</td><td>&quot;20/03/2023 00:…</td><td>&quot;DTB&quot;</td><td>&quot;716-679-576&quot;</td></tr><tr><td>&quot;DS-795-814-303…</td><td>7839</td><td>100001</td><td>2</td><td>&quot;15/11/2023 00:…</td><td>&quot;DS&quot;</td><td>&quot;795-814-303&quot;</td></tr><tr><td>&quot;DSB-807-592-40…</td><td>5520</td><td>100005</td><td>1</td><td>&quot;14/07/2023 00:…</td><td>&quot;DSB&quot;</td><td>&quot;807-592-406&quot;</td></tr><tr><td>&quot;DS-367-545-264…</td><td>7957</td><td>100007</td><td>2</td><td>&quot;18/08/2023 00:…</td><td>&quot;DS&quot;</td><td>&quot;367-545-264&quot;</td></tr><tr><td>&quot;DSB-474-374-85…</td><td>5375</td><td>100000</td><td>2</td><td>&quot;26/08/2023 00:…</td><td>&quot;DSB&quot;</td><td>&quot;474-374-857&quot;</td></tr><tr><td>&quot;DSB-448-546-34…</td><td>4525</td><td>100009</td><td>1</td><td>&quot;27/05/2023 00:…</td><td>&quot;DSB&quot;</td><td>&quot;448-546-348&quot;</td></tr><tr><td>&quot;DS-213-969-866…</td><td>2321</td><td>100007</td><td>2</td><td>&quot;04/01/2023 00:…</td><td>&quot;DS&quot;</td><td>&quot;213-969-866&quot;</td></tr><tr><td>&quot;DS-341-615-729…</td><td>1967</td><td>100004</td><td>1</td><td>&quot;22/01/2023 00:…</td><td>&quot;DS&quot;</td><td>&quot;341-615-729&quot;</td></tr><tr><td>&quot;DTB-200-951-62…</td><td>8105</td><td>100003</td><td>2</td><td>&quot;10/01/2023 00:…</td><td>&quot;DTB&quot;</td><td>&quot;200-951-620&quot;</td></tr><tr><td>&quot;DS-481-733-170…</td><td>7908</td><td>100008</td><td>2</td><td>&quot;26/11/2023 00:…</td><td>&quot;DS&quot;</td><td>&quot;481-733-170&quot;</td></tr><tr><td>&quot;DTB-625-200-66…</td><td>8772</td><td>100009</td><td>2</td><td>&quot;03/03/2023 00:…</td><td>&quot;DTB&quot;</td><td>&quot;625-200-665&quot;</td></tr><tr><td>&quot;DSB-422-218-32…</td><td>118</td><td>100010</td><td>1</td><td>&quot;12/05/2023 00:…</td><td>&quot;DSB&quot;</td><td>&quot;422-218-322&quot;</td></tr><tr><td>&hellip;</td><td>&hellip;</td><td>&hellip;</td><td>&hellip;</td><td>&hellip;</td><td>&hellip;</td><td>&hellip;</td></tr><tr><td>&quot;DSB-322-596-20…</td><td>900</td><td>100001</td><td>1</td><td>&quot;04/02/2023 00:…</td><td>&quot;DSB&quot;</td><td>&quot;322-596-206&quot;</td></tr><tr><td>&quot;DSB-384-247-35…</td><td>6446</td><td>100003</td><td>1</td><td>&quot;28/06/2023 00:…</td><td>&quot;DSB&quot;</td><td>&quot;384-247-358&quot;</td></tr><tr><td>&quot;DTB-875-958-76…</td><td>5762</td><td>100010</td><td>1</td><td>&quot;01/01/2024 00:…</td><td>&quot;DTB&quot;</td><td>&quot;875-958-765&quot;</td></tr><tr><td>&quot;DS-602-190-930…</td><td>979</td><td>100002</td><td>2</td><td>&quot;30/06/2023 00:…</td><td>&quot;DS&quot;</td><td>&quot;602-190-930&quot;</td></tr><tr><td>&quot;DTB-640-177-85…</td><td>7500</td><td>100005</td><td>1</td><td>&quot;28/09/2023 00:…</td><td>&quot;DTB&quot;</td><td>&quot;640-177-859&quot;</td></tr><tr><td>&quot;DS-236-990-748…</td><td>7767</td><td>100001</td><td>1</td><td>&quot;11/07/2023 00:…</td><td>&quot;DS&quot;</td><td>&quot;236-990-748&quot;</td></tr><tr><td>&quot;DSB-879-328-61…</td><td>8316</td><td>100008</td><td>1</td><td>&quot;25/11/2023 00:…</td><td>&quot;DSB&quot;</td><td>&quot;879-328-611&quot;</td></tr><tr><td>&quot;DTB-116-439-10…</td><td>6708</td><td>100001</td><td>1</td><td>&quot;29/01/2023 00:…</td><td>&quot;DTB&quot;</td><td>&quot;116-439-102&quot;</td></tr><tr><td>&quot;DS-849-981-514…</td><td>8500</td><td>100000</td><td>2</td><td>&quot;29/10/2023 00:…</td><td>&quot;DS&quot;</td><td>&quot;849-981-514&quot;</td></tr><tr><td>&quot;DS-726-686-279…</td><td>9455</td><td>100006</td><td>2</td><td>&quot;10/08/2023 00:…</td><td>&quot;DS&quot;</td><td>&quot;726-686-279&quot;</td></tr><tr><td>&quot;DS-551-937-380…</td><td>475</td><td>100002</td><td>1</td><td>&quot;11/10/2023 00:…</td><td>&quot;DS&quot;</td><td>&quot;551-937-380&quot;</td></tr><tr><td>&quot;DS-976-542-770…</td><td>7364</td><td>100009</td><td>1</td><td>&quot;09/10/2023 00:…</td><td>&quot;DS&quot;</td><td>&quot;976-542-770&quot;</td></tr></tbody></table></div>"
      ],
      "text/plain": [
       "shape: (365, 7)\n",
       "┌────────────────────┬───────┬──────────┬───────────┬─────────────┬───────────┬────────────────────┐\n",
       "│ Transaction Code   ┆ Value ┆ Customer ┆ Online or ┆ Transaction ┆ Bank Code ┆ Transaction Number │\n",
       "│ ---                ┆ ---   ┆ Code     ┆ In-Person ┆ Date        ┆ ---       ┆ ---                │\n",
       "│ str                ┆ i64   ┆ ---      ┆ ---       ┆ ---         ┆ str       ┆ str                │\n",
       "│                    ┆       ┆ i64      ┆ i64       ┆ str         ┆           ┆                    │\n",
       "╞════════════════════╪═══════╪══════════╪═══════════╪═════════════╪═══════════╪════════════════════╡\n",
       "│ DTB-716-679-576    ┆ 1448  ┆ 100001   ┆ 2         ┆ 20/03/2023  ┆ DTB       ┆ 716-679-576        │\n",
       "│                    ┆       ┆          ┆           ┆ 00:00:00    ┆           ┆                    │\n",
       "│ DS-795-814-303     ┆ 7839  ┆ 100001   ┆ 2         ┆ 15/11/2023  ┆ DS        ┆ 795-814-303        │\n",
       "│                    ┆       ┆          ┆           ┆ 00:00:00    ┆           ┆                    │\n",
       "│ DSB-807-592-406    ┆ 5520  ┆ 100005   ┆ 1         ┆ 14/07/2023  ┆ DSB       ┆ 807-592-406        │\n",
       "│                    ┆       ┆          ┆           ┆ 00:00:00    ┆           ┆                    │\n",
       "│ DS-367-545-264     ┆ 7957  ┆ 100007   ┆ 2         ┆ 18/08/2023  ┆ DS        ┆ 367-545-264        │\n",
       "│                    ┆       ┆          ┆           ┆ 00:00:00    ┆           ┆                    │\n",
       "│ …                  ┆ …     ┆ …        ┆ …         ┆ …           ┆ …         ┆ …                  │\n",
       "│ DS-849-981-514     ┆ 8500  ┆ 100000   ┆ 2         ┆ 29/10/2023  ┆ DS        ┆ 849-981-514        │\n",
       "│                    ┆       ┆          ┆           ┆ 00:00:00    ┆           ┆                    │\n",
       "│ DS-726-686-279     ┆ 9455  ┆ 100006   ┆ 2         ┆ 10/08/2023  ┆ DS        ┆ 726-686-279        │\n",
       "│                    ┆       ┆          ┆           ┆ 00:00:00    ┆           ┆                    │\n",
       "│ DS-551-937-380     ┆ 475   ┆ 100002   ┆ 1         ┆ 11/10/2023  ┆ DS        ┆ 551-937-380        │\n",
       "│                    ┆       ┆          ┆           ┆ 00:00:00    ┆           ┆                    │\n",
       "│ DS-976-542-770     ┆ 7364  ┆ 100009   ┆ 1         ┆ 09/10/2023  ┆ DS        ┆ 976-542-770        │\n",
       "│                    ┆       ┆          ┆           ┆ 00:00:00    ┆           ┆                    │\n",
       "└────────────────────┴───────┴──────────┴───────────┴─────────────┴───────────┴────────────────────┘"
      ]
     },
     "execution_count": 6,
     "metadata": {},
     "output_type": "execute_result"
    }
   ],
   "source": [
    "df.unnest('fields')"
   ]
  },
  {
   "cell_type": "code",
   "execution_count": 7,
   "id": "20cdbcf9-da1f-4e17-b254-60e9c07dadcb",
   "metadata": {},
   "outputs": [
    {
     "data": {
      "text/html": [
       "<div><style>\n",
       ".dataframe > thead > tr > th,\n",
       ".dataframe > tbody > tr > td {\n",
       "  text-align: right;\n",
       "}\n",
       "</style>\n",
       "<small>shape: (11, 2)</small><table border=\"1\" class=\"dataframe\"><thead><tr><th>Customer Code</th><th>counts</th></tr><tr><td>i64</td><td>u32</td></tr></thead><tbody><tr><td>100010</td><td>44</td></tr><tr><td>100007</td><td>26</td></tr><tr><td>100002</td><td>28</td></tr><tr><td>100006</td><td>30</td></tr><tr><td>100001</td><td>38</td></tr><tr><td>100000</td><td>36</td></tr><tr><td>100008</td><td>32</td></tr><tr><td>100003</td><td>36</td></tr><tr><td>100004</td><td>36</td></tr><tr><td>100005</td><td>31</td></tr><tr><td>100009</td><td>28</td></tr></tbody></table></div>"
      ],
      "text/plain": [
       "shape: (11, 2)\n",
       "┌───────────────┬────────┐\n",
       "│ Customer Code ┆ counts │\n",
       "│ ---           ┆ ---    │\n",
       "│ i64           ┆ u32    │\n",
       "╞═══════════════╪════════╡\n",
       "│ 100010        ┆ 44     │\n",
       "│ 100007        ┆ 26     │\n",
       "│ 100002        ┆ 28     │\n",
       "│ 100006        ┆ 30     │\n",
       "│ …             ┆ …      │\n",
       "│ 100003        ┆ 36     │\n",
       "│ 100004        ┆ 36     │\n",
       "│ 100005        ┆ 31     │\n",
       "│ 100009        ┆ 28     │\n",
       "└───────────────┴────────┘"
      ]
     },
     "execution_count": 7,
     "metadata": {},
     "output_type": "execute_result"
    }
   ],
   "source": [
    "df['Customer Code'].value_counts()"
   ]
  },
  {
   "cell_type": "code",
   "execution_count": 8,
   "id": "8c9ef155-b83e-4e58-977e-fa0809f1b484",
   "metadata": {},
   "outputs": [
    {
     "name": "stdout",
     "output_type": "stream",
     "text": [
      "296 µs ± 4.44 µs per loop (mean ± std. dev. of 7 runs, 1,000 loops each)\n"
     ]
    }
   ],
   "source": [
    "%%timeit\n",
    "\n",
    "df.describe()"
   ]
  },
  {
   "cell_type": "code",
   "execution_count": null,
   "id": "e1aa656a-0c17-4b32-a77e-799214187eb5",
   "metadata": {},
   "outputs": [],
   "source": []
  }
 ],
 "metadata": {
  "kernelspec": {
   "display_name": "Python 3 (ipykernel)",
   "language": "python",
   "name": "python3"
  },
  "language_info": {
   "codemirror_mode": {
    "name": "ipython",
    "version": 3
   },
   "file_extension": ".py",
   "mimetype": "text/x-python",
   "name": "python",
   "nbconvert_exporter": "python",
   "pygments_lexer": "ipython3",
   "version": "3.10.11"
  }
 },
 "nbformat": 4,
 "nbformat_minor": 5
}
